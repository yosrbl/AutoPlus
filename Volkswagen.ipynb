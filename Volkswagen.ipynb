{
 "cells": [
  {
   "cell_type": "code",
   "execution_count": 198,
   "metadata": {},
   "outputs": [],
   "source": [
    "import pandas as pd\n",
    "import numpy as np\n",
    "import seaborn as sns\n",
    "import matplotlib.pyplot as plt\n",
    "from sklearn.preprocessing import OrdinalEncoder\n",
    "from sklearn.preprocessing import OneHotEncoder\n",
    "\n",
    "from sklearn.model_selection import train_test_split\n",
    "from sklearn.model_selection import cross_val_score\n",
    "from sklearn.model_selection import cross_validate, cross_val_predict\n",
    "from sklearn.model_selection import RepeatedKFold\n",
    "\n",
    "\n",
    "from sklearn.ensemble import RandomForestRegressor\n",
    "from sklearn.ensemble import GradientBoostingRegressor\n",
    "from sklearn.ensemble import AdaBoostRegressor\n",
    "#from sklearn.ensemble import HistGradientBoostingRegressor\n",
    "from sklearn.ensemble import BaggingRegressor\n",
    "from sklearn.ensemble import StackingRegressor\n",
    "\n",
    "\n",
    "from ngboost.ngboost import NGBoost\n",
    "from ngboost.learners import default_tree_learner\n",
    "import lightgbm\n",
    "from xgboost import XGBRegressor\n",
    "from catboost import CatBoostRegressor\n",
    "from sklearn.datasets import make_regression\n",
    "\n",
    "from statsmodels.regression.linear_model import OLS\n",
    "from statsmodels.tools import add_constant\n",
    "import statsmodels.api as sm\n",
    "from sklearn.metrics import *\n",
    "\n",
    "from sklearn.linear_model import LinearRegression\n",
    "from sklearn.linear_model import LassoCV\n",
    "from sklearn.linear_model import RidgeCV\n",
    "from sklearn.linear_model import Ridge\n",
    "\n",
    "\n",
    "\n",
    "\n",
    "# from numpy import asarray\n",
    "# from numpy import mean\n",
    "# from numpy import std\n",
    "#from sklearn.metrics import mean_squared_error\n",
    "\n",
    "\n",
    "\n",
    "\n",
    "\n",
    "from sklearn.pipeline import make_pipeline\n",
    "#from sklearn.experimental import enable_hist_gradient_boosting  # noqa\n",
    "\n",
    "\n",
    "from xgboost import XGBRegressor\n",
    "from catboost import CatBoostRegressor\n",
    "import lightgbm\n",
    "import time\n",
    "\n",
    "\n",
    "from ngboost.ngboost import NGBoost\n",
    "from ngboost.learners import default_tree_learner\n",
    "from ngboost.distns import Normal\n",
    "from ngboost.scores import MLE\n",
    "import lightgbm as lgb\n",
    "import xgboost as xgb\n",
    "from math import sqrt\n",
    "\n",
    "from matplotlib import pyplot"
   ]
  },
  {
   "cell_type": "code",
   "execution_count": 2,
   "metadata": {},
   "outputs": [],
   "source": [
    "df = pd.read_csv('Essai.csv')"
   ]
  },
  {
   "cell_type": "code",
   "execution_count": 3,
   "metadata": {},
   "outputs": [
    {
     "data": {
      "text/html": [
       "<div>\n",
       "<style scoped>\n",
       "    .dataframe tbody tr th:only-of-type {\n",
       "        vertical-align: middle;\n",
       "    }\n",
       "\n",
       "    .dataframe tbody tr th {\n",
       "        vertical-align: top;\n",
       "    }\n",
       "\n",
       "    .dataframe thead th {\n",
       "        text-align: right;\n",
       "    }\n",
       "</style>\n",
       "<table border=\"1\" class=\"dataframe\">\n",
       "  <thead>\n",
       "    <tr style=\"text-align: right;\">\n",
       "      <th></th>\n",
       "      <th>Marque</th>\n",
       "      <th>Modele</th>\n",
       "      <th>prix</th>\n",
       "      <th>annee</th>\n",
       "      <th>kilometrage</th>\n",
       "      <th>carburant</th>\n",
       "    </tr>\n",
       "  </thead>\n",
       "  <tbody>\n",
       "    <tr>\n",
       "      <th>0</th>\n",
       "      <td>Volkswagen</td>\n",
       "      <td>Passat</td>\n",
       "      <td>27.0</td>\n",
       "      <td>13</td>\n",
       "      <td>224.000</td>\n",
       "      <td>Diesel</td>\n",
       "    </tr>\n",
       "    <tr>\n",
       "      <th>1</th>\n",
       "      <td>Volkswagen</td>\n",
       "      <td>Polo</td>\n",
       "      <td>24.3</td>\n",
       "      <td>10</td>\n",
       "      <td>177.150</td>\n",
       "      <td>Essence</td>\n",
       "    </tr>\n",
       "    <tr>\n",
       "      <th>2</th>\n",
       "      <td>Volkswagen</td>\n",
       "      <td>Passat</td>\n",
       "      <td>35.0</td>\n",
       "      <td>12</td>\n",
       "      <td>280.000</td>\n",
       "      <td>Diesel</td>\n",
       "    </tr>\n",
       "    <tr>\n",
       "      <th>3</th>\n",
       "      <td>Volkswagen</td>\n",
       "      <td>Transporter</td>\n",
       "      <td>13.5</td>\n",
       "      <td>22</td>\n",
       "      <td>11.111</td>\n",
       "      <td>Diesel</td>\n",
       "    </tr>\n",
       "    <tr>\n",
       "      <th>4</th>\n",
       "      <td>Volkswagen</td>\n",
       "      <td>Golf 7</td>\n",
       "      <td>45.0</td>\n",
       "      <td>6</td>\n",
       "      <td>102.400</td>\n",
       "      <td>Essence</td>\n",
       "    </tr>\n",
       "  </tbody>\n",
       "</table>\n",
       "</div>"
      ],
      "text/plain": [
       "       Marque       Modele  prix  annee  kilometrage carburant\n",
       "0  Volkswagen       Passat  27.0     13      224.000    Diesel\n",
       "1  Volkswagen         Polo  24.3     10      177.150   Essence\n",
       "2  Volkswagen       Passat  35.0     12      280.000    Diesel\n",
       "3  Volkswagen  Transporter  13.5     22       11.111    Diesel\n",
       "4  Volkswagen       Golf 7  45.0      6      102.400   Essence"
      ]
     },
     "execution_count": 3,
     "metadata": {},
     "output_type": "execute_result"
    }
   ],
   "source": [
    "df.head()"
   ]
  },
  {
   "cell_type": "markdown",
   "metadata": {},
   "source": [
    "### The analysis of the variable modele"
   ]
  },
  {
   "cell_type": "code",
   "execution_count": 4,
   "metadata": {},
   "outputs": [
    {
     "data": {
      "image/png": "[encoded data removed]",
      "text/plain": [
       "<Figure size 936x504 with 1 Axes>"
      ]
     },
     "metadata": {
      "needs_background": "light"
     },
     "output_type": "display_data"
    }
   ],
   "source": [
    "plt.figure(figsize=(13,7))\n",
    "plt.title('MODELE DISTRIBUTION')\n",
    "ax = sns.countplot(df['Modele'])\n",
    "rotg = ax.set_xticklabels(ax.get_xticklabels(), rotation=90)"
   ]
  },
  {
   "cell_type": "code",
   "execution_count": 5,
   "metadata": {},
   "outputs": [],
   "source": [
    "# Passat_Auto = df[df.Modele =='Passat CC']\n",
    "# Passat_Auto.to_csv('Passat CC.csv', index=False)"
   ]
  },
  {
   "cell_type": "code",
   "execution_count": 6,
   "metadata": {},
   "outputs": [],
   "source": [
    "# n=0\n",
    "# for i in range(0,df['Marque'].count()):\n",
    "#     if(df['Modele'][i] =='Passat CC'):\n",
    "#         n=n+1\n",
    "# print(n)"
   ]
  },
  {
   "cell_type": "markdown",
   "metadata": {},
   "source": [
    "# **Feature engineering**"
   ]
  },
  {
   "cell_type": "markdown",
   "metadata": {},
   "source": [
    "## **1) Encodage des variables qualitatives**"
   ]
  },
  {
   "cell_type": "markdown",
   "metadata": {},
   "source": [
    "## a) Ordinal Encoder"
   ]
  },
  {
   "cell_type": "markdown",
   "metadata": {},
   "source": [
    "### Variable Modele"
   ]
  },
  {
   "cell_type": "code",
   "execution_count": 7,
   "metadata": {},
   "outputs": [
    {
     "data": {
      "text/plain": [
       "numpy.ndarray"
      ]
     },
     "execution_count": 7,
     "metadata": {},
     "output_type": "execute_result"
    }
   ],
   "source": [
    "DataFrame = df.copy()\n",
    "DataFrame = DataFrame.drop('prix', axis=1)\n",
    "DataFrame = DataFrame.drop('annee', axis=1)\n",
    "DataFrame = DataFrame.drop('kilometrage', axis=1)\n",
    "DataFrame = DataFrame.to_numpy()\n",
    "type(DataFrame)"
   ]
  },
  {
   "cell_type": "code",
   "execution_count": 8,
   "metadata": {},
   "outputs": [
    {
     "data": {
      "text/plain": [
       "array([['Volkswagen', 'Passat', 'Diesel'],\n",
       "       ['Volkswagen', 'Polo', 'Essence'],\n",
       "       ['Volkswagen', 'Passat', 'Diesel'],\n",
       "       ...,\n",
       "       ['Volkswagen', 'Passat CC', 'Essence'],\n",
       "       ['Volkswagen', 'Passat CC', 'Hybride'],\n",
       "       ['Volkswagen', 'Passat CC', 'Diesel']], dtype=object)"
      ]
     },
     "execution_count": 8,
     "metadata": {},
     "output_type": "execute_result"
    }
   ],
   "source": [
    "DataFrame"
   ]
  },
  {
   "cell_type": "code",
   "execution_count": 9,
   "metadata": {},
   "outputs": [],
   "source": [
    "encoder = OrdinalEncoder()\n",
    "DataFrame = encoder.fit_transform(DataFrame)"
   ]
  },
  {
   "cell_type": "code",
   "execution_count": 10,
   "metadata": {},
   "outputs": [],
   "source": [
    "DataFrame = pd.DataFrame(DataFrame)\n",
    "DataFrame.rename(columns={0 : 'Marque', 1: 'Modele', 2:'Carburant' }, inplace=True)"
   ]
  },
  {
   "cell_type": "code",
   "execution_count": 11,
   "metadata": {},
   "outputs": [
    {
     "data": {
      "text/html": [
       "<div>\n",
       "<style scoped>\n",
       "    .dataframe tbody tr th:only-of-type {\n",
       "        vertical-align: middle;\n",
       "    }\n",
       "\n",
       "    .dataframe tbody tr th {\n",
       "        vertical-align: top;\n",
       "    }\n",
       "\n",
       "    .dataframe thead th {\n",
       "        text-align: right;\n",
       "    }\n",
       "</style>\n",
       "<table border=\"1\" class=\"dataframe\">\n",
       "  <thead>\n",
       "    <tr style=\"text-align: right;\">\n",
       "      <th></th>\n",
       "      <th>Marque</th>\n",
       "      <th>Modele</th>\n",
       "      <th>Carburant</th>\n",
       "    </tr>\n",
       "  </thead>\n",
       "  <tbody>\n",
       "    <tr>\n",
       "      <th>0</th>\n",
       "      <td>0.0</td>\n",
       "      <td>10.0</td>\n",
       "      <td>0.0</td>\n",
       "    </tr>\n",
       "    <tr>\n",
       "      <th>1</th>\n",
       "      <td>0.0</td>\n",
       "      <td>12.0</td>\n",
       "      <td>2.0</td>\n",
       "    </tr>\n",
       "    <tr>\n",
       "      <th>2</th>\n",
       "      <td>0.0</td>\n",
       "      <td>10.0</td>\n",
       "      <td>0.0</td>\n",
       "    </tr>\n",
       "    <tr>\n",
       "      <th>3</th>\n",
       "      <td>0.0</td>\n",
       "      <td>14.0</td>\n",
       "      <td>0.0</td>\n",
       "    </tr>\n",
       "    <tr>\n",
       "      <th>4</th>\n",
       "      <td>0.0</td>\n",
       "      <td>8.0</td>\n",
       "      <td>2.0</td>\n",
       "    </tr>\n",
       "    <tr>\n",
       "      <th>...</th>\n",
       "      <td>...</td>\n",
       "      <td>...</td>\n",
       "      <td>...</td>\n",
       "    </tr>\n",
       "    <tr>\n",
       "      <th>9656</th>\n",
       "      <td>0.0</td>\n",
       "      <td>11.0</td>\n",
       "      <td>0.0</td>\n",
       "    </tr>\n",
       "    <tr>\n",
       "      <th>9657</th>\n",
       "      <td>0.0</td>\n",
       "      <td>11.0</td>\n",
       "      <td>2.0</td>\n",
       "    </tr>\n",
       "    <tr>\n",
       "      <th>9658</th>\n",
       "      <td>0.0</td>\n",
       "      <td>11.0</td>\n",
       "      <td>2.0</td>\n",
       "    </tr>\n",
       "    <tr>\n",
       "      <th>9659</th>\n",
       "      <td>0.0</td>\n",
       "      <td>11.0</td>\n",
       "      <td>3.0</td>\n",
       "    </tr>\n",
       "    <tr>\n",
       "      <th>9660</th>\n",
       "      <td>0.0</td>\n",
       "      <td>11.0</td>\n",
       "      <td>0.0</td>\n",
       "    </tr>\n",
       "  </tbody>\n",
       "</table>\n",
       "<p>9661 rows × 3 columns</p>\n",
       "</div>"
      ],
      "text/plain": [
       "      Marque  Modele  Carburant\n",
       "0        0.0    10.0        0.0\n",
       "1        0.0    12.0        2.0\n",
       "2        0.0    10.0        0.0\n",
       "3        0.0    14.0        0.0\n",
       "4        0.0     8.0        2.0\n",
       "...      ...     ...        ...\n",
       "9656     0.0    11.0        0.0\n",
       "9657     0.0    11.0        2.0\n",
       "9658     0.0    11.0        2.0\n",
       "9659     0.0    11.0        3.0\n",
       "9660     0.0    11.0        0.0\n",
       "\n",
       "[9661 rows x 3 columns]"
      ]
     },
     "execution_count": 11,
     "metadata": {},
     "output_type": "execute_result"
    }
   ],
   "source": [
    "DataFrame"
   ]
  },
  {
   "cell_type": "markdown",
   "metadata": {},
   "source": [
    "## b) One hot encoder"
   ]
  },
  {
   "cell_type": "markdown",
   "metadata": {},
   "source": [
    "### Variable Modele"
   ]
  },
  {
   "cell_type": "code",
   "execution_count": 12,
   "metadata": {},
   "outputs": [
    {
     "data": {
      "text/plain": [
       "array([[0., 0., 0., ..., 0., 0., 0.],\n",
       "       [0., 0., 0., ..., 1., 0., 0.],\n",
       "       [0., 0., 0., ..., 0., 0., 0.],\n",
       "       ...,\n",
       "       [0., 0., 0., ..., 0., 0., 0.],\n",
       "       [0., 0., 0., ..., 0., 0., 0.],\n",
       "       [0., 0., 0., ..., 0., 0., 0.]])"
      ]
     },
     "execution_count": 12,
     "metadata": {},
     "output_type": "execute_result"
    }
   ],
   "source": [
    "Modele=df[\"Modele\"]\n",
    "encoder = OneHotEncoder()\n",
    "tr_Modele=encoder.fit_transform(Modele.values.reshape(-1,1))\n",
    "tr_Modele.toarray()"
   ]
  },
  {
   "cell_type": "code",
   "execution_count": 13,
   "metadata": {},
   "outputs": [
    {
     "data": {
      "text/plain": [
       "[array(['Amarok', 'Caddy', 'Golf', 'Golf 2', 'Golf 3', 'Golf 4', 'Golf 5',\n",
       "        'Golf 6', 'Golf 7', 'Jetta', 'Passat', 'Passat CC', 'Polo',\n",
       "        'Tiguan', 'Transporter'], dtype=object)]"
      ]
     },
     "execution_count": 13,
     "metadata": {},
     "output_type": "execute_result"
    }
   ],
   "source": [
    "encoder.categories_"
   ]
  },
  {
   "cell_type": "code",
   "execution_count": 14,
   "metadata": {},
   "outputs": [],
   "source": [
    "Modele_df=pd.concat([pd.DataFrame(tr_Modele.toarray()\n",
    ",Modele.index,columns=['Amarok', 'Caddy', 'Golf', 'Golf 2', 'Golf 3', 'Golf 4', 'Golf 5',\n",
    "        'Golf 6', 'Golf 7', 'Jetta', 'Passat', 'Passat CC', 'Polo',\n",
    "        'Tiguan', 'Transporter']),Modele],axis=1)"
   ]
  },
  {
   "cell_type": "markdown",
   "metadata": {},
   "source": [
    "### Variable carburant"
   ]
  },
  {
   "cell_type": "code",
   "execution_count": 15,
   "metadata": {},
   "outputs": [
    {
     "data": {
      "text/plain": [
       "array([[1., 0., 0., 0.],\n",
       "       [0., 0., 1., 0.],\n",
       "       [1., 0., 0., 0.],\n",
       "       ...,\n",
       "       [0., 0., 1., 0.],\n",
       "       [0., 0., 0., 1.],\n",
       "       [1., 0., 0., 0.]])"
      ]
     },
     "execution_count": 15,
     "metadata": {},
     "output_type": "execute_result"
    }
   ],
   "source": [
    "Carburant=df[\"carburant\"]\n",
    "encoder = OneHotEncoder()\n",
    "tr_Carburant=encoder.fit_transform(Carburant.values.reshape(-1,1))\n",
    "tr_Carburant.toarray()"
   ]
  },
  {
   "cell_type": "code",
   "execution_count": 16,
   "metadata": {},
   "outputs": [
    {
     "data": {
      "text/plain": [
       "[array(['Diesel', 'Electrique', 'Essence', 'Hybride'], dtype=object)]"
      ]
     },
     "execution_count": 16,
     "metadata": {},
     "output_type": "execute_result"
    }
   ],
   "source": [
    "encoder.categories_"
   ]
  },
  {
   "cell_type": "code",
   "execution_count": 17,
   "metadata": {},
   "outputs": [],
   "source": [
    "Carburant_df=pd.concat([pd.DataFrame(tr_Carburant.toarray()\n",
    ",Carburant.index,columns=['Diesel', 'Electrique', 'Essence', 'Hybride']),Carburant],axis=1)"
   ]
  },
  {
   "cell_type": "markdown",
   "metadata": {},
   "source": [
    "## **2) Normalisation des variables quantitatives**"
   ]
  },
  {
   "cell_type": "code",
   "execution_count": 18,
   "metadata": {},
   "outputs": [],
   "source": [
    "df['kilometrage'] = pd.to_numeric(df['kilometrage'])"
   ]
  },
  {
   "cell_type": "code",
   "execution_count": 19,
   "metadata": {},
   "outputs": [],
   "source": [
    "DataFrame3 = pd.concat([DataFrame,df['annee'],df['kilometrage']],axis=1)"
   ]
  },
  {
   "cell_type": "code",
   "execution_count": 20,
   "metadata": {},
   "outputs": [],
   "source": [
    "DataFrame3 = DataFrame3.to_numpy()"
   ]
  },
  {
   "cell_type": "code",
   "execution_count": 21,
   "metadata": {},
   "outputs": [],
   "source": [
    "from sklearn.preprocessing import RobustScaler\n",
    "import matplotlib.pyplot as plt\n",
    "\n",
    "DataFrame3 = RobustScaler().fit_transform(DataFrame3)\n",
    "\n",
    "# plt.scatter(arr[:,0], arr[:,1], alpha=0.5, label='original')\n",
    "# plt.scatter(DataFrameR[:,0], DataFrameR[:,1], alpha=0.5, label='robust')\n",
    "# plt.legend()\n",
    "# plt.show()"
   ]
  },
  {
   "cell_type": "code",
   "execution_count": 22,
   "metadata": {},
   "outputs": [
    {
     "data": {
      "text/plain": [
       "array([[ 0.        ,  0.375     ,  0.        ,  0.16666667,  0.28812827],\n",
       "       [ 0.        ,  0.625     ,  1.        , -0.08333333, -0.10889554],\n",
       "       [ 0.        ,  0.375     ,  0.        ,  0.08333333,  0.76269247],\n",
       "       ...,\n",
       "       [ 0.        ,  0.5       ,  1.        , -0.41666667,  0.83048736],\n",
       "       [ 0.        ,  0.5       ,  1.5       , -0.5       , -0.76269247],\n",
       "       [ 0.        ,  0.5       ,  0.        ,  0.        ,  0.25423082]])"
      ]
     },
     "execution_count": 22,
     "metadata": {},
     "output_type": "execute_result"
    }
   ],
   "source": [
    "DataFrame3"
   ]
  },
  {
   "cell_type": "code",
   "execution_count": 23,
   "metadata": {},
   "outputs": [],
   "source": [
    "DataFrame3 = pd.DataFrame(DataFrame3)"
   ]
  },
  {
   "cell_type": "code",
   "execution_count": 24,
   "metadata": {},
   "outputs": [],
   "source": [
    "DataFrame3.rename(columns={0 : 'Marque', 1 : 'Modele', 2 : 'Carburant', 3 : 'annee' , 4 : 'kilometrage' }, inplace=True)"
   ]
  },
  {
   "cell_type": "code",
   "execution_count": 25,
   "metadata": {},
   "outputs": [
    {
     "data": {
      "text/html": [
       "<div>\n",
       "<style scoped>\n",
       "    .dataframe tbody tr th:only-of-type {\n",
       "        vertical-align: middle;\n",
       "    }\n",
       "\n",
       "    .dataframe tbody tr th {\n",
       "        vertical-align: top;\n",
       "    }\n",
       "\n",
       "    .dataframe thead th {\n",
       "        text-align: right;\n",
       "    }\n",
       "</style>\n",
       "<table border=\"1\" class=\"dataframe\">\n",
       "  <thead>\n",
       "    <tr style=\"text-align: right;\">\n",
       "      <th></th>\n",
       "      <th>Marque</th>\n",
       "      <th>Modele</th>\n",
       "      <th>Carburant</th>\n",
       "      <th>annee</th>\n",
       "      <th>kilometrage</th>\n",
       "    </tr>\n",
       "  </thead>\n",
       "  <tbody>\n",
       "    <tr>\n",
       "      <th>0</th>\n",
       "      <td>0.0</td>\n",
       "      <td>0.375</td>\n",
       "      <td>0.0</td>\n",
       "      <td>0.166667</td>\n",
       "      <td>0.288128</td>\n",
       "    </tr>\n",
       "    <tr>\n",
       "      <th>1</th>\n",
       "      <td>0.0</td>\n",
       "      <td>0.625</td>\n",
       "      <td>1.0</td>\n",
       "      <td>-0.083333</td>\n",
       "      <td>-0.108896</td>\n",
       "    </tr>\n",
       "    <tr>\n",
       "      <th>2</th>\n",
       "      <td>0.0</td>\n",
       "      <td>0.375</td>\n",
       "      <td>0.0</td>\n",
       "      <td>0.083333</td>\n",
       "      <td>0.762692</td>\n",
       "    </tr>\n",
       "    <tr>\n",
       "      <th>3</th>\n",
       "      <td>0.0</td>\n",
       "      <td>0.875</td>\n",
       "      <td>0.0</td>\n",
       "      <td>0.916667</td>\n",
       "      <td>-1.515970</td>\n",
       "    </tr>\n",
       "    <tr>\n",
       "      <th>4</th>\n",
       "      <td>0.0</td>\n",
       "      <td>0.125</td>\n",
       "      <td>1.0</td>\n",
       "      <td>-0.416667</td>\n",
       "      <td>-0.742354</td>\n",
       "    </tr>\n",
       "    <tr>\n",
       "      <th>...</th>\n",
       "      <td>...</td>\n",
       "      <td>...</td>\n",
       "      <td>...</td>\n",
       "      <td>...</td>\n",
       "      <td>...</td>\n",
       "    </tr>\n",
       "    <tr>\n",
       "      <th>9656</th>\n",
       "      <td>0.0</td>\n",
       "      <td>0.500</td>\n",
       "      <td>0.0</td>\n",
       "      <td>-0.083333</td>\n",
       "      <td>-0.016949</td>\n",
       "    </tr>\n",
       "    <tr>\n",
       "      <th>9657</th>\n",
       "      <td>0.0</td>\n",
       "      <td>0.500</td>\n",
       "      <td>1.0</td>\n",
       "      <td>-0.083333</td>\n",
       "      <td>-0.796590</td>\n",
       "    </tr>\n",
       "    <tr>\n",
       "      <th>9658</th>\n",
       "      <td>0.0</td>\n",
       "      <td>0.500</td>\n",
       "      <td>1.0</td>\n",
       "      <td>-0.416667</td>\n",
       "      <td>0.830487</td>\n",
       "    </tr>\n",
       "    <tr>\n",
       "      <th>9659</th>\n",
       "      <td>0.0</td>\n",
       "      <td>0.500</td>\n",
       "      <td>1.5</td>\n",
       "      <td>-0.500000</td>\n",
       "      <td>-0.762692</td>\n",
       "    </tr>\n",
       "    <tr>\n",
       "      <th>9660</th>\n",
       "      <td>0.0</td>\n",
       "      <td>0.500</td>\n",
       "      <td>0.0</td>\n",
       "      <td>0.000000</td>\n",
       "      <td>0.254231</td>\n",
       "    </tr>\n",
       "  </tbody>\n",
       "</table>\n",
       "<p>9661 rows × 5 columns</p>\n",
       "</div>"
      ],
      "text/plain": [
       "      Marque  Modele  Carburant     annee  kilometrage\n",
       "0        0.0   0.375        0.0  0.166667     0.288128\n",
       "1        0.0   0.625        1.0 -0.083333    -0.108896\n",
       "2        0.0   0.375        0.0  0.083333     0.762692\n",
       "3        0.0   0.875        0.0  0.916667    -1.515970\n",
       "4        0.0   0.125        1.0 -0.416667    -0.742354\n",
       "...      ...     ...        ...       ...          ...\n",
       "9656     0.0   0.500        0.0 -0.083333    -0.016949\n",
       "9657     0.0   0.500        1.0 -0.083333    -0.796590\n",
       "9658     0.0   0.500        1.0 -0.416667     0.830487\n",
       "9659     0.0   0.500        1.5 -0.500000    -0.762692\n",
       "9660     0.0   0.500        0.0  0.000000     0.254231\n",
       "\n",
       "[9661 rows x 5 columns]"
      ]
     },
     "execution_count": 25,
     "metadata": {},
     "output_type": "execute_result"
    }
   ],
   "source": [
    "DataFrame3"
   ]
  },
  {
   "cell_type": "code",
   "execution_count": 26,
   "metadata": {},
   "outputs": [
    {
     "data": {
      "text/html": [
       "<div>\n",
       "<style scoped>\n",
       "    .dataframe tbody tr th:only-of-type {\n",
       "        vertical-align: middle;\n",
       "    }\n",
       "\n",
       "    .dataframe tbody tr th {\n",
       "        vertical-align: top;\n",
       "    }\n",
       "\n",
       "    .dataframe thead th {\n",
       "        text-align: right;\n",
       "    }\n",
       "</style>\n",
       "<table border=\"1\" class=\"dataframe\">\n",
       "  <thead>\n",
       "    <tr style=\"text-align: right;\">\n",
       "      <th></th>\n",
       "      <th>prix</th>\n",
       "      <th>annee</th>\n",
       "      <th>kilometrage</th>\n",
       "    </tr>\n",
       "  </thead>\n",
       "  <tbody>\n",
       "    <tr>\n",
       "      <th>count</th>\n",
       "      <td>9661.000000</td>\n",
       "      <td>9661.000000</td>\n",
       "      <td>9661.000000</td>\n",
       "    </tr>\n",
       "    <tr>\n",
       "      <th>mean</th>\n",
       "      <td>43.817653</td>\n",
       "      <td>14.058897</td>\n",
       "      <td>201.475056</td>\n",
       "    </tr>\n",
       "    <tr>\n",
       "      <th>std</th>\n",
       "      <td>72.241595</td>\n",
       "      <td>8.899377</td>\n",
       "      <td>116.109688</td>\n",
       "    </tr>\n",
       "    <tr>\n",
       "      <th>min</th>\n",
       "      <td>1.000000</td>\n",
       "      <td>0.000000</td>\n",
       "      <td>1.000000</td>\n",
       "    </tr>\n",
       "    <tr>\n",
       "      <th>25%</th>\n",
       "      <td>16.000000</td>\n",
       "      <td>8.000000</td>\n",
       "      <td>132.000000</td>\n",
       "    </tr>\n",
       "    <tr>\n",
       "      <th>50%</th>\n",
       "      <td>28.900000</td>\n",
       "      <td>11.000000</td>\n",
       "      <td>190.000000</td>\n",
       "    </tr>\n",
       "    <tr>\n",
       "      <th>75%</th>\n",
       "      <td>46.000000</td>\n",
       "      <td>20.000000</td>\n",
       "      <td>250.003000</td>\n",
       "    </tr>\n",
       "    <tr>\n",
       "      <th>max</th>\n",
       "      <td>800.000000</td>\n",
       "      <td>43.000000</td>\n",
       "      <td>999.999000</td>\n",
       "    </tr>\n",
       "  </tbody>\n",
       "</table>\n",
       "</div>"
      ],
      "text/plain": [
       "              prix        annee  kilometrage\n",
       "count  9661.000000  9661.000000  9661.000000\n",
       "mean     43.817653    14.058897   201.475056\n",
       "std      72.241595     8.899377   116.109688\n",
       "min       1.000000     0.000000     1.000000\n",
       "25%      16.000000     8.000000   132.000000\n",
       "50%      28.900000    11.000000   190.000000\n",
       "75%      46.000000    20.000000   250.003000\n",
       "max     800.000000    43.000000   999.999000"
      ]
     },
     "execution_count": 26,
     "metadata": {},
     "output_type": "execute_result"
    }
   ],
   "source": [
    "df.describe()"
   ]
  },
  {
   "cell_type": "code",
   "execution_count": 27,
   "metadata": {},
   "outputs": [],
   "source": [
    "Q1_Kilometrage = np.percentile(df.kilometrage, 25)\n",
    "Q3_Kilometrage = np.percentile(df.kilometrage, 75)"
   ]
  },
  {
   "cell_type": "code",
   "execution_count": 28,
   "metadata": {},
   "outputs": [],
   "source": [
    "Q1_annee = np.percentile(df.annee, 25)\n",
    "Q3_annee = np.percentile(df.annee, 75)"
   ]
  },
  {
   "cell_type": "markdown",
   "metadata": {},
   "source": [
    "# **Feature selection**"
   ]
  },
  {
   "cell_type": "markdown",
   "metadata": {},
   "source": [
    "## **1) Concaténation des données**"
   ]
  },
  {
   "cell_type": "code",
   "execution_count": 29,
   "metadata": {},
   "outputs": [],
   "source": [
    "df['prix'] = pd.to_numeric(df['prix'])"
   ]
  },
  {
   "cell_type": "code",
   "execution_count": 30,
   "metadata": {},
   "outputs": [],
   "source": [
    "DataFrame1 = pd.concat([DataFrame,DataFrame3['annee'],DataFrame3['kilometrage'],df['prix']],axis=1)\n",
    "DataFrame1 = DataFrame1.drop(columns=[\"Marque\"])"
   ]
  },
  {
   "cell_type": "code",
   "execution_count": 31,
   "metadata": {},
   "outputs": [],
   "source": [
    "DataFrame2 = pd.concat([Modele_df.drop(columns=[\"Modele\"]),Carburant_df.drop(columns=[\"carburant\"]),DataFrame3['annee'],DataFrame3['kilometrage'],df['prix']],axis=1)"
   ]
  },
  {
   "cell_type": "code",
   "execution_count": 32,
   "metadata": {},
   "outputs": [],
   "source": [
    "DataFrame3 = pd.concat([DataFrame3,df['prix']],axis=1)\n",
    "DataFrame3 = DataFrame3.drop(columns=[\"Marque\"])"
   ]
  },
  {
   "cell_type": "markdown",
   "metadata": {},
   "source": [
    "- **DataFrame :** Contient les variable marque, modele et carburant avec Ordinal Encoder.\n",
    "- **DataFrame1 :** Contient DataFrame et les variables année et kilométrage normalisés avec Robust Scaling.\n",
    "- **DataFrame2 :** Contient les variable marque, modele et carburant avec One hot encoder et les variables année et kilométrage normalisés avec Robust Scaling.\n",
    "- **DataFrame3 :** Contient DataFrame ainsi que tout les variable normalisés avec Robust Scaling méme celle qui ont subi l'Ordinal Encoder."
   ]
  },
  {
   "cell_type": "code",
   "execution_count": 33,
   "metadata": {},
   "outputs": [],
   "source": [
    "pd.set_option('display.max_row',111)      #Pour afficher plus de détails dans dtype\n",
    "pd.set_option('display.max_columns',111)"
   ]
  },
  {
   "cell_type": "markdown",
   "metadata": {},
   "source": [
    "# **Machine learning**"
   ]
  },
  {
   "cell_type": "markdown",
   "metadata": {},
   "source": [
    "# **I) Train Test**"
   ]
  },
  {
   "cell_type": "code",
   "execution_count": 34,
   "metadata": {},
   "outputs": [],
   "source": [
    "from sklearn.model_selection import train_test_split"
   ]
  },
  {
   "cell_type": "code",
   "execution_count": 35,
   "metadata": {},
   "outputs": [
    {
     "data": {
      "text/plain": [
       "9661"
      ]
     },
     "execution_count": 35,
     "metadata": {},
     "output_type": "execute_result"
    }
   ],
   "source": [
    "n = DataFrame1.shape[0]\n",
    "n"
   ]
  },
  {
   "cell_type": "markdown",
   "metadata": {},
   "source": [
    "## a) DataFrame1"
   ]
  },
  {
   "cell_type": "code",
   "execution_count": 36,
   "metadata": {},
   "outputs": [],
   "source": [
    "y1 = DataFrame1['prix']\n",
    "X1 = DataFrame1.drop('prix', axis=1) #axis=1 c'est pour indiquer les colonnes"
   ]
  },
  {
   "cell_type": "code",
   "execution_count": 37,
   "metadata": {},
   "outputs": [],
   "source": [
    "X1_train,X1_test,y1_train,y1_test = train_test_split(X1,y1,test_size=0.2)"
   ]
  },
  {
   "cell_type": "markdown",
   "metadata": {},
   "source": [
    "## b) DataFrame2"
   ]
  },
  {
   "cell_type": "code",
   "execution_count": 38,
   "metadata": {},
   "outputs": [],
   "source": [
    "y2 = DataFrame2['prix']\n",
    "X2 = DataFrame2.drop('prix', axis=1) #axis=1 c'est pour indiquer les colonnes"
   ]
  },
  {
   "cell_type": "code",
   "execution_count": 39,
   "metadata": {},
   "outputs": [],
   "source": [
    "X2_train,X2_test,y2_train,y2_test = train_test_split(X2,y2,test_size=0.2)"
   ]
  },
  {
   "cell_type": "markdown",
   "metadata": {},
   "source": [
    "## c) DataFrame3"
   ]
  },
  {
   "cell_type": "code",
   "execution_count": 40,
   "metadata": {},
   "outputs": [],
   "source": [
    "y3 = DataFrame3['prix']\n",
    "X3 = DataFrame3.drop('prix', axis=1) #axis=1 c'est pour indiquer les colonnes"
   ]
  },
  {
   "cell_type": "code",
   "execution_count": 41,
   "metadata": {},
   "outputs": [],
   "source": [
    "X3_train,X3_test,y3_train,y3_test = train_test_split(X3,y3,test_size=0.2)"
   ]
  },
  {
   "cell_type": "markdown",
   "metadata": {},
   "source": [
    "# **II) Modelisation**"
   ]
  },
  {
   "cell_type": "markdown",
   "metadata": {},
   "source": [
    "## **1) RandomForestRegressor**"
   ]
  },
  {
   "cell_type": "markdown",
   "metadata": {},
   "source": [
    "## a) DataFrame1"
   ]
  },
  {
   "cell_type": "markdown",
   "metadata": {},
   "source": [
    "### i) Train test split"
   ]
  },
  {
   "cell_type": "code",
   "execution_count": 42,
   "metadata": {},
   "outputs": [],
   "source": [
    "RandomForest1 = RandomForestRegressor(random_state=42)"
   ]
  },
  {
   "cell_type": "code",
   "execution_count": 43,
   "metadata": {},
   "outputs": [
    {
     "data": {
      "text/plain": [
       "RandomForestRegressor(random_state=42)"
      ]
     },
     "execution_count": 43,
     "metadata": {},
     "output_type": "execute_result"
    }
   ],
   "source": [
    "RandomForest1.fit(X1_train, y1_train)"
   ]
  },
  {
   "cell_type": "code",
   "execution_count": 44,
   "metadata": {},
   "outputs": [
    {
     "data": {
      "text/plain": [
       "0.8825618836909461"
      ]
     },
     "execution_count": 44,
     "metadata": {},
     "output_type": "execute_result"
    }
   ],
   "source": [
    "RandomForest1.score(X1_test,y1_test)"
   ]
  },
  {
   "cell_type": "code",
   "execution_count": 45,
   "metadata": {},
   "outputs": [],
   "source": [
    "predictions = RandomForest1.predict(X1_test)"
   ]
  },
  {
   "cell_type": "markdown",
   "metadata": {},
   "source": [
    "#### Les métriques"
   ]
  },
  {
   "cell_type": "code",
   "execution_count": 46,
   "metadata": {},
   "outputs": [],
   "source": [
    "# model = sm.OLS(y1_test, X1_test).fit() \n",
    "# predictions = RandomForest1.predict(X1_test)\n",
    "\n",
    "# print_model = model.summary(X1_test)\n",
    "# print('R squared          : ',model.rsquared)\n",
    "# print('adjusted R squared : ',model.rsquared_adj)\n",
    "\n",
    "# modele = OLS(y1_test, X1_test).fit()\n",
    "# print('AIC : ',modele.aic)\n",
    "# print('BIC : ',modele.bic)"
   ]
  },
  {
   "cell_type": "code",
   "execution_count": 47,
   "metadata": {},
   "outputs": [
    {
     "name": "stdout",
     "output_type": "stream",
     "text": [
      "AIC   : 61710.28060894641\n",
      "BIC   : 61738.98401871248\n"
     ]
    }
   ],
   "source": [
    "import math\n",
    "print(\"AIC   : \"+ str( n *math.log(mean_squared_error(predictions, y1_test)) + 2 * len(RandomForest1.feature_importances_)))\n",
    "print(\"BIC   : \"+ str( n *math.log(mean_squared_error(predictions, y1_test)) + len(RandomForest1.feature_importances_) * math.log(n) ))"
   ]
  },
  {
   "cell_type": "code",
   "execution_count": 48,
   "metadata": {},
   "outputs": [
    {
     "name": "stdout",
     "output_type": "stream",
     "text": [
      "MSE   : 593.9163567562667\n",
      "RMSE  : 24.370399191565713\n",
      "MSLE  : 0.10655073474089803\n",
      "RMSLE : 0.32642110033038313\n",
      "MAE   : 3.7877830130090246\n",
      "R²    : 0.8843708755002504\n"
     ]
    }
   ],
   "source": [
    "print(\"MSE   : \"+ str(mean_squared_error(predictions, y1_test)))\n",
    "print(\"RMSE  : \"+ str(np.sqrt(mean_squared_error(predictions, y1_test))))\n",
    "print(\"MSLE  : \"+ str(mean_squared_log_error(abs(predictions), abs(y1_test))))\n",
    "print(\"RMSLE : \"+ str(np.sqrt(mean_squared_log_error(abs(predictions), abs(y1_test)))))\n",
    "print(\"MAE   : \"+ str(mean_absolute_error(predictions, y1_test)))\n",
    "print(\"R²    : \"+ str(r2_score(predictions, y1_test)))"
   ]
  },
  {
   "cell_type": "markdown",
   "metadata": {},
   "source": [
    "### ii) Cross validation"
   ]
  },
  {
   "cell_type": "code",
   "execution_count": 49,
   "metadata": {},
   "outputs": [
    {
     "data": {
      "text/plain": [
       "{'fit_time': array([1.69152021, 1.50050998, 1.42313361, 1.81607962, 1.64963102]),\n",
       " 'score_time': array([0.07276344, 0.05684948, 0.05684447, 0.04388261, 0.03985238]),\n",
       " 'test_r2': array([0.61123655, 0.63788587, 0.76738152, 0.88134651, 0.76946304]),\n",
       " 'test_neg_mean_absolute_error': array([-11.97370956, -11.32791824,  -8.92205015,  -8.30843381,\n",
       "        -15.01649113])}"
      ]
     },
     "execution_count": 49,
     "metadata": {},
     "output_type": "execute_result"
    }
   ],
   "source": [
    "cross_validate(RandomForest1, X1, y1, scoring=['r2', 'neg_mean_absolute_error'], n_jobs=-1, verbose=0)"
   ]
  },
  {
   "cell_type": "code",
   "execution_count": 50,
   "metadata": {},
   "outputs": [
    {
     "data": {
      "text/plain": [
       "0.733462698138645"
      ]
     },
     "execution_count": 50,
     "metadata": {},
     "output_type": "execute_result"
    }
   ],
   "source": [
    "cross_val_score(RandomForest1, X1, y1, cv=5).mean()"
   ]
  },
  {
   "cell_type": "code",
   "execution_count": 51,
   "metadata": {},
   "outputs": [
    {
     "data": {
      "text/plain": [
       "array([ 30.14  ,  39.259 ,  32.2325, ...,  49.127 , 333.18  ,  40.835 ])"
      ]
     },
     "execution_count": 51,
     "metadata": {},
     "output_type": "execute_result"
    }
   ],
   "source": [
    "cross_val_predict(RandomForest1, X1, y1, n_jobs=-1, verbose=0)"
   ]
  },
  {
   "cell_type": "markdown",
   "metadata": {},
   "source": [
    "## b) DataFrame2"
   ]
  },
  {
   "cell_type": "code",
   "execution_count": 52,
   "metadata": {},
   "outputs": [],
   "source": [
    "RandomForest2 = RandomForestRegressor(random_state=42)"
   ]
  },
  {
   "cell_type": "code",
   "execution_count": 53,
   "metadata": {},
   "outputs": [
    {
     "data": {
      "text/plain": [
       "RandomForestRegressor(random_state=42)"
      ]
     },
     "execution_count": 53,
     "metadata": {},
     "output_type": "execute_result"
    }
   ],
   "source": [
    "RandomForest2.fit(X2_train, y2_train) "
   ]
  },
  {
   "cell_type": "code",
   "execution_count": 54,
   "metadata": {},
   "outputs": [
    {
     "data": {
      "text/plain": [
       "0.8883654277481524"
      ]
     },
     "execution_count": 54,
     "metadata": {},
     "output_type": "execute_result"
    }
   ],
   "source": [
    "RandomForest2.score(X2_test,y2_test)"
   ]
  },
  {
   "cell_type": "code",
   "execution_count": 55,
   "metadata": {},
   "outputs": [],
   "source": [
    "predictions = RandomForest2.predict(X2_test)"
   ]
  },
  {
   "cell_type": "markdown",
   "metadata": {},
   "source": [
    "#### Les métriques"
   ]
  },
  {
   "cell_type": "code",
   "execution_count": 56,
   "metadata": {},
   "outputs": [
    {
     "name": "stdout",
     "output_type": "stream",
     "text": [
      "AIC   : 61249.543718170826\n",
      "BIC   : 61400.236619442694\n"
     ]
    }
   ],
   "source": [
    "print(\"AIC   : \"+ str( n *math.log(mean_squared_error(predictions, y2_test)) + 2 * len(RandomForest2.feature_importances_)))\n",
    "print(\"BIC   : \"+ str( n *math.log(mean_squared_error(predictions, y2_test)) + len(RandomForest2.feature_importances_) * math.log(n) ))"
   ]
  },
  {
   "cell_type": "code",
   "execution_count": 57,
   "metadata": {},
   "outputs": [
    {
     "name": "stdout",
     "output_type": "stream",
     "text": [
      "MSE   : 564.2677077824228\n",
      "RMSE  : 23.754319770989504\n",
      "MSLE  : 0.04006634864467189\n",
      "RMSLE : 0.20016580288518787\n",
      "MAE   : 2.5268841095020464\n",
      "R²    : 0.8689127130462494\n"
     ]
    }
   ],
   "source": [
    "print(\"MSE   : \"+ str(mean_squared_error(predictions, y2_test)))\n",
    "print(\"RMSE  : \"+ str(np.sqrt(mean_squared_error(predictions, y2_test))))\n",
    "print(\"MSLE  : \"+ str(mean_squared_log_error(abs(predictions), abs(y2_test))))\n",
    "print(\"RMSLE : \"+ str(np.sqrt(mean_squared_log_error(abs(predictions), abs(y2_test)))))\n",
    "print(\"MAE   : \"+ str(mean_absolute_error(predictions, y2_test)))\n",
    "print(\"R²    : \"+ str(r2_score(predictions, y2_test)))"
   ]
  },
  {
   "cell_type": "markdown",
   "metadata": {},
   "source": [
    "### ii) Cross validation"
   ]
  },
  {
   "cell_type": "code",
   "execution_count": 58,
   "metadata": {},
   "outputs": [
    {
     "data": {
      "text/plain": [
       "{'fit_time': array([2.15224743, 2.26794052, 2.68885612, 2.46345568, 2.3118217 ]),\n",
       " 'score_time': array([0.07679653, 0.05485439, 0.06183481, 0.04986525, 0.04687238]),\n",
       " 'test_r2': array([0.69806123, 0.64102688, 0.76703198, 0.89874024, 0.83480314]),\n",
       " 'test_neg_mean_absolute_error': array([ -9.68216896, -11.66303593,  -8.83724754,  -7.1742874 ,\n",
       "        -12.58083914])}"
      ]
     },
     "execution_count": 58,
     "metadata": {},
     "output_type": "execute_result"
    }
   ],
   "source": [
    "cross_validate(RandomForest2, X2, y2, scoring=['r2', 'neg_mean_absolute_error'], n_jobs=-1, verbose=0)"
   ]
  },
  {
   "cell_type": "code",
   "execution_count": 59,
   "metadata": {},
   "outputs": [
    {
     "data": {
      "text/plain": [
       "0.7679326955151241"
      ]
     },
     "execution_count": 59,
     "metadata": {},
     "output_type": "execute_result"
    }
   ],
   "source": [
    "cross_val_score(RandomForest2, X2, y2, cv=5).mean()"
   ]
  },
  {
   "cell_type": "code",
   "execution_count": 60,
   "metadata": {},
   "outputs": [
    {
     "data": {
      "text/plain": [
       "array([ 28.104     ,  35.73      ,  32.5485    , ...,  53.672     ,\n",
       "       335.27822727,  40.74      ])"
      ]
     },
     "execution_count": 60,
     "metadata": {},
     "output_type": "execute_result"
    }
   ],
   "source": [
    "cross_val_predict(RandomForest2, X2, y2, n_jobs=-1, verbose=0)"
   ]
  },
  {
   "cell_type": "markdown",
   "metadata": {},
   "source": [
    "### iii) Bagging"
   ]
  },
  {
   "cell_type": "code",
   "execution_count": 61,
   "metadata": {},
   "outputs": [],
   "source": [
    "model = BaggingRegressor(base_estimator= RandomForest2, n_estimators= 100)"
   ]
  },
  {
   "cell_type": "code",
   "execution_count": 62,
   "metadata": {},
   "outputs": [
    {
     "data": {
      "text/plain": [
       "{'fit_time': array([187.43731833, 199.48958015, 198.56206226, 212.98328161,\n",
       "        215.2213285 ]),\n",
       " 'score_time': array([6.88545656, 4.97775483, 5.03254437, 4.24663997, 4.04024124]),\n",
       " 'test_r2': array([0.65616809, 0.41445273, 0.57243871, 0.73482797, 0.6669627 ]),\n",
       " 'test_neg_mean_absolute_error': array([-10.83284872, -17.55534948, -13.70640573, -11.64328219,\n",
       "        -17.73345385])}"
      ]
     },
     "execution_count": 62,
     "metadata": {},
     "output_type": "execute_result"
    }
   ],
   "source": [
    "cross_validate(model, X2, y2, scoring=['r2', 'neg_mean_absolute_error'], n_jobs=-1, verbose=0)"
   ]
  },
  {
   "cell_type": "code",
   "execution_count": 63,
   "metadata": {},
   "outputs": [
    {
     "name": "stderr",
     "output_type": "stream",
     "text": [
      "ERROR:root:Internal Python error in the inspect module.\n",
      "Below is the traceback from this internal error.\n",
      "\n"
     ]
    },
    {
     "name": "stdout",
     "output_type": "stream",
     "text": [
      "Traceback (most recent call last):\n",
      "  File \"D:\\Users\\21620\\Anaconda3\\lib\\site-packages\\IPython\\core\\interactiveshell.py\", line 3326, in run_code\n",
      "    exec(code_obj, self.user_global_ns, self.user_ns)\n",
      "  File \"<ipython-input-63-85341c48d8cb>\", line 1, in <module>\n",
      "    cross_val_score(model, X2, y2, cv=5).mean()\n",
      "  File \"D:\\Users\\21620\\Anaconda3\\lib\\site-packages\\sklearn\\utils\\validation.py\", line 72, in inner_f\n",
      "    return f(**kwargs)\n",
      "  File \"D:\\Users\\21620\\Anaconda3\\lib\\site-packages\\sklearn\\model_selection\\_validation.py\", line 406, in cross_val_score\n",
      "    error_score=error_score)\n",
      "  File \"D:\\Users\\21620\\Anaconda3\\lib\\site-packages\\sklearn\\utils\\validation.py\", line 72, in inner_f\n",
      "    return f(**kwargs)\n",
      "  File \"D:\\Users\\21620\\Anaconda3\\lib\\site-packages\\sklearn\\model_selection\\_validation.py\", line 248, in cross_validate\n",
      "    for train, test in cv.split(X, y, groups))\n",
      "  File \"D:\\Users\\21620\\Anaconda3\\lib\\site-packages\\joblib\\parallel.py\", line 924, in __call__\n",
      "    while self.dispatch_one_batch(iterator):\n",
      "  File \"D:\\Users\\21620\\Anaconda3\\lib\\site-packages\\joblib\\parallel.py\", line 759, in dispatch_one_batch\n",
      "    self._dispatch(tasks)\n",
      "  File \"D:\\Users\\21620\\Anaconda3\\lib\\site-packages\\joblib\\parallel.py\", line 716, in _dispatch\n",
      "    job = self._backend.apply_async(batch, callback=cb)\n",
      "  File \"D:\\Users\\21620\\Anaconda3\\lib\\site-packages\\joblib\\_parallel_backends.py\", line 182, in apply_async\n",
      "    result = ImmediateResult(func)\n",
      "  File \"D:\\Users\\21620\\Anaconda3\\lib\\site-packages\\joblib\\_parallel_backends.py\", line 549, in __init__\n",
      "    self.results = batch()\n",
      "  File \"D:\\Users\\21620\\Anaconda3\\lib\\site-packages\\joblib\\parallel.py\", line 225, in __call__\n",
      "    for func, args, kwargs in self.items]\n",
      "  File \"D:\\Users\\21620\\Anaconda3\\lib\\site-packages\\joblib\\parallel.py\", line 225, in <listcomp>\n",
      "    for func, args, kwargs in self.items]\n",
      "  File \"D:\\Users\\21620\\Anaconda3\\lib\\site-packages\\sklearn\\model_selection\\_validation.py\", line 531, in _fit_and_score\n",
      "    estimator.fit(X_train, y_train, **fit_params)\n",
      "  File \"D:\\Users\\21620\\Anaconda3\\lib\\site-packages\\sklearn\\ensemble\\_bagging.py\", line 243, in fit\n",
      "    return self._fit(X, y, self.max_samples, sample_weight=sample_weight)\n",
      "  File \"D:\\Users\\21620\\Anaconda3\\lib\\site-packages\\sklearn\\ensemble\\_bagging.py\", line 380, in _fit\n",
      "    for i in range(n_jobs))\n",
      "  File \"D:\\Users\\21620\\Anaconda3\\lib\\site-packages\\joblib\\parallel.py\", line 921, in __call__\n",
      "    if self.dispatch_one_batch(iterator):\n",
      "  File \"D:\\Users\\21620\\Anaconda3\\lib\\site-packages\\joblib\\parallel.py\", line 759, in dispatch_one_batch\n",
      "    self._dispatch(tasks)\n",
      "  File \"D:\\Users\\21620\\Anaconda3\\lib\\site-packages\\joblib\\parallel.py\", line 716, in _dispatch\n",
      "    job = self._backend.apply_async(batch, callback=cb)\n",
      "  File \"D:\\Users\\21620\\Anaconda3\\lib\\site-packages\\joblib\\_parallel_backends.py\", line 182, in apply_async\n",
      "    result = ImmediateResult(func)\n",
      "  File \"D:\\Users\\21620\\Anaconda3\\lib\\site-packages\\joblib\\_parallel_backends.py\", line 549, in __init__\n",
      "    self.results = batch()\n",
      "  File \"D:\\Users\\21620\\Anaconda3\\lib\\site-packages\\joblib\\parallel.py\", line 225, in __call__\n",
      "    for func, args, kwargs in self.items]\n",
      "  File \"D:\\Users\\21620\\Anaconda3\\lib\\site-packages\\joblib\\parallel.py\", line 225, in <listcomp>\n",
      "    for func, args, kwargs in self.items]\n",
      "  File \"D:\\Users\\21620\\Anaconda3\\lib\\site-packages\\sklearn\\ensemble\\_bagging.py\", line 110, in _parallel_build_estimators\n",
      "    estimator.fit(X[:, features], y, sample_weight=curr_sample_weight)\n",
      "  File \"D:\\Users\\21620\\Anaconda3\\lib\\site-packages\\sklearn\\ensemble\\_forest.py\", line 392, in fit\n",
      "    for i, t in enumerate(trees))\n",
      "  File \"D:\\Users\\21620\\Anaconda3\\lib\\site-packages\\joblib\\parallel.py\", line 924, in __call__\n",
      "    while self.dispatch_one_batch(iterator):\n",
      "  File \"D:\\Users\\21620\\Anaconda3\\lib\\site-packages\\joblib\\parallel.py\", line 759, in dispatch_one_batch\n",
      "    self._dispatch(tasks)\n",
      "  File \"D:\\Users\\21620\\Anaconda3\\lib\\site-packages\\joblib\\parallel.py\", line 716, in _dispatch\n",
      "    job = self._backend.apply_async(batch, callback=cb)\n",
      "  File \"D:\\Users\\21620\\Anaconda3\\lib\\site-packages\\joblib\\_parallel_backends.py\", line 182, in apply_async\n",
      "    result = ImmediateResult(func)\n",
      "  File \"D:\\Users\\21620\\Anaconda3\\lib\\site-packages\\joblib\\_parallel_backends.py\", line 549, in __init__\n",
      "    self.results = batch()\n",
      "  File \"D:\\Users\\21620\\Anaconda3\\lib\\site-packages\\joblib\\parallel.py\", line 225, in __call__\n",
      "    for func, args, kwargs in self.items]\n",
      "  File \"D:\\Users\\21620\\Anaconda3\\lib\\site-packages\\joblib\\parallel.py\", line 225, in <listcomp>\n",
      "    for func, args, kwargs in self.items]\n",
      "  File \"D:\\Users\\21620\\Anaconda3\\lib\\site-packages\\sklearn\\ensemble\\_forest.py\", line 168, in _parallel_build_trees\n",
      "    tree.fit(X, y, sample_weight=curr_sample_weight, check_input=False)\n",
      "  File \"D:\\Users\\21620\\Anaconda3\\lib\\site-packages\\sklearn\\tree\\_classes.py\", line 1246, in fit\n",
      "    X_idx_sorted=X_idx_sorted)\n",
      "  File \"D:\\Users\\21620\\Anaconda3\\lib\\site-packages\\sklearn\\tree\\_classes.py\", line 375, in fit\n",
      "    builder.build(self.tree_, X, y, sample_weight, X_idx_sorted)\n",
      "KeyboardInterrupt\n",
      "\n",
      "During handling of the above exception, another exception occurred:\n",
      "\n",
      "Traceback (most recent call last):\n",
      "  File \"D:\\Users\\21620\\Anaconda3\\lib\\site-packages\\IPython\\core\\interactiveshell.py\", line 2040, in showtraceback\n",
      "    stb = value._render_traceback_()\n",
      "AttributeError: 'KeyboardInterrupt' object has no attribute '_render_traceback_'\n",
      "\n",
      "During handling of the above exception, another exception occurred:\n",
      "\n",
      "Traceback (most recent call last):\n",
      "  File \"D:\\Users\\21620\\Anaconda3\\lib\\site-packages\\IPython\\core\\ultratb.py\", line 1101, in get_records\n",
      "    return _fixed_getinnerframes(etb, number_of_lines_of_context, tb_offset)\n",
      "  File \"D:\\Users\\21620\\Anaconda3\\lib\\site-packages\\IPython\\core\\ultratb.py\", line 319, in wrapped\n",
      "    return f(*args, **kwargs)\n",
      "  File \"D:\\Users\\21620\\Anaconda3\\lib\\site-packages\\IPython\\core\\ultratb.py\", line 353, in _fixed_getinnerframes\n",
      "    records = fix_frame_records_filenames(inspect.getinnerframes(etb, context))\n",
      "  File \"D:\\Users\\21620\\Anaconda3\\lib\\inspect.py\", line 1490, in getinnerframes\n",
      "    frameinfo = (tb.tb_frame,) + getframeinfo(tb, context)\n",
      "  File \"D:\\Users\\21620\\Anaconda3\\lib\\inspect.py\", line 1448, in getframeinfo\n",
      "    filename = getsourcefile(frame) or getfile(frame)\n",
      "  File \"D:\\Users\\21620\\Anaconda3\\lib\\inspect.py\", line 696, in getsourcefile\n",
      "    if getattr(getmodule(object, filename), '__loader__', None) is not None:\n",
      "  File \"D:\\Users\\21620\\Anaconda3\\lib\\inspect.py\", line 739, in getmodule\n",
      "    f = getabsfile(module)\n",
      "  File \"D:\\Users\\21620\\Anaconda3\\lib\\inspect.py\", line 708, in getabsfile\n",
      "    _filename = getsourcefile(object) or getfile(object)\n",
      "  File \"D:\\Users\\21620\\Anaconda3\\lib\\inspect.py\", line 693, in getsourcefile\n",
      "    if os.path.exists(filename):\n",
      "  File \"D:\\Users\\21620\\Anaconda3\\lib\\genericpath.py\", line 19, in exists\n",
      "    os.stat(path)\n",
      "KeyboardInterrupt\n"
     ]
    },
    {
     "ename": "KeyboardInterrupt",
     "evalue": "",
     "output_type": "error",
     "traceback": [
      "\u001b[1;31m---------------------------------------------------------------------------\u001b[0m"
     ]
    }
   ],
   "source": [
    "cross_val_score(model, X2, y2, cv=5).mean()"
   ]
  },
  {
   "cell_type": "code",
   "execution_count": null,
   "metadata": {},
   "outputs": [],
   "source": [
    "cross_val_predict(model, X2, y2, n_jobs=-1, verbose=0)"
   ]
  },
  {
   "cell_type": "markdown",
   "metadata": {},
   "source": [
    "## c) DataFrame3"
   ]
  },
  {
   "cell_type": "code",
   "execution_count": 64,
   "metadata": {},
   "outputs": [],
   "source": [
    "RandomForest3 = RandomForestRegressor()"
   ]
  },
  {
   "cell_type": "code",
   "execution_count": 65,
   "metadata": {},
   "outputs": [
    {
     "data": {
      "text/plain": [
       "RandomForestRegressor()"
      ]
     },
     "execution_count": 65,
     "metadata": {},
     "output_type": "execute_result"
    }
   ],
   "source": [
    "RandomForest3.fit(X3_train, y3_train) "
   ]
  },
  {
   "cell_type": "code",
   "execution_count": 66,
   "metadata": {},
   "outputs": [
    {
     "data": {
      "text/plain": [
       "0.851252447892727"
      ]
     },
     "execution_count": 66,
     "metadata": {},
     "output_type": "execute_result"
    }
   ],
   "source": [
    "RandomForest3.score(X3_test,y3_test)"
   ]
  },
  {
   "cell_type": "code",
   "execution_count": 67,
   "metadata": {},
   "outputs": [],
   "source": [
    "predictions = RandomForest3.predict(X3_test)"
   ]
  },
  {
   "cell_type": "markdown",
   "metadata": {},
   "source": [
    "#### Les métriques"
   ]
  },
  {
   "cell_type": "code",
   "execution_count": 68,
   "metadata": {},
   "outputs": [
    {
     "name": "stdout",
     "output_type": "stream",
     "text": [
      "AIC   : 65938.00340431019\n",
      "BIC   : 65966.70681407626\n"
     ]
    }
   ],
   "source": [
    "print(\"AIC   : \"+ str( n *math.log(mean_squared_error(predictions, y3_test)) + 2 * len(RandomForest3.feature_importances_)))\n",
    "print(\"BIC   : \"+ str( n *math.log(mean_squared_error(predictions, y3_test)) + len(RandomForest3.feature_importances_) * math.log(n)))"
   ]
  },
  {
   "cell_type": "code",
   "execution_count": 69,
   "metadata": {},
   "outputs": [
    {
     "name": "stdout",
     "output_type": "stream",
     "text": [
      "MSE   : 919.9742295072009\n",
      "RMSE  : 30.331076959237713\n",
      "MSLE  : 0.07555841935049067\n",
      "RMSLE : 0.27487891761735866\n",
      "MAE   : 3.9404546228164725\n",
      "R²    : 0.812006353702779\n"
     ]
    }
   ],
   "source": [
    "print(\"MSE   : \"+ str(mean_squared_error(predictions, y3_test)))\n",
    "print(\"RMSE  : \"+ str(np.sqrt(mean_squared_error(predictions, y3_test))))\n",
    "print(\"MSLE  : \"+ str(mean_squared_log_error(abs(predictions), abs(y3_test))))\n",
    "print(\"RMSLE : \"+ str(np.sqrt(mean_squared_log_error(abs(predictions), abs(y3_test)))))\n",
    "print(\"MAE   : \"+ str(mean_absolute_error(predictions, y3_test)))\n",
    "print(\"R²    : \"+ str(r2_score(predictions, y3_test)))"
   ]
  },
  {
   "cell_type": "markdown",
   "metadata": {},
   "source": [
    "### ii) Cross validation"
   ]
  },
  {
   "cell_type": "code",
   "execution_count": 70,
   "metadata": {},
   "outputs": [
    {
     "data": {
      "text/plain": [
       "{'fit_time': array([0.79886246, 0.9529705 , 0.94100261, 0.95297146, 0.97690535]),\n",
       " 'score_time': array([0.04288507, 0.02393603, 0.02293873, 0.01994658, 0.01695466]),\n",
       " 'test_r2': array([0.60812823, 0.68095318, 0.76936998, 0.8671705 , 0.78522186]),\n",
       " 'test_neg_mean_absolute_error': array([-11.95374962, -11.04491444,  -9.35174792,  -8.44374312,\n",
       "        -13.90694857])}"
      ]
     },
     "execution_count": 70,
     "metadata": {},
     "output_type": "execute_result"
    }
   ],
   "source": [
    "cross_validate(RandomForest3, X3, y3, scoring=['r2', 'neg_mean_absolute_error'], n_jobs=-1, verbose=0)"
   ]
  },
  {
   "cell_type": "code",
   "execution_count": 71,
   "metadata": {},
   "outputs": [
    {
     "data": {
      "text/plain": [
       "0.7489721520134474"
      ]
     },
     "execution_count": 71,
     "metadata": {},
     "output_type": "execute_result"
    }
   ],
   "source": [
    "cross_val_score(RandomForest3, X3, y3, cv=5).mean()"
   ]
  },
  {
   "cell_type": "code",
   "execution_count": 72,
   "metadata": {},
   "outputs": [
    {
     "data": {
      "text/plain": [
       "array([ 27.983     ,  39.434     ,  32.29583333, ...,  48.47175   ,\n",
       "       314.7575    ,  41.24      ])"
      ]
     },
     "execution_count": 72,
     "metadata": {},
     "output_type": "execute_result"
    }
   ],
   "source": [
    "cross_val_predict(RandomForest3, X3, y3, n_jobs=-1, verbose=0)"
   ]
  },
  {
   "cell_type": "markdown",
   "metadata": {},
   "source": [
    "## **2) GradientBoostingRegressor**"
   ]
  },
  {
   "cell_type": "markdown",
   "metadata": {},
   "source": [
    "## a) DataFrame1"
   ]
  },
  {
   "cell_type": "code",
   "execution_count": 73,
   "metadata": {},
   "outputs": [
    {
     "data": {
      "text/plain": [
       "GradientBoostingRegressor(learning_rate=0.01, max_depth=4, min_samples_split=5,\n",
       "                          n_estimators=500)"
      ]
     },
     "execution_count": 73,
     "metadata": {},
     "output_type": "execute_result"
    }
   ],
   "source": [
    "GradientBoosting1 = GradientBoostingRegressor( n_estimators=500, max_depth=4, min_samples_split=5, learning_rate=0.01, loss='ls' )\n",
    "GradientBoosting1.fit(X1_train, y1_train) "
   ]
  },
  {
   "cell_type": "code",
   "execution_count": 74,
   "metadata": {},
   "outputs": [
    {
     "data": {
      "text/plain": [
       "0.5277846567485543"
      ]
     },
     "execution_count": 74,
     "metadata": {},
     "output_type": "execute_result"
    }
   ],
   "source": [
    "GradientBoosting1.score(X1_test, y1_test) "
   ]
  },
  {
   "cell_type": "code",
   "execution_count": 75,
   "metadata": {},
   "outputs": [],
   "source": [
    "predictions = GradientBoosting1.predict(X1_test) "
   ]
  },
  {
   "cell_type": "markdown",
   "metadata": {},
   "source": [
    "#### Les métriques"
   ]
  },
  {
   "cell_type": "code",
   "execution_count": 76,
   "metadata": {},
   "outputs": [
    {
     "name": "stdout",
     "output_type": "stream",
     "text": [
      "MSE   : 2388.1208681025723\n",
      "RMSE  : 48.86840357636591\n",
      "MSLE  : 0.377270187322155\n",
      "RMSLE : 0.614223238995526\n",
      "MAE   : 16.96719957549291\n",
      "R²    : -0.19133002853494108\n"
     ]
    }
   ],
   "source": [
    "print(\"MSE   : \"+ str(mean_squared_error(predictions, y1_test)))\n",
    "print(\"RMSE  : \"+ str(np.sqrt(mean_squared_error(predictions, y1_test))))\n",
    "print(\"MSLE  : \"+ str(mean_squared_log_error(abs(predictions), abs(y1_test))))\n",
    "print(\"RMSLE : \"+ str(np.sqrt(mean_squared_log_error(abs(predictions), abs(y1_test)))))\n",
    "print(\"MAE   : \"+ str(mean_absolute_error(predictions, y1_test)))\n",
    "print(\"R²    : \"+ str(r2_score(predictions, y1_test)))"
   ]
  },
  {
   "cell_type": "markdown",
   "metadata": {},
   "source": [
    "### ii) Cross validation"
   ]
  },
  {
   "cell_type": "code",
   "execution_count": 77,
   "metadata": {},
   "outputs": [
    {
     "data": {
      "text/plain": [
       "{'fit_time': array([1.66454935, 1.9108882 , 1.76128912, 1.8510499 , 1.93283176]),\n",
       " 'score_time': array([0.01396275, 0.01196837, 0.01895094, 0.0119679 , 0.01097131]),\n",
       " 'test_r2': array([0.24191711, 0.16125987, 0.07150047, 0.39721408, 0.77661713]),\n",
       " 'test_neg_mean_absolute_error': array([-21.26667825, -20.58732054, -25.31831598, -22.59593608,\n",
       "        -22.62712299])}"
      ]
     },
     "execution_count": 77,
     "metadata": {},
     "output_type": "execute_result"
    }
   ],
   "source": [
    "cross_validate(GradientBoosting1, X1, y1, scoring=['r2', 'neg_mean_absolute_error'], n_jobs=-1, verbose=0)"
   ]
  },
  {
   "cell_type": "code",
   "execution_count": 78,
   "metadata": {},
   "outputs": [
    {
     "data": {
      "text/plain": [
       "0.3296288466748881"
      ]
     },
     "execution_count": 78,
     "metadata": {},
     "output_type": "execute_result"
    }
   ],
   "source": [
    "cross_val_score(GradientBoosting1, X1, y1, cv=5).mean()"
   ]
  },
  {
   "cell_type": "code",
   "execution_count": 79,
   "metadata": {},
   "outputs": [
    {
     "data": {
      "text/plain": [
       "array([ 32.66900101,  44.47729285,  34.99189365, ...,  47.49959576,\n",
       "       420.10756387,  31.67240621])"
      ]
     },
     "execution_count": 79,
     "metadata": {},
     "output_type": "execute_result"
    }
   ],
   "source": [
    "cross_val_predict(GradientBoosting1, X1, y1, n_jobs=-1, verbose=0)"
   ]
  },
  {
   "cell_type": "markdown",
   "metadata": {},
   "source": [
    "## b) DataFrame2"
   ]
  },
  {
   "cell_type": "code",
   "execution_count": 80,
   "metadata": {},
   "outputs": [
    {
     "data": {
      "text/plain": [
       "GradientBoostingRegressor(learning_rate=0.01, max_depth=4, min_samples_split=5,\n",
       "                          n_estimators=500)"
      ]
     },
     "execution_count": 80,
     "metadata": {},
     "output_type": "execute_result"
    }
   ],
   "source": [
    "GradientBoosting2 = GradientBoostingRegressor( n_estimators=500, max_depth=4, min_samples_split=5, learning_rate=0.01, loss='ls' )\n",
    "GradientBoosting2.fit(X2_train, y2_train) "
   ]
  },
  {
   "cell_type": "code",
   "execution_count": 81,
   "metadata": {},
   "outputs": [
    {
     "data": {
      "text/plain": [
       "0.4869900417972268"
      ]
     },
     "execution_count": 81,
     "metadata": {},
     "output_type": "execute_result"
    }
   ],
   "source": [
    "GradientBoosting2.score(X2_test, y2_test) "
   ]
  },
  {
   "cell_type": "code",
   "execution_count": 82,
   "metadata": {},
   "outputs": [],
   "source": [
    "predictions = GradientBoosting2.predict(X2_test) "
   ]
  },
  {
   "cell_type": "markdown",
   "metadata": {},
   "source": [
    "#### Les métriques"
   ]
  },
  {
   "cell_type": "code",
   "execution_count": 83,
   "metadata": {},
   "outputs": [
    {
     "name": "stdout",
     "output_type": "stream",
     "text": [
      "MSE   : 2593.0582914008014\n",
      "RMSE  : 50.92208058790215\n",
      "MSLE  : 0.36096821213753305\n",
      "RMSLE : 0.6008063016792792\n",
      "MAE   : 16.802316497921552\n",
      "R²    : -0.751652728703976\n"
     ]
    }
   ],
   "source": [
    "print(\"MSE   : \"+ str(mean_squared_error(predictions, y2_test)))\n",
    "print(\"RMSE  : \"+ str(np.sqrt(mean_squared_error(predictions, y2_test))))\n",
    "print(\"MSLE  : \"+ str(mean_squared_log_error(abs(predictions), abs(y2_test))))\n",
    "print(\"RMSLE : \"+ str(np.sqrt(mean_squared_log_error(abs(predictions), abs(y2_test)))))\n",
    "print(\"MAE   : \"+ str(mean_absolute_error(predictions, y2_test)))\n",
    "print(\"R²    : \"+ str(r2_score(predictions, y2_test)))"
   ]
  },
  {
   "cell_type": "markdown",
   "metadata": {},
   "source": [
    "### ii) Cross validation"
   ]
  },
  {
   "cell_type": "code",
   "execution_count": 84,
   "metadata": {},
   "outputs": [
    {
     "data": {
      "text/plain": [
       "{'fit_time': array([3.19645333, 3.05383253, 3.53359056, 3.22836661, 3.24532032]),\n",
       " 'score_time': array([0.02094412, 0.01396275, 0.01196861, 0.01296473, 0.01296544]),\n",
       " 'test_r2': array([0.22492856, 0.14199589, 0.11650276, 0.54800705, 0.78681589]),\n",
       " 'test_neg_mean_absolute_error': array([-20.27117892, -21.19424723, -21.91861759, -20.3942872 ,\n",
       "        -20.08254113])}"
      ]
     },
     "execution_count": 84,
     "metadata": {},
     "output_type": "execute_result"
    }
   ],
   "source": [
    "cross_validate(GradientBoosting2, X2, y2, scoring=['r2', 'neg_mean_absolute_error'], n_jobs=-1, verbose=0)"
   ]
  },
  {
   "cell_type": "code",
   "execution_count": 85,
   "metadata": {},
   "outputs": [
    {
     "data": {
      "text/plain": [
       "0.363511755442803"
      ]
     },
     "execution_count": 85,
     "metadata": {},
     "output_type": "execute_result"
    }
   ],
   "source": [
    "cross_val_score(GradientBoosting2, X2, y2, cv=5).mean()"
   ]
  },
  {
   "cell_type": "code",
   "execution_count": 86,
   "metadata": {},
   "outputs": [
    {
     "data": {
      "text/plain": [
       "array([ 31.70539636,  44.73294204,  32.38897557, ...,  47.83928191,\n",
       "       400.06799804,  32.62664486])"
      ]
     },
     "execution_count": 86,
     "metadata": {},
     "output_type": "execute_result"
    }
   ],
   "source": [
    "cross_val_predict(GradientBoosting2, X2, y2, n_jobs=-1, verbose=0)"
   ]
  },
  {
   "cell_type": "markdown",
   "metadata": {},
   "source": [
    "## c) DataFrame3"
   ]
  },
  {
   "cell_type": "code",
   "execution_count": 87,
   "metadata": {},
   "outputs": [
    {
     "data": {
      "text/plain": [
       "GradientBoostingRegressor(learning_rate=0.01, max_depth=4, min_samples_split=5,\n",
       "                          n_estimators=500)"
      ]
     },
     "execution_count": 87,
     "metadata": {},
     "output_type": "execute_result"
    }
   ],
   "source": [
    "GradientBoosting3 = GradientBoostingRegressor( n_estimators=500, max_depth=4, min_samples_split=5, learning_rate=0.01, loss='ls' )\n",
    "GradientBoosting3.fit(X3_train, y3_train) "
   ]
  },
  {
   "cell_type": "code",
   "execution_count": 88,
   "metadata": {},
   "outputs": [
    {
     "data": {
      "text/plain": [
       "0.43375596440302766"
      ]
     },
     "execution_count": 88,
     "metadata": {},
     "output_type": "execute_result"
    }
   ],
   "source": [
    "GradientBoosting3.score(X3_test, y3_test) "
   ]
  },
  {
   "cell_type": "code",
   "execution_count": 89,
   "metadata": {},
   "outputs": [],
   "source": [
    "predictions = GradientBoosting3.predict(X3_test) "
   ]
  },
  {
   "cell_type": "markdown",
   "metadata": {},
   "source": [
    "#### Les métriques"
   ]
  },
  {
   "cell_type": "code",
   "execution_count": 90,
   "metadata": {},
   "outputs": [
    {
     "name": "stdout",
     "output_type": "stream",
     "text": [
      "MSE   : 3502.107516940455\n",
      "RMSE  : 59.178606919565574\n",
      "MSLE  : 0.42782517897582945\n",
      "RMSLE : 0.6540834648390291\n",
      "MAE   : 18.586044489474318\n",
      "R²    : -0.724847128527081\n"
     ]
    }
   ],
   "source": [
    "print(\"MSE   : \"+ str(mean_squared_error(predictions, y3_test)))\n",
    "print(\"RMSE  : \"+ str(np.sqrt(mean_squared_error(predictions, y3_test))))\n",
    "print(\"MSLE  : \"+ str(mean_squared_log_error(abs(predictions), abs(y3_test))))\n",
    "print(\"RMSLE : \"+ str(np.sqrt(mean_squared_log_error(abs(predictions), abs(y3_test)))))\n",
    "print(\"MAE   : \"+ str(mean_absolute_error(predictions, y3_test)))\n",
    "print(\"R²    : \"+ str(r2_score(predictions, y3_test)))"
   ]
  },
  {
   "cell_type": "markdown",
   "metadata": {},
   "source": [
    "### ii) Cross validation"
   ]
  },
  {
   "cell_type": "code",
   "execution_count": 91,
   "metadata": {},
   "outputs": [
    {
     "data": {
      "text/plain": [
       "{'fit_time': array([1.93981194, 1.62964129, 1.72634268, 2.00367165, 1.75535607]),\n",
       " 'score_time': array([0.01395559, 0.01196766, 0.01296568, 0.01098013, 0.01196003]),\n",
       " 'test_r2': array([0.24263442, 0.16125987, 0.07150047, 0.39721408, 0.77661713]),\n",
       " 'test_neg_mean_absolute_error': array([-21.25390976, -20.58732054, -25.31831598, -22.59593608,\n",
       "        -22.62712299])}"
      ]
     },
     "execution_count": 91,
     "metadata": {},
     "output_type": "execute_result"
    }
   ],
   "source": [
    "cross_validate(GradientBoosting3, X3, y3, scoring=['r2', 'neg_mean_absolute_error'], n_jobs=-1, verbose=0)"
   ]
  },
  {
   "cell_type": "code",
   "execution_count": 92,
   "metadata": {},
   "outputs": [
    {
     "data": {
      "text/plain": [
       "0.3300056747891339"
      ]
     },
     "execution_count": 92,
     "metadata": {},
     "output_type": "execute_result"
    }
   ],
   "source": [
    "cross_val_score(GradientBoosting3, X3, y3, cv=5).mean()"
   ]
  },
  {
   "cell_type": "code",
   "execution_count": 93,
   "metadata": {},
   "outputs": [
    {
     "data": {
      "text/plain": [
       "array([ 32.66900101,  44.47729285,  34.99189365, ...,  47.49959576,\n",
       "       420.10756387,  31.67240621])"
      ]
     },
     "execution_count": 93,
     "metadata": {},
     "output_type": "execute_result"
    }
   ],
   "source": [
    "cross_val_predict(GradientBoosting3, X3, y3, n_jobs=-1, verbose=0)"
   ]
  },
  {
   "cell_type": "markdown",
   "metadata": {},
   "source": [
    "## **3) XGBRegressor**"
   ]
  },
  {
   "cell_type": "markdown",
   "metadata": {},
   "source": [
    "## a) DataFrame1"
   ]
  },
  {
   "cell_type": "code",
   "execution_count": 94,
   "metadata": {},
   "outputs": [],
   "source": [
    "XGBRegressor1 = XGBRegressor(objective='reg:squarederror')\n",
    "# cv = RepeatedKFold(n_splits=10, n_repeats=3, random_state=1)\n",
    "# n_scores = cross_val_score(XGBRegressor1, X1_train, y1_train, scoring='neg_mean_absolute_error', cv=cv, n_jobs=-1, error_score='raise')\n",
    "# print('MAE: %.3f (%.3f)' % (mean(n_scores), std(n_scores)))"
   ]
  },
  {
   "cell_type": "code",
   "execution_count": 95,
   "metadata": {},
   "outputs": [
    {
     "data": {
      "text/plain": [
       "XGBRegressor(base_score=0.5, booster='gbtree', colsample_bylevel=1,\n",
       "             colsample_bynode=1, colsample_bytree=1, gamma=0, gpu_id=-1,\n",
       "             importance_type='gain', interaction_constraints='',\n",
       "             learning_rate=0.300000012, max_delta_step=0, max_depth=6,\n",
       "             min_child_weight=1, missing=nan, monotone_constraints='()',\n",
       "             n_estimators=100, n_jobs=0, num_parallel_tree=1, random_state=0,\n",
       "             reg_alpha=0, reg_lambda=1, scale_pos_weight=1, subsample=1,\n",
       "             tree_method='exact', validate_parameters=1, verbosity=None)"
      ]
     },
     "execution_count": 95,
     "metadata": {},
     "output_type": "execute_result"
    }
   ],
   "source": [
    "XGBRegressor1 = XGBRegressor(objective='reg:squarederror')\n",
    "XGBRegressor1.fit(X1_train, y1_train)"
   ]
  },
  {
   "cell_type": "code",
   "execution_count": 96,
   "metadata": {},
   "outputs": [
    {
     "data": {
      "text/plain": [
       "0.8976554610117251"
      ]
     },
     "execution_count": 96,
     "metadata": {},
     "output_type": "execute_result"
    }
   ],
   "source": [
    "XGBRegressor1.score(X1_test, y1_test)"
   ]
  },
  {
   "cell_type": "code",
   "execution_count": 97,
   "metadata": {},
   "outputs": [],
   "source": [
    "predictions = XGBRegressor1.predict(X1_test)"
   ]
  },
  {
   "cell_type": "markdown",
   "metadata": {},
   "source": [
    "#### Les métriques"
   ]
  },
  {
   "cell_type": "code",
   "execution_count": 98,
   "metadata": {},
   "outputs": [
    {
     "name": "stdout",
     "output_type": "stream",
     "text": [
      "MSE   : 517.5840488607171\n",
      "RMSE  : 22.750473596404913\n",
      "MSLE  : 0.1249408837903947\n",
      "RMSLE : 0.3534697777609773\n",
      "MAE   : 5.3052354021173525\n",
      "R²    : 0.8941072028891454\n"
     ]
    }
   ],
   "source": [
    "print(\"MSE   : \"+ str(mean_squared_error(predictions, y1_test)))\n",
    "print(\"RMSE  : \"+ str(np.sqrt(mean_squared_error(predictions, y1_test))))\n",
    "print(\"MSLE  : \"+ str(mean_squared_log_error(abs(predictions), abs(y1_test))))\n",
    "print(\"RMSLE : \"+ str(np.sqrt(mean_squared_log_error(abs(predictions), abs(y1_test)))))\n",
    "print(\"MAE   : \"+ str(mean_absolute_error(predictions, y1_test)))\n",
    "print(\"R²    : \"+ str(r2_score(predictions, y1_test)))"
   ]
  },
  {
   "cell_type": "markdown",
   "metadata": {},
   "source": [
    "### ii) Cross validation"
   ]
  },
  {
   "cell_type": "code",
   "execution_count": 99,
   "metadata": {},
   "outputs": [
    {
     "data": {
      "text/plain": [
       "{'fit_time': array([0.27127266, 0.27426386, 0.3739965 , 0.37698698, 0.2802465 ]),\n",
       " 'score_time': array([0.01097083, 0.01100183, 0.00997329, 0.0100131 , 0.0110054 ]),\n",
       " 'test_r2': array([0.56842764, 0.73419621, 0.83919873, 0.98334317, 0.98314862]),\n",
       " 'test_neg_mean_absolute_error': array([-15.39864346,  -8.76056388,  -8.01665196,  -4.70720636,\n",
       "         -7.3978861 ])}"
      ]
     },
     "execution_count": 99,
     "metadata": {},
     "output_type": "execute_result"
    }
   ],
   "source": [
    "cross_validate(XGBRegressor1, X1, y1, scoring=['r2', 'neg_mean_absolute_error'], n_jobs=-1, verbose=0)"
   ]
  },
  {
   "cell_type": "code",
   "execution_count": 100,
   "metadata": {},
   "outputs": [
    {
     "data": {
      "text/plain": [
       "0.8216628753060592"
      ]
     },
     "execution_count": 100,
     "metadata": {},
     "output_type": "execute_result"
    }
   ],
   "source": [
    "cross_val_score(XGBRegressor1, X1, y1, cv=5).mean()"
   ]
  },
  {
   "cell_type": "code",
   "execution_count": 101,
   "metadata": {},
   "outputs": [
    {
     "data": {
      "text/plain": [
       "array([ 28.408535,  38.930515,  28.11068 , ...,  48.30895 , 496.30548 ,\n",
       "        32.220284], dtype=float32)"
      ]
     },
     "execution_count": 101,
     "metadata": {},
     "output_type": "execute_result"
    }
   ],
   "source": [
    "cross_val_predict(XGBRegressor1, X1, y1, n_jobs=-1, verbose=0)"
   ]
  },
  {
   "cell_type": "markdown",
   "metadata": {},
   "source": [
    "## b) DataFrame2"
   ]
  },
  {
   "cell_type": "code",
   "execution_count": 102,
   "metadata": {},
   "outputs": [],
   "source": [
    "XGBRegressor2 = XGBRegressor(objective='reg:squarederror')"
   ]
  },
  {
   "cell_type": "code",
   "execution_count": 103,
   "metadata": {},
   "outputs": [
    {
     "data": {
      "text/plain": [
       "XGBRegressor(base_score=0.5, booster='gbtree', colsample_bylevel=1,\n",
       "             colsample_bynode=1, colsample_bytree=1, gamma=0, gpu_id=-1,\n",
       "             importance_type='gain', interaction_constraints='',\n",
       "             learning_rate=0.300000012, max_delta_step=0, max_depth=6,\n",
       "             min_child_weight=1, missing=nan, monotone_constraints='()',\n",
       "             n_estimators=100, n_jobs=0, num_parallel_tree=1, random_state=0,\n",
       "             reg_alpha=0, reg_lambda=1, scale_pos_weight=1, subsample=1,\n",
       "             tree_method='exact', validate_parameters=1, verbosity=None)"
      ]
     },
     "execution_count": 103,
     "metadata": {},
     "output_type": "execute_result"
    }
   ],
   "source": [
    "XGBRegressor2.fit(X2_train, y2_train)"
   ]
  },
  {
   "cell_type": "code",
   "execution_count": 104,
   "metadata": {},
   "outputs": [
    {
     "data": {
      "text/plain": [
       "0.8935530316643389"
      ]
     },
     "execution_count": 104,
     "metadata": {},
     "output_type": "execute_result"
    }
   ],
   "source": [
    "XGBRegressor2.score(X2_test, y2_test)"
   ]
  },
  {
   "cell_type": "code",
   "execution_count": 105,
   "metadata": {},
   "outputs": [],
   "source": [
    "predictions = XGBRegressor2.predict(X2_test)"
   ]
  },
  {
   "cell_type": "markdown",
   "metadata": {},
   "source": [
    "#### Les métriques"
   ]
  },
  {
   "cell_type": "code",
   "execution_count": 106,
   "metadata": {},
   "outputs": [
    {
     "name": "stdout",
     "output_type": "stream",
     "text": [
      "MSE   : 538.0464636675986\n",
      "RMSE  : 23.195828583337967\n",
      "MSLE  : 0.0541557899023664\n",
      "RMSLE : 0.23271396585157153\n",
      "MAE   : 3.8596827394512117\n",
      "R²    : 0.8702635597854703\n"
     ]
    }
   ],
   "source": [
    "print(\"MSE   : \"+ str(mean_squared_error(predictions, y2_test)))\n",
    "print(\"RMSE  : \"+ str(np.sqrt(mean_squared_error(predictions, y2_test))))\n",
    "print(\"MSLE  : \"+ str(mean_squared_log_error(abs(predictions), abs(y2_test))))\n",
    "print(\"RMSLE : \"+ str(np.sqrt(mean_squared_log_error(abs(predictions), abs(y2_test)))))\n",
    "print(\"MAE   : \"+ str(mean_absolute_error(predictions, y2_test)))\n",
    "print(\"R²    : \"+ str(r2_score(predictions, y2_test)))"
   ]
  },
  {
   "cell_type": "markdown",
   "metadata": {},
   "source": [
    "### ii) Cross validation"
   ]
  },
  {
   "cell_type": "code",
   "execution_count": 107,
   "metadata": {},
   "outputs": [
    {
     "data": {
      "text/plain": [
       "{'fit_time': array([0.87266874, 0.88466406, 0.68616486, 0.72805405, 0.72406435]),\n",
       " 'score_time': array([0.01100636, 0.01096654, 0.01196861, 0.01097035, 0.00997257]),\n",
       " 'test_r2': array([0.68873624, 0.79725362, 0.86515023, 0.99387904, 0.98295489]),\n",
       " 'test_neg_mean_absolute_error': array([-11.00810385,  -6.65113914,  -6.14565297,  -3.41682551,\n",
       "         -6.16754886])}"
      ]
     },
     "execution_count": 107,
     "metadata": {},
     "output_type": "execute_result"
    }
   ],
   "source": [
    "cross_validate(XGBRegressor2, X2, y2, scoring=['r2', 'neg_mean_absolute_error'], n_jobs=-1, verbose=0)"
   ]
  },
  {
   "cell_type": "code",
   "execution_count": 108,
   "metadata": {},
   "outputs": [
    {
     "data": {
      "text/plain": [
       "0.8655948046698423"
      ]
     },
     "execution_count": 108,
     "metadata": {},
     "output_type": "execute_result"
    }
   ],
   "source": [
    "cross_val_score(XGBRegressor2, X2, y2, cv=5).mean()"
   ]
  },
  {
   "cell_type": "code",
   "execution_count": 109,
   "metadata": {},
   "outputs": [
    {
     "data": {
      "text/plain": [
       "array([ 28.39039 ,  39.36455 ,  28.908587, ...,  54.34071 , 495.50058 ,\n",
       "        38.258434], dtype=float32)"
      ]
     },
     "execution_count": 109,
     "metadata": {},
     "output_type": "execute_result"
    }
   ],
   "source": [
    "cross_val_predict(XGBRegressor2, X2, y2, n_jobs=-1, verbose=0)"
   ]
  },
  {
   "cell_type": "markdown",
   "metadata": {},
   "source": [
    "### iii) Bagging"
   ]
  },
  {
   "cell_type": "code",
   "execution_count": 110,
   "metadata": {},
   "outputs": [],
   "source": [
    "from sklearn.ensemble import BaggingRegressor"
   ]
  },
  {
   "cell_type": "code",
   "execution_count": 111,
   "metadata": {},
   "outputs": [],
   "source": [
    "model = BaggingRegressor(base_estimator= XGBRegressor2, n_estimators= 100)\n",
    "\n",
    "# model.fit(X2, y2)\n",
    "# model.score(X2_test, y2_test)"
   ]
  },
  {
   "cell_type": "code",
   "execution_count": 112,
   "metadata": {},
   "outputs": [
    {
     "data": {
      "text/plain": [
       "{'fit_time': array([90.73904586, 92.84741092, 91.07614446, 91.42421365, 89.31285882]),\n",
       " 'score_time': array([1.11402249, 0.8488059 , 1.0252583 , 0.94846416, 1.0970664 ]),\n",
       " 'test_r2': array([0.68311242, 0.62167659, 0.70884598, 0.88379198, 0.8292593 ]),\n",
       " 'test_neg_mean_absolute_error': array([-11.2526033 , -13.42823742, -11.71780122,  -8.3967838 ,\n",
       "        -13.46318893])}"
      ]
     },
     "execution_count": 112,
     "metadata": {},
     "output_type": "execute_result"
    }
   ],
   "source": [
    "cross_validate(model, X2, y2, scoring=['r2', 'neg_mean_absolute_error'], n_jobs=-1, verbose=0)"
   ]
  },
  {
   "cell_type": "code",
   "execution_count": null,
   "metadata": {},
   "outputs": [],
   "source": [
    "cross_val_score(model, X2, y2, cv=5).mean()"
   ]
  },
  {
   "cell_type": "code",
   "execution_count": null,
   "metadata": {},
   "outputs": [],
   "source": [
    "cross_val_predict(model, X2, y2, n_jobs=-1, verbose=0)"
   ]
  },
  {
   "cell_type": "markdown",
   "metadata": {},
   "source": [
    "## c) DataFrame3"
   ]
  },
  {
   "cell_type": "code",
   "execution_count": 113,
   "metadata": {},
   "outputs": [],
   "source": [
    "XGBRegressor3 = XGBRegressor(objective='reg:squarederror')"
   ]
  },
  {
   "cell_type": "code",
   "execution_count": 114,
   "metadata": {},
   "outputs": [
    {
     "data": {
      "text/plain": [
       "XGBRegressor(base_score=0.5, booster='gbtree', colsample_bylevel=1,\n",
       "             colsample_bynode=1, colsample_bytree=1, gamma=0, gpu_id=-1,\n",
       "             importance_type='gain', interaction_constraints='',\n",
       "             learning_rate=0.300000012, max_delta_step=0, max_depth=6,\n",
       "             min_child_weight=1, missing=nan, monotone_constraints='()',\n",
       "             n_estimators=100, n_jobs=0, num_parallel_tree=1, random_state=0,\n",
       "             reg_alpha=0, reg_lambda=1, scale_pos_weight=1, subsample=1,\n",
       "             tree_method='exact', validate_parameters=1, verbosity=None)"
      ]
     },
     "execution_count": 114,
     "metadata": {},
     "output_type": "execute_result"
    }
   ],
   "source": [
    "XGBRegressor3.fit(X3_train, y3_train)"
   ]
  },
  {
   "cell_type": "code",
   "execution_count": 115,
   "metadata": {},
   "outputs": [
    {
     "data": {
      "text/plain": [
       "0.8328698664240124"
      ]
     },
     "execution_count": 115,
     "metadata": {},
     "output_type": "execute_result"
    }
   ],
   "source": [
    "XGBRegressor3.score(X3_test, y3_test)"
   ]
  },
  {
   "cell_type": "code",
   "execution_count": 116,
   "metadata": {},
   "outputs": [],
   "source": [
    "predictions = XGBRegressor3.predict(X3_test)"
   ]
  },
  {
   "cell_type": "markdown",
   "metadata": {},
   "source": [
    "#### Les métriques"
   ]
  },
  {
   "cell_type": "code",
   "execution_count": 117,
   "metadata": {},
   "outputs": [
    {
     "name": "stdout",
     "output_type": "stream",
     "text": [
      "MSE   : 1033.6668650057527\n",
      "RMSE  : 32.15068996158174\n",
      "MSLE  : 0.10578468839607663\n",
      "RMSLE : 0.3252455816703382\n",
      "MAE   : 5.89301864705922\n",
      "R²    : 0.7924216039290195\n"
     ]
    }
   ],
   "source": [
    "print(\"MSE   : \"+ str(mean_squared_error(predictions, y3_test)))\n",
    "print(\"RMSE  : \"+ str(np.sqrt(mean_squared_error(predictions, y3_test))))\n",
    "print(\"MSLE  : \"+ str(mean_squared_log_error(abs(predictions), abs(y3_test))))\n",
    "print(\"RMSLE : \"+ str(np.sqrt(mean_squared_log_error(abs(predictions), abs(y3_test)))))\n",
    "print(\"MAE   : \"+ str(mean_absolute_error(predictions, y3_test)))\n",
    "print(\"R²    : \"+ str(r2_score(predictions, y3_test)))"
   ]
  },
  {
   "cell_type": "markdown",
   "metadata": {},
   "source": [
    "### ii) Cross validation"
   ]
  },
  {
   "cell_type": "code",
   "execution_count": 118,
   "metadata": {},
   "outputs": [
    {
     "data": {
      "text/plain": [
       "{'fit_time': array([0.30119324, 0.34707117, 0.32612658, 0.31515646, 0.30817533]),\n",
       " 'score_time': array([0.00997329, 0.00997281, 0.00997305, 0.00997376, 0.01097083]),\n",
       " 'test_r2': array([0.56842764, 0.73419621, 0.83919873, 0.98334317, 0.98314862]),\n",
       " 'test_neg_mean_absolute_error': array([-15.39864346,  -8.76056388,  -8.01665196,  -4.70720636,\n",
       "         -7.3978861 ])}"
      ]
     },
     "execution_count": 118,
     "metadata": {},
     "output_type": "execute_result"
    }
   ],
   "source": [
    "cross_validate(XGBRegressor3, X3, y3, scoring=['r2', 'neg_mean_absolute_error'], n_jobs=-1, verbose=0)"
   ]
  },
  {
   "cell_type": "code",
   "execution_count": 119,
   "metadata": {},
   "outputs": [
    {
     "data": {
      "text/plain": [
       "0.8216628753060592"
      ]
     },
     "execution_count": 119,
     "metadata": {},
     "output_type": "execute_result"
    }
   ],
   "source": [
    "cross_val_score(XGBRegressor3, X3, y3, cv=5).mean()"
   ]
  },
  {
   "cell_type": "code",
   "execution_count": 120,
   "metadata": {},
   "outputs": [
    {
     "data": {
      "text/plain": [
       "array([ 28.408535,  38.930515,  28.11068 , ...,  48.30895 , 496.30548 ,\n",
       "        32.220284], dtype=float32)"
      ]
     },
     "execution_count": 120,
     "metadata": {},
     "output_type": "execute_result"
    }
   ],
   "source": [
    "cross_val_predict(XGBRegressor3, X3, y3, n_jobs=-1, verbose=0)"
   ]
  },
  {
   "cell_type": "markdown",
   "metadata": {},
   "source": [
    "## **4) LightGBM**"
   ]
  },
  {
   "cell_type": "markdown",
   "metadata": {},
   "source": [
    "## a) DataFrame1"
   ]
  },
  {
   "cell_type": "code",
   "execution_count": 121,
   "metadata": {},
   "outputs": [],
   "source": [
    "lightgbm1 = lightgbm.LGBMRegressor(boosting_type='gbdt', num_leaves=31, max_depth=- 1, learning_rate=0.1, n_estimators=100, subsample_for_bin=200000, objective=None, class_weight=None, min_split_gain=0.0, min_child_weight=0.001, min_child_samples=20, subsample=1.0, subsample_freq=0, colsample_bytree=1.0, reg_alpha=0.0, reg_lambda=0.0, random_state=None, n_jobs=- 1, silent=True, importance_type='split')"
   ]
  },
  {
   "cell_type": "code",
   "execution_count": 122,
   "metadata": {},
   "outputs": [
    {
     "data": {
      "text/plain": [
       "LGBMRegressor()"
      ]
     },
     "execution_count": 122,
     "metadata": {},
     "output_type": "execute_result"
    }
   ],
   "source": [
    "lightgbm1.fit(X1_train, y1_train) "
   ]
  },
  {
   "cell_type": "code",
   "execution_count": 123,
   "metadata": {},
   "outputs": [
    {
     "data": {
      "text/plain": [
       "0.7681376118085204"
      ]
     },
     "execution_count": 123,
     "metadata": {},
     "output_type": "execute_result"
    }
   ],
   "source": [
    "lightgbm1.score(X1_test, y1_test) "
   ]
  },
  {
   "cell_type": "code",
   "execution_count": 124,
   "metadata": {},
   "outputs": [],
   "source": [
    "predictions = lightgbm1.predict(X1_test) "
   ]
  },
  {
   "cell_type": "markdown",
   "metadata": {},
   "source": [
    "#### Les métriques"
   ]
  },
  {
   "cell_type": "code",
   "execution_count": 125,
   "metadata": {},
   "outputs": [
    {
     "name": "stdout",
     "output_type": "stream",
     "text": [
      "MSE   : 1172.590886089292\n",
      "RMSE  : 34.24311443325931\n",
      "MSLE  : 0.2562330979433545\n",
      "RMSLE : 0.5061947233460208\n",
      "MAE   : 11.138617222389096\n",
      "R²    : 0.642961895948958\n"
     ]
    }
   ],
   "source": [
    "print(\"MSE   : \"+ str(mean_squared_error(predictions, y1_test)))\n",
    "print(\"RMSE  : \"+ str(np.sqrt(mean_squared_error(predictions, y1_test))))\n",
    "print(\"MSLE  : \"+ str(mean_squared_log_error(abs(predictions), abs(y1_test))))\n",
    "print(\"RMSLE : \"+ str(np.sqrt(mean_squared_log_error(abs(predictions), abs(y1_test)))))\n",
    "print(\"MAE   : \"+ str(mean_absolute_error(predictions, y1_test)))\n",
    "print(\"R²    : \"+ str(r2_score(predictions, y1_test)))"
   ]
  },
  {
   "cell_type": "markdown",
   "metadata": {},
   "source": [
    "### ii) Cross validation"
   ]
  },
  {
   "cell_type": "code",
   "execution_count": 126,
   "metadata": {},
   "outputs": [
    {
     "data": {
      "text/plain": [
       "{'fit_time': array([0.17554545, 0.18949294, 0.20545268, 0.18550658, 0.17554545]),\n",
       " 'score_time': array([0.05982447, 0.04088902, 0.03490376, 0.04786897, 0.05184531]),\n",
       " 'test_r2': array([0.44824045, 0.15077558, 0.23695475, 0.4141303 , 0.38047783]),\n",
       " 'test_neg_mean_absolute_error': array([-18.34675653, -22.74027189, -21.65980381, -20.60760711,\n",
       "        -25.31817539])}"
      ]
     },
     "execution_count": 126,
     "metadata": {},
     "output_type": "execute_result"
    }
   ],
   "source": [
    "cross_validate(lightgbm1, X1, y1, scoring=['r2', 'neg_mean_absolute_error'], n_jobs=-1, verbose=0)"
   ]
  },
  {
   "cell_type": "code",
   "execution_count": 127,
   "metadata": {},
   "outputs": [
    {
     "data": {
      "text/plain": [
       "0.3261157830004173"
      ]
     },
     "execution_count": 127,
     "metadata": {},
     "output_type": "execute_result"
    }
   ],
   "source": [
    "cross_val_score(lightgbm1, X1, y1, cv=5).mean()"
   ]
  },
  {
   "cell_type": "code",
   "execution_count": 128,
   "metadata": {},
   "outputs": [
    {
     "data": {
      "text/plain": [
       "array([ 27.23678211,  43.31679431,  43.23198555, ...,  48.30010239,\n",
       "       128.45419373,  30.40136624])"
      ]
     },
     "execution_count": 128,
     "metadata": {},
     "output_type": "execute_result"
    }
   ],
   "source": [
    "cross_val_predict(lightgbm1, X1, y1, n_jobs=-1, verbose=0)"
   ]
  },
  {
   "cell_type": "markdown",
   "metadata": {},
   "source": [
    "## b) DataFrame2"
   ]
  },
  {
   "cell_type": "code",
   "execution_count": 129,
   "metadata": {},
   "outputs": [],
   "source": [
    "lightgbm2 = lightgbm.LGBMRegressor(boosting_type='gbdt', num_leaves=31, max_depth=- 1, learning_rate=0.1, n_estimators=100, subsample_for_bin=200000, objective=None, class_weight=None, min_split_gain=0.0, min_child_weight=0.001, min_child_samples=20, subsample=1.0, subsample_freq=0, colsample_bytree=1.0, reg_alpha=0.0, reg_lambda=0.0, random_state=None, n_jobs=- 1, silent=True, importance_type='split')"
   ]
  },
  {
   "cell_type": "code",
   "execution_count": 130,
   "metadata": {},
   "outputs": [
    {
     "data": {
      "text/plain": [
       "LGBMRegressor()"
      ]
     },
     "execution_count": 130,
     "metadata": {},
     "output_type": "execute_result"
    }
   ],
   "source": [
    "lightgbm2.fit(X2_train, y2_train)"
   ]
  },
  {
   "cell_type": "code",
   "execution_count": 131,
   "metadata": {},
   "outputs": [
    {
     "data": {
      "text/plain": [
       "0.7162939525687436"
      ]
     },
     "execution_count": 131,
     "metadata": {},
     "output_type": "execute_result"
    }
   ],
   "source": [
    "lightgbm2.score(X2_test, y2_test) "
   ]
  },
  {
   "cell_type": "code",
   "execution_count": 132,
   "metadata": {},
   "outputs": [],
   "source": [
    "predictions = lightgbm2.predict(X2_test) "
   ]
  },
  {
   "cell_type": "markdown",
   "metadata": {},
   "source": [
    "#### Les métriques"
   ]
  },
  {
   "cell_type": "code",
   "execution_count": 133,
   "metadata": {},
   "outputs": [
    {
     "name": "stdout",
     "output_type": "stream",
     "text": [
      "MSE   : 1434.019567942554\n",
      "RMSE  : 37.86845082575407\n",
      "MSLE  : 0.23066226664877001\n",
      "RMSLE : 0.48027311672502554\n",
      "MAE   : 11.21120049106515\n",
      "R²    : 0.5145924251937324\n"
     ]
    }
   ],
   "source": [
    "print(\"MSE   : \"+ str(mean_squared_error(predictions, y2_test)))\n",
    "print(\"RMSE  : \"+ str(np.sqrt(mean_squared_error(predictions, y2_test))))\n",
    "print(\"MSLE  : \"+ str(mean_squared_log_error(abs(predictions), abs(y2_test))))\n",
    "print(\"RMSLE : \"+ str(np.sqrt(mean_squared_log_error(abs(predictions), abs(y2_test)))))\n",
    "print(\"MAE   : \"+ str(mean_absolute_error(predictions, y2_test)))\n",
    "print(\"R²    : \"+ str(r2_score(predictions, y2_test)))"
   ]
  },
  {
   "cell_type": "markdown",
   "metadata": {},
   "source": [
    "### ii) Cross validation"
   ]
  },
  {
   "cell_type": "code",
   "execution_count": 134,
   "metadata": {},
   "outputs": [
    {
     "data": {
      "text/plain": [
       "{'fit_time': array([0.26130199, 0.24335074, 0.26628757, 0.27626276, 0.24334407]),\n",
       " 'score_time': array([0.04487967, 0.04089236, 0.04886985, 0.03789759, 0.04488015]),\n",
       " 'test_r2': array([0.41493265, 0.14616106, 0.31072278, 0.37450172, 0.25484688]),\n",
       " 'test_neg_mean_absolute_error': array([-18.37037416, -22.47896292, -19.46012212, -20.82837511,\n",
       "        -24.80180423])}"
      ]
     },
     "execution_count": 134,
     "metadata": {},
     "output_type": "execute_result"
    }
   ],
   "source": [
    "cross_validate(lightgbm2, X2, y2, scoring=['r2', 'neg_mean_absolute_error'], n_jobs=-1, verbose=0)"
   ]
  },
  {
   "cell_type": "code",
   "execution_count": 135,
   "metadata": {},
   "outputs": [
    {
     "data": {
      "text/plain": [
       "0.30023301833603044"
      ]
     },
     "execution_count": 135,
     "metadata": {},
     "output_type": "execute_result"
    }
   ],
   "source": [
    "cross_val_score(lightgbm2, X2, y2, cv=5).mean()"
   ]
  },
  {
   "cell_type": "code",
   "execution_count": 136,
   "metadata": {},
   "outputs": [
    {
     "data": {
      "text/plain": [
       "array([28.06511367, 39.75860448, 30.42027683, ..., 79.31414296,\n",
       "       99.97281241, 31.91002931])"
      ]
     },
     "execution_count": 136,
     "metadata": {},
     "output_type": "execute_result"
    }
   ],
   "source": [
    "cross_val_predict(lightgbm2, X2, y2, n_jobs=-1, verbose=0)"
   ]
  },
  {
   "cell_type": "markdown",
   "metadata": {},
   "source": [
    "## c) DataFrame3"
   ]
  },
  {
   "cell_type": "code",
   "execution_count": 137,
   "metadata": {},
   "outputs": [],
   "source": [
    "lightgbm3 = lightgbm.LGBMRegressor(boosting_type='gbdt', num_leaves=31, max_depth=- 1, learning_rate=0.1, n_estimators=100, subsample_for_bin=200000, objective=None, class_weight=None, min_split_gain=0.0, min_child_weight=0.001, min_child_samples=20, subsample=1.0, subsample_freq=0, colsample_bytree=1.0, reg_alpha=0.0, reg_lambda=0.0, random_state=None, n_jobs=- 1, silent=True, importance_type='split')"
   ]
  },
  {
   "cell_type": "code",
   "execution_count": 138,
   "metadata": {},
   "outputs": [
    {
     "data": {
      "text/plain": [
       "LGBMRegressor()"
      ]
     },
     "execution_count": 138,
     "metadata": {},
     "output_type": "execute_result"
    }
   ],
   "source": [
    "lightgbm3.fit(X3_train, y3_train)"
   ]
  },
  {
   "cell_type": "code",
   "execution_count": 139,
   "metadata": {},
   "outputs": [
    {
     "data": {
      "text/plain": [
       "0.7097779841801382"
      ]
     },
     "execution_count": 139,
     "metadata": {},
     "output_type": "execute_result"
    }
   ],
   "source": [
    "lightgbm3.score(X3_test, y3_test)"
   ]
  },
  {
   "cell_type": "code",
   "execution_count": 140,
   "metadata": {},
   "outputs": [],
   "source": [
    "predictions = lightgbm3.predict(X3_test)"
   ]
  },
  {
   "cell_type": "markdown",
   "metadata": {},
   "source": [
    "#### Les métriques"
   ]
  },
  {
   "cell_type": "code",
   "execution_count": 141,
   "metadata": {},
   "outputs": [
    {
     "name": "stdout",
     "output_type": "stream",
     "text": [
      "MSE   : 1794.9658438570657\n",
      "RMSE  : 42.36703723246488\n",
      "MSLE  : 0.2545084237175574\n",
      "RMSLE : 0.5044882790685601\n",
      "MAE   : 11.602344432076096\n",
      "R²    : 0.46135744638443543\n"
     ]
    }
   ],
   "source": [
    "print(\"MSE   : \"+ str(mean_squared_error(predictions, y3_test)))\n",
    "print(\"RMSE  : \"+ str(np.sqrt(mean_squared_error(predictions, y3_test))))\n",
    "print(\"MSLE  : \"+ str(mean_squared_log_error(abs(predictions), abs(y3_test))))\n",
    "print(\"RMSLE : \"+ str(np.sqrt(mean_squared_log_error(abs(predictions), abs(y3_test)))))\n",
    "print(\"MAE   : \"+ str(mean_absolute_error(predictions, y3_test)))\n",
    "print(\"R²    : \"+ str(r2_score(predictions, y3_test)))"
   ]
  },
  {
   "cell_type": "markdown",
   "metadata": {},
   "source": [
    "### ii) Cross validation"
   ]
  },
  {
   "cell_type": "code",
   "execution_count": 142,
   "metadata": {},
   "outputs": [
    {
     "data": {
      "text/plain": [
       "{'fit_time': array([0.0917182 , 0.07480049, 0.10671759, 0.0927515 , 0.1056819 ]),\n",
       " 'score_time': array([0.02593088, 0.0159564 , 0.02094364, 0.02293992, 0.01695538]),\n",
       " 'test_r2': array([0.44824045, 0.15077558, 0.23695475, 0.4141303 , 0.38047783]),\n",
       " 'test_neg_mean_absolute_error': array([-18.34675653, -22.74027189, -21.65980381, -20.60760711,\n",
       "        -25.31817539])}"
      ]
     },
     "execution_count": 142,
     "metadata": {},
     "output_type": "execute_result"
    }
   ],
   "source": [
    "cross_validate(lightgbm3, X3, y3, scoring=['r2', 'neg_mean_absolute_error'], n_jobs=-1, verbose=0)"
   ]
  },
  {
   "cell_type": "code",
   "execution_count": 143,
   "metadata": {},
   "outputs": [
    {
     "data": {
      "text/plain": [
       "0.3261157830004173"
      ]
     },
     "execution_count": 143,
     "metadata": {},
     "output_type": "execute_result"
    }
   ],
   "source": [
    "cross_val_score(lightgbm3, X3, y3, cv=5).mean()"
   ]
  },
  {
   "cell_type": "code",
   "execution_count": 144,
   "metadata": {},
   "outputs": [
    {
     "data": {
      "text/plain": [
       "array([ 27.23678211,  43.31679431,  43.23198555, ...,  48.30010239,\n",
       "       128.45419373,  30.40136624])"
      ]
     },
     "execution_count": 144,
     "metadata": {},
     "output_type": "execute_result"
    }
   ],
   "source": [
    "cross_val_predict(lightgbm3, X3, y3, n_jobs=-1, verbose=0)"
   ]
  },
  {
   "cell_type": "markdown",
   "metadata": {},
   "source": [
    "## **5) Catboost**"
   ]
  },
  {
   "cell_type": "markdown",
   "metadata": {},
   "source": [
    "## a) DataFrame1"
   ]
  },
  {
   "cell_type": "code",
   "execution_count": 145,
   "metadata": {},
   "outputs": [],
   "source": [
    "CatBoostRegressor1 = CatBoostRegressor(verbose=0, n_estimators=100)\n",
    "# cv = RepeatedKFold(n_splits=10, n_repeats=3, random_state=1)\n",
    "# n_scores = cross_val_score(CatBoostRegressor1, X1_train, y1_train, scoring='neg_mean_absolute_error', cv=cv, n_jobs=-1, error_score='raise')\n",
    "# print('MAE: %.3f (%.3f)' % (mean(n_scores), std(n_scores)))"
   ]
  },
  {
   "cell_type": "code",
   "execution_count": 146,
   "metadata": {},
   "outputs": [
    {
     "data": {
      "text/plain": [
       "<catboost.core.CatBoostRegressor at 0x1417fe2c8d0>"
      ]
     },
     "execution_count": 146,
     "metadata": {},
     "output_type": "execute_result"
    }
   ],
   "source": [
    "CatBoostRegressor1.fit(X1_train, y1_train)"
   ]
  },
  {
   "cell_type": "code",
   "execution_count": 147,
   "metadata": {},
   "outputs": [
    {
     "data": {
      "text/plain": [
       "0.8596943338347125"
      ]
     },
     "execution_count": 147,
     "metadata": {},
     "output_type": "execute_result"
    }
   ],
   "source": [
    "CatBoostRegressor1.score(X1_test, y1_test)"
   ]
  },
  {
   "cell_type": "code",
   "execution_count": 148,
   "metadata": {},
   "outputs": [],
   "source": [
    "predictions = CatBoostRegressor1.predict(X1_test)"
   ]
  },
  {
   "cell_type": "markdown",
   "metadata": {},
   "source": [
    "#### Les métriques"
   ]
  },
  {
   "cell_type": "code",
   "execution_count": 149,
   "metadata": {},
   "outputs": [
    {
     "name": "stdout",
     "output_type": "stream",
     "text": [
      "MSE   : 709.5637489778461\n",
      "RMSE  : 26.637637826538715\n",
      "MSLE  : 0.24002006407923732\n",
      "RMSLE : 0.4899184259437864\n",
      "MAE   : 9.464675962033647\n",
      "R²    : 0.8184645224258239\n"
     ]
    }
   ],
   "source": [
    "print(\"MSE   : \"+ str(mean_squared_error(predictions, y1_test)))\n",
    "print(\"RMSE  : \"+ str(np.sqrt(mean_squared_error(predictions, y1_test))))\n",
    "print(\"MSLE  : \"+ str(mean_squared_log_error(abs(predictions), abs(y1_test))))\n",
    "print(\"RMSLE : \"+ str(np.sqrt(mean_squared_log_error(abs(predictions), abs(y1_test)))))\n",
    "print(\"MAE   : \"+ str(mean_absolute_error(predictions, y1_test)))\n",
    "print(\"R²    : \"+ str(r2_score(predictions, y1_test)))"
   ]
  },
  {
   "cell_type": "markdown",
   "metadata": {},
   "source": [
    "### ii) Cross validation"
   ]
  },
  {
   "cell_type": "code",
   "execution_count": 150,
   "metadata": {},
   "outputs": [
    {
     "data": {
      "text/plain": [
       "{'fit_time': array([1.67058396, 1.89199138, 1.86805606, 1.87104726, 1.87603521]),\n",
       " 'score_time': array([0.17253995, 0.00598359, 0.01097226, 0.01196885, 0.00897908]),\n",
       " 'test_r2': array([0.55516215, 0.34725648, 0.37917943, 0.84130705, 0.84241587]),\n",
       " 'test_neg_mean_absolute_error': array([-17.34888723, -17.23498687, -18.09022124, -12.64043281,\n",
       "        -19.628215  ])}"
      ]
     },
     "execution_count": 150,
     "metadata": {},
     "output_type": "execute_result"
    }
   ],
   "source": [
    "cross_validate(CatBoostRegressor1, X1, y1, scoring=['r2', 'neg_mean_absolute_error'], n_jobs=-1, verbose=0)"
   ]
  },
  {
   "cell_type": "code",
   "execution_count": 151,
   "metadata": {},
   "outputs": [
    {
     "data": {
      "text/plain": [
       "0.5930641959320202"
      ]
     },
     "execution_count": 151,
     "metadata": {},
     "output_type": "execute_result"
    }
   ],
   "source": [
    "cross_val_score(CatBoostRegressor1, X1, y1, cv=5).mean()"
   ]
  },
  {
   "cell_type": "code",
   "execution_count": 152,
   "metadata": {},
   "outputs": [
    {
     "data": {
      "text/plain": [
       "array([ 28.5983812 ,  34.3624315 ,  32.28432867, ...,  40.62516233,\n",
       "       479.02550682,  31.51304238])"
      ]
     },
     "execution_count": 152,
     "metadata": {},
     "output_type": "execute_result"
    }
   ],
   "source": [
    "cross_val_predict(CatBoostRegressor1, X1, y1, n_jobs=-1, verbose=0)"
   ]
  },
  {
   "cell_type": "markdown",
   "metadata": {},
   "source": [
    "## b) DataFrame2"
   ]
  },
  {
   "cell_type": "code",
   "execution_count": 153,
   "metadata": {},
   "outputs": [],
   "source": [
    "CatBoostRegressor2 = CatBoostRegressor(verbose=0, n_estimators=100)"
   ]
  },
  {
   "cell_type": "code",
   "execution_count": 154,
   "metadata": {},
   "outputs": [
    {
     "data": {
      "text/plain": [
       "<catboost.core.CatBoostRegressor at 0x1417fe2cfd0>"
      ]
     },
     "execution_count": 154,
     "metadata": {},
     "output_type": "execute_result"
    }
   ],
   "source": [
    "CatBoostRegressor2.fit(X2_train, y2_train)"
   ]
  },
  {
   "cell_type": "code",
   "execution_count": 155,
   "metadata": {},
   "outputs": [
    {
     "data": {
      "text/plain": [
       "0.8526829944322163"
      ]
     },
     "execution_count": 155,
     "metadata": {},
     "output_type": "execute_result"
    }
   ],
   "source": [
    "CatBoostRegressor2.score(X2_test, y2_test)"
   ]
  },
  {
   "cell_type": "code",
   "execution_count": 156,
   "metadata": {},
   "outputs": [],
   "source": [
    "predictions = CatBoostRegressor2.predict(X2_test)"
   ]
  },
  {
   "cell_type": "markdown",
   "metadata": {},
   "source": [
    "#### Les métriques"
   ]
  },
  {
   "cell_type": "code",
   "execution_count": 157,
   "metadata": {},
   "outputs": [
    {
     "name": "stdout",
     "output_type": "stream",
     "text": [
      "MSE   : 744.6280070081779\n",
      "RMSE  : 27.287872892700484\n",
      "MSLE  : 0.17860149480791704\n",
      "RMSLE : 0.4226127007177104\n",
      "MAE   : 8.034798685632325\n",
      "R²    : 0.7905813426740715\n"
     ]
    }
   ],
   "source": [
    "print(\"MSE   : \"+ str(mean_squared_error(predictions, y2_test)))\n",
    "print(\"RMSE  : \"+ str(np.sqrt(mean_squared_error(predictions, y2_test))))\n",
    "print(\"MSLE  : \"+ str(mean_squared_log_error(abs(predictions), abs(y2_test))))\n",
    "print(\"RMSLE : \"+ str(np.sqrt(mean_squared_log_error(abs(predictions), abs(y2_test)))))\n",
    "print(\"MAE   : \"+ str(mean_absolute_error(predictions, y2_test)))\n",
    "print(\"R²    : \"+ str(r2_score(predictions, y2_test)))"
   ]
  },
  {
   "cell_type": "markdown",
   "metadata": {},
   "source": [
    "### ii) Cross validation"
   ]
  },
  {
   "cell_type": "code",
   "execution_count": 158,
   "metadata": {},
   "outputs": [
    {
     "data": {
      "text/plain": [
       "{'fit_time': array([1.28755784, 1.16089535, 1.31547594, 1.40923023, 1.25963116]),\n",
       " 'score_time': array([0.0179522 , 0.07978678, 0.02194118, 0.00598359, 0.04687476]),\n",
       " 'test_r2': array([0.69697375, 0.47946564, 0.60217017, 0.93349954, 0.92997481]),\n",
       " 'test_neg_mean_absolute_error': array([-14.87254931, -15.25072165, -13.52644615,  -9.60568651,\n",
       "        -11.60607992])}"
      ]
     },
     "execution_count": 158,
     "metadata": {},
     "output_type": "execute_result"
    }
   ],
   "source": [
    "cross_validate(CatBoostRegressor2, X2, y2, scoring=['r2', 'neg_mean_absolute_error'], n_jobs=-1, verbose=0)"
   ]
  },
  {
   "cell_type": "code",
   "execution_count": 159,
   "metadata": {},
   "outputs": [
    {
     "data": {
      "text/plain": [
       "0.7284167837149569"
      ]
     },
     "execution_count": 159,
     "metadata": {},
     "output_type": "execute_result"
    }
   ],
   "source": [
    "cross_val_score(CatBoostRegressor2, X2, y2, cv=5).mean()"
   ]
  },
  {
   "cell_type": "code",
   "execution_count": 160,
   "metadata": {},
   "outputs": [
    {
     "data": {
      "text/plain": [
       "array([ 28.70594338,  42.22491451,  28.30344165, ...,  43.56357089,\n",
       "       478.55712264,  37.89926414])"
      ]
     },
     "execution_count": 160,
     "metadata": {},
     "output_type": "execute_result"
    }
   ],
   "source": [
    "cross_val_predict(CatBoostRegressor2, X2, y2, n_jobs=-1, verbose=0)"
   ]
  },
  {
   "cell_type": "markdown",
   "metadata": {},
   "source": [
    "## c) DataFrame3"
   ]
  },
  {
   "cell_type": "code",
   "execution_count": 161,
   "metadata": {},
   "outputs": [],
   "source": [
    "CatBoostRegressor3 = CatBoostRegressor(verbose=0, n_estimators=100)"
   ]
  },
  {
   "cell_type": "code",
   "execution_count": 162,
   "metadata": {},
   "outputs": [
    {
     "data": {
      "text/plain": [
       "<catboost.core.CatBoostRegressor at 0x14147c7bf60>"
      ]
     },
     "execution_count": 162,
     "metadata": {},
     "output_type": "execute_result"
    }
   ],
   "source": [
    "CatBoostRegressor3.fit(X3_train, y3_train)"
   ]
  },
  {
   "cell_type": "code",
   "execution_count": 163,
   "metadata": {},
   "outputs": [
    {
     "data": {
      "text/plain": [
       "0.784975011771095"
      ]
     },
     "execution_count": 163,
     "metadata": {},
     "output_type": "execute_result"
    }
   ],
   "source": [
    "CatBoostRegressor3.score(X3_test, y3_test)"
   ]
  },
  {
   "cell_type": "code",
   "execution_count": 164,
   "metadata": {},
   "outputs": [],
   "source": [
    "predictions = CatBoostRegressor3.predict(X3_test)"
   ]
  },
  {
   "cell_type": "markdown",
   "metadata": {},
   "source": [
    "#### Les métriques"
   ]
  },
  {
   "cell_type": "code",
   "execution_count": 165,
   "metadata": {},
   "outputs": [
    {
     "name": "stdout",
     "output_type": "stream",
     "text": [
      "MSE   : 1329.8870809518994\n",
      "RMSE  : 36.467616880623\n",
      "MSLE  : 0.2547504246902775\n",
      "RMSLE : 0.504728070043937\n",
      "MAE   : 10.231520068125713\n",
      "R²    : 0.6624428778342357\n"
     ]
    }
   ],
   "source": [
    "print(\"MSE   : \"+ str(mean_squared_error(predictions, y3_test)))\n",
    "print(\"RMSE  : \"+ str(np.sqrt(mean_squared_error(predictions, y3_test))))\n",
    "print(\"MSLE  : \"+ str(mean_squared_log_error(abs(predictions), abs(y3_test))))\n",
    "print(\"RMSLE : \"+ str(np.sqrt(mean_squared_log_error(abs(predictions), abs(y3_test)))))\n",
    "print(\"MAE   : \"+ str(mean_absolute_error(predictions, y3_test)))\n",
    "print(\"R²    : \"+ str(r2_score(predictions, y3_test)))"
   ]
  },
  {
   "cell_type": "markdown",
   "metadata": {},
   "source": [
    "### ii) Cross validation"
   ]
  },
  {
   "cell_type": "code",
   "execution_count": 166,
   "metadata": {},
   "outputs": [
    {
     "data": {
      "text/plain": [
       "{'fit_time': array([1.1369586 , 1.39327407, 1.43416548, 1.30949831, 1.33044243]),\n",
       " 'score_time': array([0.1017282 , 0.01396227, 0.00398946, 0.03191471, 0.0339098 ]),\n",
       " 'test_r2': array([0.55516215, 0.34725648, 0.37917943, 0.84130705, 0.84241587]),\n",
       " 'test_neg_mean_absolute_error': array([-17.34888723, -17.23498687, -18.09022124, -12.64043281,\n",
       "        -19.628215  ])}"
      ]
     },
     "execution_count": 166,
     "metadata": {},
     "output_type": "execute_result"
    }
   ],
   "source": [
    "cross_validate(CatBoostRegressor3, X3, y3, scoring=['r2', 'neg_mean_absolute_error'], n_jobs=-1, verbose=0)"
   ]
  },
  {
   "cell_type": "code",
   "execution_count": 167,
   "metadata": {},
   "outputs": [
    {
     "data": {
      "text/plain": [
       "0.5930641959320202"
      ]
     },
     "execution_count": 167,
     "metadata": {},
     "output_type": "execute_result"
    }
   ],
   "source": [
    "cross_val_score(CatBoostRegressor3, X3, y3, cv=5).mean()"
   ]
  },
  {
   "cell_type": "code",
   "execution_count": 168,
   "metadata": {},
   "outputs": [
    {
     "data": {
      "text/plain": [
       "array([ 28.5983812 ,  34.3624315 ,  32.28432867, ...,  40.62516233,\n",
       "       479.02550682,  31.51304238])"
      ]
     },
     "execution_count": 168,
     "metadata": {},
     "output_type": "execute_result"
    }
   ],
   "source": [
    "cross_val_predict(CatBoostRegressor3, X3, y3, n_jobs=-1, verbose=0)"
   ]
  },
  {
   "cell_type": "markdown",
   "metadata": {},
   "source": [
    "## 6) NGBoost"
   ]
  },
  {
   "cell_type": "markdown",
   "metadata": {},
   "source": [
    "## a) DataFrame1"
   ]
  },
  {
   "cell_type": "code",
   "execution_count": 169,
   "metadata": {},
   "outputs": [],
   "source": [
    "ngb1 = NGBoost(Base=default_tree_learner, Dist=Normal, natural_gradient=True,verbose=False)"
   ]
  },
  {
   "cell_type": "code",
   "execution_count": 170,
   "metadata": {},
   "outputs": [
    {
     "data": {
      "text/plain": [
       "<ngboost.ngboost.NGBoost at 0x1417fe16a58>"
      ]
     },
     "execution_count": 170,
     "metadata": {},
     "output_type": "execute_result"
    }
   ],
   "source": [
    "ngb1.fit(X1_train, y1_train)"
   ]
  },
  {
   "cell_type": "code",
   "execution_count": 171,
   "metadata": {},
   "outputs": [
    {
     "data": {
      "text/plain": [
       "4.359634525604506"
      ]
     },
     "execution_count": 171,
     "metadata": {},
     "output_type": "execute_result"
    }
   ],
   "source": [
    "ngb1.score(X1_test, y1_test)"
   ]
  },
  {
   "cell_type": "code",
   "execution_count": 172,
   "metadata": {},
   "outputs": [],
   "source": [
    "predictions = ngb1.predict(X1_test)"
   ]
  },
  {
   "cell_type": "markdown",
   "metadata": {},
   "source": [
    "#### Les métriques"
   ]
  },
  {
   "cell_type": "code",
   "execution_count": 173,
   "metadata": {},
   "outputs": [
    {
     "name": "stdout",
     "output_type": "stream",
     "text": [
      "MSE   : 2507.761108522377\n",
      "RMSE  : 50.07755094373503\n",
      "MSLE  : 0.40464962298215523\n",
      "RMSLE : 0.6361207613198576\n",
      "MAE   : 17.540915599670047\n",
      "R²    : -0.28855897721050017\n"
     ]
    }
   ],
   "source": [
    "print(\"MSE   : \"+ str(mean_squared_error(predictions, y1_test)))\n",
    "print(\"RMSE  : \"+ str(np.sqrt(mean_squared_error(predictions, y1_test))))\n",
    "print(\"MSLE  : \"+ str(mean_squared_log_error(abs(predictions), abs(y1_test))))\n",
    "print(\"RMSLE : \"+ str(np.sqrt(mean_squared_log_error(abs(predictions), abs(y1_test)))))\n",
    "print(\"MAE   : \"+ str(mean_absolute_error(predictions, y1_test)))\n",
    "print(\"R²    : \"+ str(r2_score(predictions, y1_test)))"
   ]
  },
  {
   "cell_type": "markdown",
   "metadata": {},
   "source": [
    "## b) DataFrame2"
   ]
  },
  {
   "cell_type": "code",
   "execution_count": 174,
   "metadata": {},
   "outputs": [
    {
     "data": {
      "text/plain": [
       "<ngboost.ngboost.NGBoost at 0x14118d5ca58>"
      ]
     },
     "execution_count": 174,
     "metadata": {},
     "output_type": "execute_result"
    }
   ],
   "source": [
    "ngb2 = NGBoost(Base=default_tree_learner, Dist=Normal, natural_gradient=True,verbose=False)\n",
    "ngb2.fit(X2_train, y2_train)"
   ]
  },
  {
   "cell_type": "code",
   "execution_count": 175,
   "metadata": {},
   "outputs": [
    {
     "data": {
      "text/plain": [
       "4.260012152554634"
      ]
     },
     "execution_count": 175,
     "metadata": {},
     "output_type": "execute_result"
    }
   ],
   "source": [
    "ngb2.score(X2_test, y2_test)"
   ]
  },
  {
   "cell_type": "markdown",
   "metadata": {},
   "source": [
    "## c) DataFrame3"
   ]
  },
  {
   "cell_type": "code",
   "execution_count": 176,
   "metadata": {},
   "outputs": [
    {
     "data": {
      "text/plain": [
       "<ngboost.ngboost.NGBoost at 0x14118d892b0>"
      ]
     },
     "execution_count": 176,
     "metadata": {},
     "output_type": "execute_result"
    }
   ],
   "source": [
    "ngb3 = NGBoost(Base=default_tree_learner, Dist=Normal, natural_gradient=True,verbose=False)\n",
    "ngb3.fit(X3_train, y3_train)"
   ]
  },
  {
   "cell_type": "code",
   "execution_count": 177,
   "metadata": {},
   "outputs": [
    {
     "data": {
      "text/plain": [
       "4.4679833938051745"
      ]
     },
     "execution_count": 177,
     "metadata": {},
     "output_type": "execute_result"
    }
   ],
   "source": [
    "ngb3.score(X3_test, y3_test)"
   ]
  },
  {
   "cell_type": "markdown",
   "metadata": {},
   "source": [
    "## **7) ADABoost**"
   ]
  },
  {
   "cell_type": "markdown",
   "metadata": {},
   "source": [
    "## a) DataFrame1"
   ]
  },
  {
   "cell_type": "code",
   "execution_count": 178,
   "metadata": {},
   "outputs": [
    {
     "data": {
      "text/plain": [
       "AdaBoostRegressor(n_estimators=100, random_state=0)"
      ]
     },
     "execution_count": 178,
     "metadata": {},
     "output_type": "execute_result"
    }
   ],
   "source": [
    "AdaBoostRegressor1 = AdaBoostRegressor(random_state=0, n_estimators=100)\n",
    "AdaBoostRegressor1.fit(X1_train, y1_train)"
   ]
  },
  {
   "cell_type": "code",
   "execution_count": 179,
   "metadata": {},
   "outputs": [
    {
     "data": {
      "text/plain": [
       "-0.10765317622072468"
      ]
     },
     "execution_count": 179,
     "metadata": {},
     "output_type": "execute_result"
    }
   ],
   "source": [
    "AdaBoostRegressor1.score(X1_test, y1_test)"
   ]
  },
  {
   "cell_type": "markdown",
   "metadata": {},
   "source": [
    "## b) DataFrame2"
   ]
  },
  {
   "cell_type": "code",
   "execution_count": 180,
   "metadata": {},
   "outputs": [
    {
     "data": {
      "text/plain": [
       "AdaBoostRegressor(n_estimators=100, random_state=0)"
      ]
     },
     "execution_count": 180,
     "metadata": {},
     "output_type": "execute_result"
    }
   ],
   "source": [
    "AdaBoostRegressor2 = AdaBoostRegressor(random_state=0, n_estimators=100)\n",
    "AdaBoostRegressor2.fit(X2_train, y2_train)"
   ]
  },
  {
   "cell_type": "code",
   "execution_count": 181,
   "metadata": {},
   "outputs": [
    {
     "data": {
      "text/plain": [
       "-0.21686017046646655"
      ]
     },
     "execution_count": 181,
     "metadata": {},
     "output_type": "execute_result"
    }
   ],
   "source": [
    "AdaBoostRegressor2.score(X2_test, y2_test)"
   ]
  },
  {
   "cell_type": "markdown",
   "metadata": {},
   "source": [
    "## c) DataFrame3"
   ]
  },
  {
   "cell_type": "code",
   "execution_count": 182,
   "metadata": {},
   "outputs": [
    {
     "data": {
      "text/plain": [
       "AdaBoostRegressor(n_estimators=100, random_state=0)"
      ]
     },
     "execution_count": 182,
     "metadata": {},
     "output_type": "execute_result"
    }
   ],
   "source": [
    "AdaBoostRegressor3 = AdaBoostRegressor(random_state=0, n_estimators=100)\n",
    "AdaBoostRegressor3.fit(X3_train, y3_train)"
   ]
  },
  {
   "cell_type": "code",
   "execution_count": 183,
   "metadata": {},
   "outputs": [
    {
     "data": {
      "text/plain": [
       "0.2276063947225433"
      ]
     },
     "execution_count": 183,
     "metadata": {},
     "output_type": "execute_result"
    }
   ],
   "source": [
    "AdaBoostRegressor3.score(X3_test, y3_test)"
   ]
  },
  {
   "cell_type": "markdown",
   "metadata": {},
   "source": [
    "## **8) Linear regression**"
   ]
  },
  {
   "cell_type": "markdown",
   "metadata": {},
   "source": [
    "## a) DataFrame1"
   ]
  },
  {
   "cell_type": "code",
   "execution_count": 184,
   "metadata": {},
   "outputs": [
    {
     "data": {
      "text/plain": [
       "LinearRegression()"
      ]
     },
     "execution_count": 184,
     "metadata": {},
     "output_type": "execute_result"
    }
   ],
   "source": [
    "model = LinearRegression()\n",
    "model.fit(X1_train, y1_train)"
   ]
  },
  {
   "cell_type": "code",
   "execution_count": 185,
   "metadata": {},
   "outputs": [
    {
     "data": {
      "text/plain": [
       "0.10166147871393671"
      ]
     },
     "execution_count": 185,
     "metadata": {},
     "output_type": "execute_result"
    }
   ],
   "source": [
    "model.score(X1_test, y1_test)"
   ]
  },
  {
   "cell_type": "markdown",
   "metadata": {},
   "source": [
    "## b) DataFrame2"
   ]
  },
  {
   "cell_type": "code",
   "execution_count": 186,
   "metadata": {},
   "outputs": [
    {
     "data": {
      "text/plain": [
       "LinearRegression()"
      ]
     },
     "execution_count": 186,
     "metadata": {},
     "output_type": "execute_result"
    }
   ],
   "source": [
    "model = LinearRegression()\n",
    "model.fit(X2_train, y2_train)"
   ]
  },
  {
   "cell_type": "code",
   "execution_count": 187,
   "metadata": {},
   "outputs": [
    {
     "data": {
      "text/plain": [
       "0.22373901763536974"
      ]
     },
     "execution_count": 187,
     "metadata": {},
     "output_type": "execute_result"
    }
   ],
   "source": [
    "model.score(X2_test, y2_test)"
   ]
  },
  {
   "cell_type": "markdown",
   "metadata": {},
   "source": [
    "## c) DataFrame3"
   ]
  },
  {
   "cell_type": "code",
   "execution_count": 188,
   "metadata": {},
   "outputs": [
    {
     "data": {
      "text/plain": [
       "LinearRegression()"
      ]
     },
     "execution_count": 188,
     "metadata": {},
     "output_type": "execute_result"
    }
   ],
   "source": [
    "model = LinearRegression()\n",
    "model.fit(X3_train, y3_train)"
   ]
  },
  {
   "cell_type": "code",
   "execution_count": 189,
   "metadata": {},
   "outputs": [
    {
     "data": {
      "text/plain": [
       "0.09275217485189946"
      ]
     },
     "execution_count": 189,
     "metadata": {},
     "output_type": "execute_result"
    }
   ],
   "source": [
    "model.score(X3_test, y3_test)"
   ]
  },
  {
   "cell_type": "markdown",
   "metadata": {},
   "source": [
    "## **9) Ridge**"
   ]
  },
  {
   "cell_type": "markdown",
   "metadata": {},
   "source": [
    "## a) DataFrame1"
   ]
  },
  {
   "cell_type": "code",
   "execution_count": 190,
   "metadata": {},
   "outputs": [
    {
     "data": {
      "text/plain": [
       "Ridge()"
      ]
     },
     "execution_count": 190,
     "metadata": {},
     "output_type": "execute_result"
    }
   ],
   "source": [
    "modelRidge = Ridge(alpha=1.0)\n",
    "modelRidge.fit(X1_train, y1_train)"
   ]
  },
  {
   "cell_type": "code",
   "execution_count": 191,
   "metadata": {},
   "outputs": [
    {
     "data": {
      "text/plain": [
       "0.1016588835125416"
      ]
     },
     "execution_count": 191,
     "metadata": {},
     "output_type": "execute_result"
    }
   ],
   "source": [
    "modelRidge.score(X1_test,y1_test)"
   ]
  },
  {
   "cell_type": "markdown",
   "metadata": {},
   "source": [
    "## b) DataFrame2"
   ]
  },
  {
   "cell_type": "code",
   "execution_count": 192,
   "metadata": {},
   "outputs": [
    {
     "data": {
      "text/plain": [
       "Ridge()"
      ]
     },
     "execution_count": 192,
     "metadata": {},
     "output_type": "execute_result"
    }
   ],
   "source": [
    "modelRidge = Ridge(alpha=1.0)\n",
    "modelRidge.fit(X2_train, y2_train)"
   ]
  },
  {
   "cell_type": "code",
   "execution_count": 193,
   "metadata": {},
   "outputs": [
    {
     "data": {
      "text/plain": [
       "0.22346653814552508"
      ]
     },
     "execution_count": 193,
     "metadata": {},
     "output_type": "execute_result"
    }
   ],
   "source": [
    "modelRidge.score(X2_test,y2_test)"
   ]
  },
  {
   "cell_type": "markdown",
   "metadata": {},
   "source": [
    "## c) DataFrame3"
   ]
  },
  {
   "cell_type": "code",
   "execution_count": 194,
   "metadata": {},
   "outputs": [
    {
     "data": {
      "text/plain": [
       "Ridge()"
      ]
     },
     "execution_count": 194,
     "metadata": {},
     "output_type": "execute_result"
    }
   ],
   "source": [
    "modelRidge = Ridge(alpha=1.0)\n",
    "modelRidge.fit(X3_train, y3_train)"
   ]
  },
  {
   "cell_type": "code",
   "execution_count": 195,
   "metadata": {},
   "outputs": [
    {
     "data": {
      "text/plain": [
       "0.0927504719510227"
      ]
     },
     "execution_count": 195,
     "metadata": {},
     "output_type": "execute_result"
    }
   ],
   "source": [
    "modelRidge.score(X3_test,y3_test)"
   ]
  },
  {
   "cell_type": "markdown",
   "metadata": {},
   "source": [
    "## III) stacking_regressor"
   ]
  },
  {
   "cell_type": "markdown",
   "metadata": {},
   "source": [
    "#### i/ DataFrame1"
   ]
  },
  {
   "cell_type": "code",
   "execution_count": 196,
   "metadata": {},
   "outputs": [
    {
     "data": {
      "image/png": "[encoded data removed]",
      "text/plain": [
       "<Figure size 648x504 with 4 Axes>"
      ]
     },
     "metadata": {
      "needs_background": "light"
     },
     "output_type": "display_data"
    }
   ],
   "source": [
    "cat_cols = X1.columns[X1.dtypes == 'O']\n",
    "num_cols = X1.columns[X1.dtypes == 'float64']\n",
    "#categories = [ X1_train[column].unique() for column in X1_train[cat_cols] ]\n",
    "\n",
    "\n",
    "XGBRegressor = XGBRegressor(objective='reg:squarederror')\n",
    "RandomForestRegressor = RandomForestRegressor(random_state=42)\n",
    "CatBoostRegressor = CatBoostRegressor(verbose=0, n_estimators=100)\n",
    "\n",
    "estimators = [('Random Forest', RandomForestRegressor),\n",
    "              ('XGBRegressor', XGBRegressor),\n",
    "              ('CatBoostRegressor', CatBoostRegressor)]\n",
    "\n",
    "stacking_regressor = StackingRegressor(estimators=estimators, final_estimator=RidgeCV())\n",
    "\n",
    "\n",
    "def plot_regression_results(ax, y_true, y_pred, title, scores, elapsed_time):\n",
    "    \"\"\"Scatter plot of the predicted vs true targets.\"\"\"\n",
    "    ax.plot([y_true.min(), y_true.max()], [y_true.min(), y_true.max()], '--r', linewidth=2)\n",
    "    ax.scatter(y_true, y_pred, alpha=0.2)\n",
    "\n",
    "    ax.spines['top'].set_visible(False)\n",
    "    ax.spines['right'].set_visible(False)\n",
    "    ax.get_xaxis().tick_bottom()\n",
    "    ax.get_yaxis().tick_left()\n",
    "    ax.spines['left'].set_position(('outward', 10))\n",
    "    ax.spines['bottom'].set_position(('outward', 10))\n",
    "    ax.set_xlim([y_true.min(), y_true.max()])\n",
    "    ax.set_ylim([y_true.min(), y_true.max()])\n",
    "    ax.set_xlabel('Measured')\n",
    "    ax.set_ylabel('Predicted')\n",
    "    extra = plt.Rectangle((0, 0), 0, 0, fc=\"w\", fill=False,\n",
    "                          edgecolor='none', linewidth=0)\n",
    "    ax.legend([extra], [scores], loc='upper left')\n",
    "    title = title + '\\n Evaluation in {:.2f} seconds'.format(elapsed_time)\n",
    "    ax.set_title(title)\n",
    "\n",
    "\n",
    "fig, axs = plt.subplots(2, 2, figsize=(9, 7))\n",
    "axs = np.ravel(axs)\n",
    "\n",
    "for ax, (name, est) in zip(axs, estimators + [('Stacking Regressor', stacking_regressor)]):\n",
    "    start_time = time.time()\n",
    "    score = cross_validate(est, X1, y1, scoring=['r2', 'neg_mean_absolute_error'], n_jobs=-1, verbose=0)\n",
    "    elapsed_time = time.time() - start_time\n",
    "    y_pred = cross_val_predict(est, X1, y1, n_jobs=-1, verbose=0)\n",
    "\n",
    "    plot_regression_results(ax, y1, y_pred, name,\n",
    "        (r'$R^2={:.2f} \\pm {:.2f}$' + '\\n' + r'$MAE={:.2f} \\pm {:.2f}$')\n",
    "        .format(np.mean(score['test_r2']),\n",
    "                np.std(score['test_r2']),\n",
    "                -np.mean(score['test_neg_mean_absolute_error']),\n",
    "                np.std(score['test_neg_mean_absolute_error'])), elapsed_time)\n",
    "\n",
    "plt.suptitle('Single predictors versus stacked predictors')\n",
    "plt.tight_layout()\n",
    "plt.subplots_adjust(top=0.9)\n",
    "plt.show()"
   ]
  },
  {
   "cell_type": "markdown",
   "metadata": {},
   "source": [
    "#### ii/ DataFrame2"
   ]
  },
  {
   "cell_type": "code",
   "execution_count": 199,
   "metadata": {},
   "outputs": [
    {
     "data": {
      "image/png": "[encoded data removed]",
      "text/plain": [
       "<Figure size 648x504 with 4 Axes>"
      ]
     },
     "metadata": {
      "needs_background": "light"
     },
     "output_type": "display_data"
    }
   ],
   "source": [
    "cat_cols = X2.columns[X2.dtypes == 'O']\n",
    "num_cols = X2.columns[X2.dtypes == 'float64']\n",
    "#categories = [ X1_train[column].unique() for column in X1_train[cat_cols] ]\n",
    "\n",
    "\n",
    "XGBRegressor = XGBRegressor(objective='reg:squarederror')\n",
    "RandomForestRegressor = RandomForestRegressor(random_state=42)\n",
    "CatBoostRegressor = CatBoostRegressor(verbose=0, n_estimators=100)\n",
    "\n",
    "estimators = [('Random Forest', RandomForestRegressor),\n",
    "              ('XGBRegressor', XGBRegressor),\n",
    "              ('CatBoostRegressor', CatBoostRegressor)]\n",
    "\n",
    "stacking_regressor = StackingRegressor(estimators=estimators, final_estimator=RidgeCV())\n",
    "\n",
    "\n",
    "def plot_regression_results(ax, y_true, y_pred, title, scores, elapsed_time):\n",
    "    \"\"\"Scatter plot of the predicted vs true targets.\"\"\"\n",
    "    ax.plot([y_true.min(), y_true.max()], [y_true.min(), y_true.max()], '--r', linewidth=2)\n",
    "    ax.scatter(y_true, y_pred, alpha=0.2)\n",
    "\n",
    "    ax.spines['top'].set_visible(False)\n",
    "    ax.spines['right'].set_visible(False)\n",
    "    ax.get_xaxis().tick_bottom()\n",
    "    ax.get_yaxis().tick_left()\n",
    "    ax.spines['left'].set_position(('outward', 10))\n",
    "    ax.spines['bottom'].set_position(('outward', 10))\n",
    "    ax.set_xlim([y_true.min(), y_true.max()])\n",
    "    ax.set_ylim([y_true.min(), y_true.max()])\n",
    "    ax.set_xlabel('Measured')\n",
    "    ax.set_ylabel('Predicted')\n",
    "    extra = plt.Rectangle((0, 0), 0, 0, fc=\"w\", fill=False,\n",
    "                          edgecolor='none', linewidth=0)\n",
    "    ax.legend([extra], [scores], loc='upper left')\n",
    "    title = title + '\\n Evaluation in {:.2f} seconds'.format(elapsed_time)\n",
    "    ax.set_title(title)\n",
    "\n",
    "\n",
    "fig, axs = plt.subplots(2, 2, figsize=(9, 7))\n",
    "axs = np.ravel(axs)\n",
    "\n",
    "for ax, (name, est) in zip(axs, estimators + [('Stacking Regressor', stacking_regressor)]):\n",
    "    start_time = time.time()\n",
    "    score = cross_validate(est, X2, y2, scoring=['r2', 'neg_mean_absolute_error'], n_jobs=-1, verbose=0)\n",
    "    elapsed_time = time.time() - start_time\n",
    "    y_pred = cross_val_predict(est, X2, y2, n_jobs=-1, verbose=0)\n",
    "\n",
    "    plot_regression_results(ax, y2, y_pred, name,\n",
    "        (r'$R^2={:.2f} \\pm {:.2f}$' + '\\n' + r'$MAE={:.2f} \\pm {:.2f}$')\n",
    "        .format(np.mean(score['test_r2']),\n",
    "                np.std(score['test_r2']),\n",
    "                -np.mean(score['test_neg_mean_absolute_error']),\n",
    "                np.std(score['test_neg_mean_absolute_error'])), elapsed_time)\n",
    "\n",
    "plt.suptitle('Single predictors versus stacked predictors')\n",
    "plt.tight_layout()\n",
    "plt.subplots_adjust(top=0.9)\n",
    "plt.show()"
   ]
  },
  {
   "cell_type": "markdown",
   "metadata": {},
   "source": [
    "#### iii/ DataFrame3"
   ]
  },
  {
   "cell_type": "code",
   "execution_count": 200,
   "metadata": {},
   "outputs": [
    {
     "data": {
      "image/png": "[encoded data removed]",
      "text/plain": [
       "<Figure size 648x504 with 4 Axes>"
      ]
     },
     "metadata": {
      "needs_background": "light"
     },
     "output_type": "display_data"
    }
   ],
   "source": [
    "from sklearn.pipeline import make_pipeline\n",
    "from sklearn.experimental import enable_hist_gradient_boosting  # noqa\n",
    "from sklearn.ensemble import HistGradientBoostingRegressor\n",
    "from sklearn.ensemble import RandomForestRegressor\n",
    "from sklearn.ensemble import StackingRegressor\n",
    "from sklearn.linear_model import LassoCV\n",
    "from sklearn.linear_model import RidgeCV\n",
    "from xgboost import XGBRegressor\n",
    "from catboost import CatBoostRegressor\n",
    "import lightgbm\n",
    "import time\n",
    "import matplotlib.pyplot as plt\n",
    "from sklearn.model_selection import cross_validate, cross_val_predict\n",
    "\n",
    "cat_cols = X3.columns[X3.dtypes == 'O']\n",
    "num_cols = X3.columns[X3.dtypes == 'float64']\n",
    "#categories = [ X1_train[column].unique() for column in X1_train[cat_cols] ]\n",
    "\n",
    "\n",
    "XGBRegressor = XGBRegressor(objective='reg:squarederror')\n",
    "RandomForestRegressor = RandomForestRegressor(random_state=42)\n",
    "CatBoostRegressor = CatBoostRegressor(verbose=0, n_estimators=100)\n",
    "\n",
    "estimators = [('Random Forest', RandomForestRegressor),\n",
    "              ('XGBRegressor', XGBRegressor),\n",
    "              ('CatBoostRegressor', CatBoostRegressor)]\n",
    "\n",
    "stacking_regressor = StackingRegressor(estimators=estimators, final_estimator=RidgeCV())\n",
    "\n",
    "\n",
    "def plot_regression_results(ax, y_true, y_pred, title, scores, elapsed_time):\n",
    "    \"\"\"Scatter plot of the predicted vs true targets.\"\"\"\n",
    "    ax.plot([y_true.min(), y_true.max()], [y_true.min(), y_true.max()], '--r', linewidth=2)\n",
    "    ax.scatter(y_true, y_pred, alpha=0.2)\n",
    "\n",
    "    ax.spines['top'].set_visible(False)\n",
    "    ax.spines['right'].set_visible(False)\n",
    "    ax.get_xaxis().tick_bottom()\n",
    "    ax.get_yaxis().tick_left()\n",
    "    ax.spines['left'].set_position(('outward', 10))\n",
    "    ax.spines['bottom'].set_position(('outward', 10))\n",
    "    ax.set_xlim([y_true.min(), y_true.max()])\n",
    "    ax.set_ylim([y_true.min(), y_true.max()])\n",
    "    ax.set_xlabel('Measured')\n",
    "    ax.set_ylabel('Predicted')\n",
    "    extra = plt.Rectangle((0, 0), 0, 0, fc=\"w\", fill=False,\n",
    "                          edgecolor='none', linewidth=0)\n",
    "    ax.legend([extra], [scores], loc='upper left')\n",
    "    title = title + '\\n Evaluation in {:.2f} seconds'.format(elapsed_time)\n",
    "    ax.set_title(title)\n",
    "\n",
    "\n",
    "fig, axs = plt.subplots(2, 2, figsize=(9, 7))\n",
    "axs = np.ravel(axs)\n",
    "\n",
    "for ax, (name, est) in zip(axs, estimators + [('Stacking Regressor', stacking_regressor)]):\n",
    "    start_time = time.time()\n",
    "    score = cross_validate(est, X3, y3, scoring=['r2', 'neg_mean_absolute_error'], n_jobs=-1, verbose=0)\n",
    "    elapsed_time = time.time() - start_time\n",
    "    y_pred = cross_val_predict(est, X3, y3, n_jobs=-1, verbose=0)\n",
    "\n",
    "    plot_regression_results(ax, y3, y_pred, name,\n",
    "        (r'$R^2={:.2f} \\pm {:.2f}$' + '\\n' + r'$MAE={:.2f} \\pm {:.2f}$')\n",
    "        .format(np.mean(score['test_r2']),\n",
    "                np.std(score['test_r2']),\n",
    "                -np.mean(score['test_neg_mean_absolute_error']),\n",
    "                np.std(score['test_neg_mean_absolute_error'])), elapsed_time)\n",
    "\n",
    "plt.suptitle('Single predictors versus stacked predictors')\n",
    "plt.tight_layout()\n",
    "plt.subplots_adjust(top=0.9)\n",
    "plt.show()"
   ]
  },
  {
   "cell_type": "markdown",
   "metadata": {},
   "source": [
    "# **IV) Courbe Roc"
   ]
  },
  {
   "cell_type": "code",
   "execution_count": null,
   "metadata": {},
   "outputs": [],
   "source": []
  },
  {
   "cell_type": "markdown",
   "metadata": {},
   "source": [
    "# deployment"
   ]
  },
  {
   "cell_type": "code",
   "execution_count": 201,
   "metadata": {},
   "outputs": [],
   "source": [
    "import pandas as pd\n",
    "Brands = pd.read_csv('Brands.csv')"
   ]
  },
  {
   "cell_type": "code",
   "execution_count": 202,
   "metadata": {},
   "outputs": [],
   "source": [
    "Marque=[]\n",
    "for i in range(0,Brands['name'].count()):\n",
    "    Marque.append(Brands['name'][i])"
   ]
  },
  {
   "cell_type": "code",
   "execution_count": 203,
   "metadata": {},
   "outputs": [],
   "source": [
    "VW_Modele=['Amarok', 'Caddy', 'Golf', 'Golf 2', 'Golf 3', 'Golf 4', 'Golf 5',\n",
    "        'Golf 6', 'Golf 7', 'Jetta', 'Passat', 'Passat CC', 'Polo',\n",
    "        'Tiguan', 'Transporter']"
   ]
  },
  {
   "cell_type": "code",
   "execution_count": null,
   "metadata": {},
   "outputs": [],
   "source": []
  },
  {
   "cell_type": "markdown",
   "metadata": {},
   "source": [
    "## a) Dataframe2"
   ]
  },
  {
   "cell_type": "code",
   "execution_count": 204,
   "metadata": {},
   "outputs": [
    {
     "data": {
      "text/html": [
       "<div>\n",
       "<style scoped>\n",
       "    .dataframe tbody tr th:only-of-type {\n",
       "        vertical-align: middle;\n",
       "    }\n",
       "\n",
       "    .dataframe tbody tr th {\n",
       "        vertical-align: top;\n",
       "    }\n",
       "\n",
       "    .dataframe thead th {\n",
       "        text-align: right;\n",
       "    }\n",
       "</style>\n",
       "<table border=\"1\" class=\"dataframe\">\n",
       "  <thead>\n",
       "    <tr style=\"text-align: right;\">\n",
       "      <th></th>\n",
       "      <th>Amarok</th>\n",
       "      <th>Caddy</th>\n",
       "      <th>Golf</th>\n",
       "      <th>Golf 2</th>\n",
       "      <th>Golf 3</th>\n",
       "      <th>Golf 4</th>\n",
       "      <th>Golf 5</th>\n",
       "      <th>Golf 6</th>\n",
       "      <th>Golf 7</th>\n",
       "      <th>Jetta</th>\n",
       "      <th>Passat</th>\n",
       "      <th>Passat CC</th>\n",
       "      <th>Polo</th>\n",
       "      <th>Tiguan</th>\n",
       "      <th>Transporter</th>\n",
       "      <th>Diesel</th>\n",
       "      <th>Electrique</th>\n",
       "      <th>Essence</th>\n",
       "      <th>Hybride</th>\n",
       "      <th>annee</th>\n",
       "      <th>kilometrage</th>\n",
       "      <th>prix</th>\n",
       "    </tr>\n",
       "  </thead>\n",
       "  <tbody>\n",
       "    <tr>\n",
       "      <th>0</th>\n",
       "      <td>0.0</td>\n",
       "      <td>0.0</td>\n",
       "      <td>0.0</td>\n",
       "      <td>0.0</td>\n",
       "      <td>0.0</td>\n",
       "      <td>0.0</td>\n",
       "      <td>0.0</td>\n",
       "      <td>0.0</td>\n",
       "      <td>0.0</td>\n",
       "      <td>0.0</td>\n",
       "      <td>1.0</td>\n",
       "      <td>0.0</td>\n",
       "      <td>0.0</td>\n",
       "      <td>0.0</td>\n",
       "      <td>0.0</td>\n",
       "      <td>1.0</td>\n",
       "      <td>0.0</td>\n",
       "      <td>0.0</td>\n",
       "      <td>0.0</td>\n",
       "      <td>0.166667</td>\n",
       "      <td>0.288128</td>\n",
       "      <td>27.0</td>\n",
       "    </tr>\n",
       "    <tr>\n",
       "      <th>1</th>\n",
       "      <td>0.0</td>\n",
       "      <td>0.0</td>\n",
       "      <td>0.0</td>\n",
       "      <td>0.0</td>\n",
       "      <td>0.0</td>\n",
       "      <td>0.0</td>\n",
       "      <td>0.0</td>\n",
       "      <td>0.0</td>\n",
       "      <td>0.0</td>\n",
       "      <td>0.0</td>\n",
       "      <td>0.0</td>\n",
       "      <td>0.0</td>\n",
       "      <td>1.0</td>\n",
       "      <td>0.0</td>\n",
       "      <td>0.0</td>\n",
       "      <td>0.0</td>\n",
       "      <td>0.0</td>\n",
       "      <td>1.0</td>\n",
       "      <td>0.0</td>\n",
       "      <td>-0.083333</td>\n",
       "      <td>-0.108896</td>\n",
       "      <td>24.3</td>\n",
       "    </tr>\n",
       "    <tr>\n",
       "      <th>2</th>\n",
       "      <td>0.0</td>\n",
       "      <td>0.0</td>\n",
       "      <td>0.0</td>\n",
       "      <td>0.0</td>\n",
       "      <td>0.0</td>\n",
       "      <td>0.0</td>\n",
       "      <td>0.0</td>\n",
       "      <td>0.0</td>\n",
       "      <td>0.0</td>\n",
       "      <td>0.0</td>\n",
       "      <td>1.0</td>\n",
       "      <td>0.0</td>\n",
       "      <td>0.0</td>\n",
       "      <td>0.0</td>\n",
       "      <td>0.0</td>\n",
       "      <td>1.0</td>\n",
       "      <td>0.0</td>\n",
       "      <td>0.0</td>\n",
       "      <td>0.0</td>\n",
       "      <td>0.083333</td>\n",
       "      <td>0.762692</td>\n",
       "      <td>35.0</td>\n",
       "    </tr>\n",
       "    <tr>\n",
       "      <th>3</th>\n",
       "      <td>0.0</td>\n",
       "      <td>0.0</td>\n",
       "      <td>0.0</td>\n",
       "      <td>0.0</td>\n",
       "      <td>0.0</td>\n",
       "      <td>0.0</td>\n",
       "      <td>0.0</td>\n",
       "      <td>0.0</td>\n",
       "      <td>0.0</td>\n",
       "      <td>0.0</td>\n",
       "      <td>0.0</td>\n",
       "      <td>0.0</td>\n",
       "      <td>0.0</td>\n",
       "      <td>0.0</td>\n",
       "      <td>1.0</td>\n",
       "      <td>1.0</td>\n",
       "      <td>0.0</td>\n",
       "      <td>0.0</td>\n",
       "      <td>0.0</td>\n",
       "      <td>0.916667</td>\n",
       "      <td>-1.515970</td>\n",
       "      <td>13.5</td>\n",
       "    </tr>\n",
       "    <tr>\n",
       "      <th>4</th>\n",
       "      <td>0.0</td>\n",
       "      <td>0.0</td>\n",
       "      <td>0.0</td>\n",
       "      <td>0.0</td>\n",
       "      <td>0.0</td>\n",
       "      <td>0.0</td>\n",
       "      <td>0.0</td>\n",
       "      <td>0.0</td>\n",
       "      <td>1.0</td>\n",
       "      <td>0.0</td>\n",
       "      <td>0.0</td>\n",
       "      <td>0.0</td>\n",
       "      <td>0.0</td>\n",
       "      <td>0.0</td>\n",
       "      <td>0.0</td>\n",
       "      <td>0.0</td>\n",
       "      <td>0.0</td>\n",
       "      <td>1.0</td>\n",
       "      <td>0.0</td>\n",
       "      <td>-0.416667</td>\n",
       "      <td>-0.742354</td>\n",
       "      <td>45.0</td>\n",
       "    </tr>\n",
       "    <tr>\n",
       "      <th>...</th>\n",
       "      <td>...</td>\n",
       "      <td>...</td>\n",
       "      <td>...</td>\n",
       "      <td>...</td>\n",
       "      <td>...</td>\n",
       "      <td>...</td>\n",
       "      <td>...</td>\n",
       "      <td>...</td>\n",
       "      <td>...</td>\n",
       "      <td>...</td>\n",
       "      <td>...</td>\n",
       "      <td>...</td>\n",
       "      <td>...</td>\n",
       "      <td>...</td>\n",
       "      <td>...</td>\n",
       "      <td>...</td>\n",
       "      <td>...</td>\n",
       "      <td>...</td>\n",
       "      <td>...</td>\n",
       "      <td>...</td>\n",
       "      <td>...</td>\n",
       "      <td>...</td>\n",
       "    </tr>\n",
       "    <tr>\n",
       "      <th>9656</th>\n",
       "      <td>0.0</td>\n",
       "      <td>0.0</td>\n",
       "      <td>0.0</td>\n",
       "      <td>0.0</td>\n",
       "      <td>0.0</td>\n",
       "      <td>0.0</td>\n",
       "      <td>0.0</td>\n",
       "      <td>0.0</td>\n",
       "      <td>0.0</td>\n",
       "      <td>0.0</td>\n",
       "      <td>0.0</td>\n",
       "      <td>1.0</td>\n",
       "      <td>0.0</td>\n",
       "      <td>0.0</td>\n",
       "      <td>0.0</td>\n",
       "      <td>1.0</td>\n",
       "      <td>0.0</td>\n",
       "      <td>0.0</td>\n",
       "      <td>0.0</td>\n",
       "      <td>-0.083333</td>\n",
       "      <td>-0.016949</td>\n",
       "      <td>44.0</td>\n",
       "    </tr>\n",
       "    <tr>\n",
       "      <th>9657</th>\n",
       "      <td>0.0</td>\n",
       "      <td>0.0</td>\n",
       "      <td>0.0</td>\n",
       "      <td>0.0</td>\n",
       "      <td>0.0</td>\n",
       "      <td>0.0</td>\n",
       "      <td>0.0</td>\n",
       "      <td>0.0</td>\n",
       "      <td>0.0</td>\n",
       "      <td>0.0</td>\n",
       "      <td>0.0</td>\n",
       "      <td>1.0</td>\n",
       "      <td>0.0</td>\n",
       "      <td>0.0</td>\n",
       "      <td>0.0</td>\n",
       "      <td>0.0</td>\n",
       "      <td>0.0</td>\n",
       "      <td>1.0</td>\n",
       "      <td>0.0</td>\n",
       "      <td>-0.083333</td>\n",
       "      <td>-0.796590</td>\n",
       "      <td>200.0</td>\n",
       "    </tr>\n",
       "    <tr>\n",
       "      <th>9658</th>\n",
       "      <td>0.0</td>\n",
       "      <td>0.0</td>\n",
       "      <td>0.0</td>\n",
       "      <td>0.0</td>\n",
       "      <td>0.0</td>\n",
       "      <td>0.0</td>\n",
       "      <td>0.0</td>\n",
       "      <td>0.0</td>\n",
       "      <td>0.0</td>\n",
       "      <td>0.0</td>\n",
       "      <td>0.0</td>\n",
       "      <td>1.0</td>\n",
       "      <td>0.0</td>\n",
       "      <td>0.0</td>\n",
       "      <td>0.0</td>\n",
       "      <td>0.0</td>\n",
       "      <td>0.0</td>\n",
       "      <td>1.0</td>\n",
       "      <td>0.0</td>\n",
       "      <td>-0.416667</td>\n",
       "      <td>0.830487</td>\n",
       "      <td>55.0</td>\n",
       "    </tr>\n",
       "    <tr>\n",
       "      <th>9659</th>\n",
       "      <td>0.0</td>\n",
       "      <td>0.0</td>\n",
       "      <td>0.0</td>\n",
       "      <td>0.0</td>\n",
       "      <td>0.0</td>\n",
       "      <td>0.0</td>\n",
       "      <td>0.0</td>\n",
       "      <td>0.0</td>\n",
       "      <td>0.0</td>\n",
       "      <td>0.0</td>\n",
       "      <td>0.0</td>\n",
       "      <td>1.0</td>\n",
       "      <td>0.0</td>\n",
       "      <td>0.0</td>\n",
       "      <td>0.0</td>\n",
       "      <td>0.0</td>\n",
       "      <td>0.0</td>\n",
       "      <td>0.0</td>\n",
       "      <td>1.0</td>\n",
       "      <td>-0.500000</td>\n",
       "      <td>-0.762692</td>\n",
       "      <td>500.0</td>\n",
       "    </tr>\n",
       "    <tr>\n",
       "      <th>9660</th>\n",
       "      <td>0.0</td>\n",
       "      <td>0.0</td>\n",
       "      <td>0.0</td>\n",
       "      <td>0.0</td>\n",
       "      <td>0.0</td>\n",
       "      <td>0.0</td>\n",
       "      <td>0.0</td>\n",
       "      <td>0.0</td>\n",
       "      <td>0.0</td>\n",
       "      <td>0.0</td>\n",
       "      <td>0.0</td>\n",
       "      <td>1.0</td>\n",
       "      <td>0.0</td>\n",
       "      <td>0.0</td>\n",
       "      <td>0.0</td>\n",
       "      <td>1.0</td>\n",
       "      <td>0.0</td>\n",
       "      <td>0.0</td>\n",
       "      <td>0.0</td>\n",
       "      <td>0.000000</td>\n",
       "      <td>0.254231</td>\n",
       "      <td>41.0</td>\n",
       "    </tr>\n",
       "  </tbody>\n",
       "</table>\n",
       "<p>9661 rows × 22 columns</p>\n",
       "</div>"
      ],
      "text/plain": [
       "      Amarok  Caddy  Golf  Golf 2  Golf 3  Golf 4  Golf 5  Golf 6  Golf 7  \\\n",
       "0        0.0    0.0   0.0     0.0     0.0     0.0     0.0     0.0     0.0   \n",
       "1        0.0    0.0   0.0     0.0     0.0     0.0     0.0     0.0     0.0   \n",
       "2        0.0    0.0   0.0     0.0     0.0     0.0     0.0     0.0     0.0   \n",
       "3        0.0    0.0   0.0     0.0     0.0     0.0     0.0     0.0     0.0   \n",
       "4        0.0    0.0   0.0     0.0     0.0     0.0     0.0     0.0     1.0   \n",
       "...      ...    ...   ...     ...     ...     ...     ...     ...     ...   \n",
       "9656     0.0    0.0   0.0     0.0     0.0     0.0     0.0     0.0     0.0   \n",
       "9657     0.0    0.0   0.0     0.0     0.0     0.0     0.0     0.0     0.0   \n",
       "9658     0.0    0.0   0.0     0.0     0.0     0.0     0.0     0.0     0.0   \n",
       "9659     0.0    0.0   0.0     0.0     0.0     0.0     0.0     0.0     0.0   \n",
       "9660     0.0    0.0   0.0     0.0     0.0     0.0     0.0     0.0     0.0   \n",
       "\n",
       "      Jetta  Passat  Passat CC  Polo  Tiguan  Transporter  Diesel  Electrique  \\\n",
       "0       0.0     1.0        0.0   0.0     0.0          0.0     1.0         0.0   \n",
       "1       0.0     0.0        0.0   1.0     0.0          0.0     0.0         0.0   \n",
       "2       0.0     1.0        0.0   0.0     0.0          0.0     1.0         0.0   \n",
       "3       0.0     0.0        0.0   0.0     0.0          1.0     1.0         0.0   \n",
       "4       0.0     0.0        0.0   0.0     0.0          0.0     0.0         0.0   \n",
       "...     ...     ...        ...   ...     ...          ...     ...         ...   \n",
       "9656    0.0     0.0        1.0   0.0     0.0          0.0     1.0         0.0   \n",
       "9657    0.0     0.0        1.0   0.0     0.0          0.0     0.0         0.0   \n",
       "9658    0.0     0.0        1.0   0.0     0.0          0.0     0.0         0.0   \n",
       "9659    0.0     0.0        1.0   0.0     0.0          0.0     0.0         0.0   \n",
       "9660    0.0     0.0        1.0   0.0     0.0          0.0     1.0         0.0   \n",
       "\n",
       "      Essence  Hybride     annee  kilometrage   prix  \n",
       "0         0.0      0.0  0.166667     0.288128   27.0  \n",
       "1         1.0      0.0 -0.083333    -0.108896   24.3  \n",
       "2         0.0      0.0  0.083333     0.762692   35.0  \n",
       "3         0.0      0.0  0.916667    -1.515970   13.5  \n",
       "4         1.0      0.0 -0.416667    -0.742354   45.0  \n",
       "...       ...      ...       ...          ...    ...  \n",
       "9656      0.0      0.0 -0.083333    -0.016949   44.0  \n",
       "9657      1.0      0.0 -0.083333    -0.796590  200.0  \n",
       "9658      1.0      0.0 -0.416667     0.830487   55.0  \n",
       "9659      0.0      1.0 -0.500000    -0.762692  500.0  \n",
       "9660      0.0      0.0  0.000000     0.254231   41.0  \n",
       "\n",
       "[9661 rows x 22 columns]"
      ]
     },
     "execution_count": 204,
     "metadata": {},
     "output_type": "execute_result"
    }
   ],
   "source": [
    "DataFrame2"
   ]
  },
  {
   "cell_type": "code",
   "execution_count": 205,
   "metadata": {},
   "outputs": [],
   "source": [
    "X = DataFrame2.copy()"
   ]
  },
  {
   "cell_type": "code",
   "execution_count": 206,
   "metadata": {},
   "outputs": [],
   "source": [
    "for i in range(0,X['kilometrage'].count()):\n",
    "    X.drop(i,0,inplace=True)"
   ]
  },
  {
   "cell_type": "code",
   "execution_count": 207,
   "metadata": {},
   "outputs": [],
   "source": [
    "X.loc[0]=[0,0,0,0,0,0,0,0,0,0,0,0,0,0,0,0,0,0,0,0,0,0]"
   ]
  },
  {
   "cell_type": "code",
   "execution_count": 208,
   "metadata": {},
   "outputs": [
    {
     "data": {
      "text/html": [
       "<div>\n",
       "<style scoped>\n",
       "    .dataframe tbody tr th:only-of-type {\n",
       "        vertical-align: middle;\n",
       "    }\n",
       "\n",
       "    .dataframe tbody tr th {\n",
       "        vertical-align: top;\n",
       "    }\n",
       "\n",
       "    .dataframe thead th {\n",
       "        text-align: right;\n",
       "    }\n",
       "</style>\n",
       "<table border=\"1\" class=\"dataframe\">\n",
       "  <thead>\n",
       "    <tr style=\"text-align: right;\">\n",
       "      <th></th>\n",
       "      <th>Amarok</th>\n",
       "      <th>Caddy</th>\n",
       "      <th>Golf</th>\n",
       "      <th>Golf 2</th>\n",
       "      <th>Golf 3</th>\n",
       "      <th>Golf 4</th>\n",
       "      <th>Golf 5</th>\n",
       "      <th>Golf 6</th>\n",
       "      <th>Golf 7</th>\n",
       "      <th>Jetta</th>\n",
       "      <th>Passat</th>\n",
       "      <th>Passat CC</th>\n",
       "      <th>Polo</th>\n",
       "      <th>Tiguan</th>\n",
       "      <th>Transporter</th>\n",
       "      <th>Diesel</th>\n",
       "      <th>Electrique</th>\n",
       "      <th>Essence</th>\n",
       "      <th>Hybride</th>\n",
       "      <th>annee</th>\n",
       "      <th>kilometrage</th>\n",
       "      <th>prix</th>\n",
       "    </tr>\n",
       "  </thead>\n",
       "  <tbody>\n",
       "    <tr>\n",
       "      <th>0</th>\n",
       "      <td>0.0</td>\n",
       "      <td>0.0</td>\n",
       "      <td>0.0</td>\n",
       "      <td>0.0</td>\n",
       "      <td>0.0</td>\n",
       "      <td>0.0</td>\n",
       "      <td>0.0</td>\n",
       "      <td>0.0</td>\n",
       "      <td>0.0</td>\n",
       "      <td>0.0</td>\n",
       "      <td>0.0</td>\n",
       "      <td>0.0</td>\n",
       "      <td>0.0</td>\n",
       "      <td>0.0</td>\n",
       "      <td>0.0</td>\n",
       "      <td>0.0</td>\n",
       "      <td>0.0</td>\n",
       "      <td>0.0</td>\n",
       "      <td>0.0</td>\n",
       "      <td>0.0</td>\n",
       "      <td>0.0</td>\n",
       "      <td>0.0</td>\n",
       "    </tr>\n",
       "  </tbody>\n",
       "</table>\n",
       "</div>"
      ],
      "text/plain": [
       "   Amarok  Caddy  Golf  Golf 2  Golf 3  Golf 4  Golf 5  Golf 6  Golf 7  Jetta  \\\n",
       "0     0.0    0.0   0.0     0.0     0.0     0.0     0.0     0.0     0.0    0.0   \n",
       "\n",
       "   Passat  Passat CC  Polo  Tiguan  Transporter  Diesel  Electrique  Essence  \\\n",
       "0     0.0        0.0   0.0     0.0          0.0     0.0         0.0      0.0   \n",
       "\n",
       "   Hybride  annee  kilometrage  prix  \n",
       "0      0.0    0.0          0.0   0.0  "
      ]
     },
     "execution_count": 208,
     "metadata": {},
     "output_type": "execute_result"
    }
   ],
   "source": [
    "X"
   ]
  },
  {
   "cell_type": "code",
   "execution_count": null,
   "metadata": {},
   "outputs": [
    {
     "name": "stdout",
     "output_type": "stream",
     "text": [
      "Dash is running on http://127.0.0.1:8050/\n",
      "\n"
     ]
    },
    {
     "name": "stderr",
     "output_type": "stream",
     "text": [
      "INFO:__main__:Dash is running on http://127.0.0.1:8050/\n",
      "\n"
     ]
    },
    {
     "name": "stdout",
     "output_type": "stream",
     "text": [
      " Warning: This is a development server. Do not use app.run_server\n"
     ]
    },
    {
     "name": "stderr",
     "output_type": "stream",
     "text": [
      "INFO:__main__: Warning: This is a development server. Do not use app.run_server\n"
     ]
    },
    {
     "name": "stdout",
     "output_type": "stream",
     "text": [
      " in production, use a production WSGI server like gunicorn instead.\n",
      "\n"
     ]
    },
    {
     "name": "stderr",
     "output_type": "stream",
     "text": [
      "INFO:__main__: in production, use a production WSGI server like gunicorn instead.\n",
      "\n"
     ]
    },
    {
     "name": "stdout",
     "output_type": "stream",
     "text": [
      " * Serving Flask app \"__main__\" (lazy loading)\n",
      " * Environment: production\n",
      "   WARNING: This is a development server. Do not use it in a production deployment.\n",
      "   Use a production WSGI server instead.\n",
      " * Debug mode: off\n"
     ]
    },
    {
     "name": "stderr",
     "output_type": "stream",
     "text": [
      "INFO:werkzeug: * Running on http://127.0.0.1:8050/ (Press CTRL+C to quit)\n",
      "INFO:werkzeug:127.0.0.1 - - [17/Sep/2020 23:45:52] \"\u001b[37mGET / HTTP/1.1\u001b[0m\" 200 -\n",
      "INFO:werkzeug:127.0.0.1 - - [17/Sep/2020 23:45:52] \"\u001b[37mGET /_dash-component-suites/dash_renderer/react@16.v1_6_0m1598259426.13.0.min.js HTTP/1.1\u001b[0m\" 200 -\n",
      "INFO:werkzeug:127.0.0.1 - - [17/Sep/2020 23:45:52] \"\u001b[37mGET /_dash-component-suites/dash_renderer/polyfill@7.v1_6_0m1598259426.8.7.min.js HTTP/1.1\u001b[0m\" 200 -\n",
      "INFO:werkzeug:127.0.0.1 - - [17/Sep/2020 23:45:52] \"\u001b[37mGET /_dash-component-suites/dash_renderer/prop-types@15.v1_6_0m1598259426.7.2.min.js HTTP/1.1\u001b[0m\" 200 -\n",
      "INFO:werkzeug:127.0.0.1 - - [17/Sep/2020 23:45:52] \"\u001b[37mGET /_dash-component-suites/dash_renderer/react-dom@16.v1_6_0m1598259426.13.0.min.js HTTP/1.1\u001b[0m\" 200 -\n",
      "INFO:werkzeug:127.0.0.1 - - [17/Sep/2020 23:45:52] \"\u001b[37mGET /_dash-component-suites/dash_core_components/dash_core_components.v1_10_2m1598259429.min.js HTTP/1.1\u001b[0m\" 200 -\n",
      "INFO:werkzeug:127.0.0.1 - - [17/Sep/2020 23:45:52] \"\u001b[37mGET /_dash-component-suites/dash_core_components/dash_core_components-shared.v1_10_2m1598259429.js HTTP/1.1\u001b[0m\" 200 -\n",
      "INFO:werkzeug:127.0.0.1 - - [17/Sep/2020 23:45:52] \"\u001b[37mGET /_dash-component-suites/dash_html_components/dash_html_components.v1_0_3m1598259432.min.js HTTP/1.1\u001b[0m\" 200 -\n",
      "INFO:werkzeug:127.0.0.1 - - [17/Sep/2020 23:45:52] \"\u001b[37mGET /_dash-component-suites/dash_daq/dash_daq.v0_5_0m1598276028.min.js HTTP/1.1\u001b[0m\" 200 -\n",
      "INFO:werkzeug:127.0.0.1 - - [17/Sep/2020 23:45:52] \"\u001b[37mGET /_dash-component-suites/dash_renderer/dash_renderer.v1_6_0m1598259426.min.js HTTP/1.1\u001b[0m\" 200 -\n",
      "INFO:werkzeug:127.0.0.1 - - [17/Sep/2020 23:45:52] \"\u001b[37mGET /_dash-dependencies HTTP/1.1\u001b[0m\" 200 -\n",
      "INFO:werkzeug:127.0.0.1 - - [17/Sep/2020 23:45:52] \"\u001b[37mGET /_dash-layout HTTP/1.1\u001b[0m\" 200 -\n",
      "INFO:werkzeug:127.0.0.1 - - [17/Sep/2020 23:45:52] \"\u001b[37mPOST /_dash-update-component HTTP/1.1\u001b[0m\" 200 -\n",
      "INFO:werkzeug:127.0.0.1 - - [17/Sep/2020 23:45:52] \"\u001b[37mPOST /_dash-update-component HTTP/1.1\u001b[0m\" 200 -\n",
      "INFO:werkzeug:127.0.0.1 - - [17/Sep/2020 23:45:52] \"\u001b[37mPOST /_dash-update-component HTTP/1.1\u001b[0m\" 200 -\n",
      "INFO:werkzeug:127.0.0.1 - - [17/Sep/2020 23:45:52] \"\u001b[37mPOST /_dash-update-component HTTP/1.1\u001b[0m\" 200 -\n",
      "INFO:werkzeug:127.0.0.1 - - [17/Sep/2020 23:45:52] \"\u001b[37mPOST /_dash-update-component HTTP/1.1\u001b[0m\" 200 -\n",
      "INFO:werkzeug:127.0.0.1 - - [17/Sep/2020 23:45:52] \"\u001b[37mGET /_dash-component-suites/dash_core_components/async-dropdown.v1_10_2m1595872686.js HTTP/1.1\u001b[0m\" 200 -\n"
     ]
    },
    {
     "name": "stdout",
     "output_type": "stream",
     "text": [
      "Exception on /_dash-update-component [POST]\n",
      "Traceback (most recent call last):\n",
      "  File \"D:\\Users\\21620\\Anaconda3\\lib\\site-packages\\flask\\app.py\", line 2446, in wsgi_app\n",
      "    response = self.full_dispatch_request()\n",
      "  File \"D:\\Users\\21620\\Anaconda3\\lib\\site-packages\\flask\\app.py\", line 1951, in full_dispatch_request\n",
      "    rv = self.handle_user_exception(e)\n",
      "  File \"D:\\Users\\21620\\Anaconda3\\lib\\site-packages\\flask\\app.py\", line 1820, in handle_user_exception\n",
      "    reraise(exc_type, exc_value, tb)\n",
      "  File \"D:\\Users\\21620\\Anaconda3\\lib\\site-packages\\flask\\_compat.py\", line 39, in reraise\n",
      "    raise value\n",
      "  File \"D:\\Users\\21620\\Anaconda3\\lib\\site-packages\\flask\\app.py\", line 1949, in full_dispatch_request\n",
      "    rv = self.dispatch_request()\n",
      "  File \"D:\\Users\\21620\\Anaconda3\\lib\\site-packages\\flask\\app.py\", line 1935, in dispatch_request\n",
      "    return self.view_functions[rule.endpoint](**req.view_args)\n",
      "  File \"D:\\Users\\21620\\Anaconda3\\lib\\site-packages\\dash\\dash.py\", line 1050, in dispatch\n",
      "    response.set_data(func(*args, outputs_list=outputs_list))\n",
      "  File \"D:\\Users\\21620\\Anaconda3\\lib\\site-packages\\dash\\dash.py\", line 985, in add_context\n",
      "    output_value = func(*args, **kwargs)  # %% callback invoked %%\n",
      "  File \"<ipython-input-209-bd79a8b24814>\", line 134, in display_Modele\n",
      "    ypred = pd.DataFrame({'pred_lin_regr': pd.Series(RandomForest.predict(X))})\n",
      "NameError: name 'RandomForest' is not defined\n"
     ]
    },
    {
     "name": "stderr",
     "output_type": "stream",
     "text": [
      "ERROR:__main__:Exception on /_dash-update-component [POST]\n",
      "Traceback (most recent call last):\n",
      "  File \"D:\\Users\\21620\\Anaconda3\\lib\\site-packages\\flask\\app.py\", line 2446, in wsgi_app\n",
      "    response = self.full_dispatch_request()\n",
      "  File \"D:\\Users\\21620\\Anaconda3\\lib\\site-packages\\flask\\app.py\", line 1951, in full_dispatch_request\n",
      "    rv = self.handle_user_exception(e)\n",
      "  File \"D:\\Users\\21620\\Anaconda3\\lib\\site-packages\\flask\\app.py\", line 1820, in handle_user_exception\n",
      "    reraise(exc_type, exc_value, tb)\n",
      "  File \"D:\\Users\\21620\\Anaconda3\\lib\\site-packages\\flask\\_compat.py\", line 39, in reraise\n",
      "    raise value\n",
      "  File \"D:\\Users\\21620\\Anaconda3\\lib\\site-packages\\flask\\app.py\", line 1949, in full_dispatch_request\n",
      "    rv = self.dispatch_request()\n",
      "  File \"D:\\Users\\21620\\Anaconda3\\lib\\site-packages\\flask\\app.py\", line 1935, in dispatch_request\n",
      "    return self.view_functions[rule.endpoint](**req.view_args)\n",
      "  File \"D:\\Users\\21620\\Anaconda3\\lib\\site-packages\\dash\\dash.py\", line 1050, in dispatch\n",
      "    response.set_data(func(*args, outputs_list=outputs_list))\n",
      "  File \"D:\\Users\\21620\\Anaconda3\\lib\\site-packages\\dash\\dash.py\", line 985, in add_context\n",
      "    output_value = func(*args, **kwargs)  # %% callback invoked %%\n",
      "  File \"<ipython-input-209-bd79a8b24814>\", line 134, in display_Modele\n",
      "    ypred = pd.DataFrame({'pred_lin_regr': pd.Series(RandomForest.predict(X))})\n",
      "NameError: name 'RandomForest' is not defined\n",
      "INFO:werkzeug:127.0.0.1 - - [17/Sep/2020 23:45:52] \"\u001b[1m\u001b[35mPOST /_dash-update-component HTTP/1.1\u001b[0m\" 500 -\n"
     ]
    }
   ],
   "source": [
    "import os\n",
    "import dash\n",
    "import dash_core_components as dcc\n",
    "import dash_html_components as html\n",
    "import dash_daq as daq\n",
    "\n",
    "app = dash.Dash(__name__)\n",
    "server = app.server\n",
    "app.layout = html.Div([\n",
    "    html.H2('Veuillez insérer les coordonnées de votre voiture'),\n",
    "    \n",
    "    html.H4('Marque :'),\n",
    "    dcc.Dropdown(id='Marque', options=[{'label': i, 'value': i} for i in Marque ]), \n",
    "    html.Div(id='display-Marque'),\n",
    "    \n",
    "    html.H4('Modele :'),\n",
    "    dcc.Dropdown(id='Modele', options=[{'label': i, 'value': i} for i in VW_Modele ]), \n",
    "    html.Div(id='display-Modele'),\n",
    "    \n",
    "    html.H4('Carburant :'),\n",
    "    dcc.Dropdown(id='Carburant', options=[{'label': i, 'value': i} for i in ['Diesel', 'Electrique', 'Essence', 'GPL', 'Hybride']]), \n",
    "    html.Div(id='display-Carburant'),\n",
    "    \n",
    "    html.H4('Age de la voiture :'),\n",
    "    dcc.Input(id='Age', value=0),\n",
    "    html.Div(id='display-Age'),\n",
    "    \n",
    "    html.H4('Nombre de kilométrage :'),\n",
    "    dcc.Input(id='Kilometrage', value=0),\n",
    "    html.Div(id='display-Kilometrage'),\n",
    "    \n",
    "    \n",
    "    html.H4('Prix estimé :'),\n",
    "    html.Div(id='display-Prix'),\n",
    "    \n",
    "    \n",
    "])\n",
    "\n",
    "\n",
    "@app.callback(dash.dependencies.Output('display-Marque', 'children'),\n",
    "              [dash.dependencies.Input('Marque', 'value')])\n",
    "def display_value(value):\n",
    "    return 'You have selected \"{}\"'.format(value)\n",
    "\n",
    "@app.callback(dash.dependencies.Output('display-Modele', 'children'),\n",
    "              [dash.dependencies.Input('Modele', 'value')])\n",
    "def display_Modele(value):\n",
    "    if(value == 'Amarok'):\n",
    "        X.loc[0]=[1,0,0,0,0,0,0,0,0,0,0,0,0,0,0,X['Diesel'][0],X['Electrique'][0],X['Essence'][0],X['Hybride'][0],X['annee'][0],X['kilometrage'][0],X['prix'][0]]\n",
    "    elif(value == 'Caddy'):\n",
    "        X.loc[0]=[0,1,0,0,0,0,0,0,0,0,0,0,0,0,0,X['Diesel'][0],X['Electrique'][0],X['Essence'][0],X['Hybride'][0],X['annee'][0],X['kilometrage'][0],X['prix'][0]]\n",
    "    elif(value == 'Golf'):\n",
    "        X.loc[0]=[0,0,1,0,0,0,0,0,0,0,0,0,0,0,0,X['Diesel'][0],X['Electrique'][0],X['Essence'][0],X['Hybride'][0],X['annee'][0],X['kilometrage'][0],X['prix'][0]]\n",
    "    elif(value == 'Golf 2'):\n",
    "        X.loc[0]=[0,0,0,1,0,0,0,0,0,0,0,0,0,0,0,X['Diesel'][0],X['Electrique'][0],X['Essence'][0],X['Hybride'][0],X['annee'][0],X['kilometrage'][0],X['prix'][0]]\n",
    "    elif(value == 'Golf 3'):\n",
    "        X.loc[0]=[0,0,0,0,1,0,0,0,0,0,0,0,0,0,0,X['Diesel'][0],X['Electrique'][0],X['Essence'][0],X['Hybride'][0],X['annee'][0],X['kilometrage'][0],X['prix'][0]]\n",
    "    elif(value == 'Golf 4'):\n",
    "        X.loc[0]=[0,0,0,0,0,1,0,0,0,0,0,0,0,0,0,X['Diesel'][0],X['Electrique'][0],X['Essence'][0],X['Hybride'][0],X['annee'][0],X['kilometrage'][0],X['prix'][0]]\n",
    "    elif(value == 'Golf 5'):\n",
    "        X.loc[0]=[0,0,0,0,0,0,1,0,0,0,0,0,0,0,0,X['Diesel'][0],X['Electrique'][0],X['Essence'][0],X['Hybride'][0],X['annee'][0],X['kilometrage'][0],X['prix'][0]]\n",
    "    elif(value == 'Golf 6'):\n",
    "        X.loc[0]=[0,0,0,0,0,0,0,1,0,0,0,0,0,0,0,X['Diesel'][0],X['Electrique'][0],X['Essence'][0],X['Hybride'][0],X['annee'][0],X['kilometrage'][0],X['prix'][0]]\n",
    "    elif(value == 'Golf 7'):\n",
    "        X.loc[0]=[0,0,0,0,0,0,0,0,1,0,0,0,0,0,0,X['Diesel'][0],X['Electrique'][0],X['Essence'][0],X['Hybride'][0],X['annee'][0],X['kilometrage'][0],X['prix'][0]]\n",
    "    elif(value == 'Jetta'):\n",
    "        X.loc[0]=[0,0,0,0,0,0,0,0,0,1,0,0,0,0,0,X['Diesel'][0],X['Electrique'][0],X['Essence'][0],X['Hybride'][0],X['annee'][0],X['kilometrage'][0],X['prix'][0]]\n",
    "    elif(value == 'Passat'):\n",
    "        X.loc[0]=[0,0,0,0,0,0,0,0,0,0,1,0,0,0,0,X['Diesel'][0],X['Electrique'][0],X['Essence'][0],X['Hybride'][0],X['annee'][0],X['kilometrage'][0],X['prix'][0]]\n",
    "    elif(value == 'Passat CC'):\n",
    "        X.loc[0]=[0,0,0,0,0,0,0,0,0,0,0,1,0,0,0,X['Diesel'][0],X['Electrique'][0],X['Essence'][0],X['Hybride'][0],X['annee'][0],X['kilometrage'][0],X['prix'][0]]\n",
    "    elif(value == 'Polo'):\n",
    "        X.loc[0]=[0,0,0,0,0,0,0,0,0,0,0,0,1,0,0,X['Diesel'][0],X['Electrique'][0],X['Essence'][0],X['Hybride'][0],X['annee'][0],X['kilometrage'][0],X['prix'][0]]\n",
    "    elif(value == 'Tiguan'):\n",
    "        X.loc[0]=[0,0,0,0,0,0,0,0,0,0,0,0,0,1,0,X['Diesel'][0],X['Electrique'][0],X['Essence'][0],X['Hybride'][0],X['annee'][0],X['kilometrage'][0],X['prix'][0]]\n",
    "    elif(value == 'Transporter'):\n",
    "        X.loc[0]=[0,0,0,0,0,0,0,0,0,0,0,0,0,0,1,X['Diesel'][0],X['Electrique'][0],X['Essence'][0],X['Hybride'][0],X['annee'][0],X['kilometrage'][0],X['prix'][0]]\n",
    "    return 'You have selected \"{}\"'.format(value)\n",
    "\n",
    "@app.callback(dash.dependencies.Output('display-Carburant', 'children'),\n",
    "              [dash.dependencies.Input('Carburant', 'value')])\n",
    "def display_Modele(value):\n",
    "    if(value == 'Diesel'):\n",
    "        X.loc[0,'Diesel'] = 1\n",
    "        X.loc[0,'Electrique'] = 0\n",
    "#         X.loc[0,'GPL'] = 0\n",
    "        X.loc[0,'Hybride'] = 0\n",
    "        X.loc[0,'Essence'] = 0\n",
    "    elif(value == 'Electrique'):\n",
    "        X.loc[0,'Diesel'] = 0\n",
    "        X.loc[0,'Electrique'] = 1\n",
    "#         X.loc[0,'GPL'] = 0\n",
    "        X.loc[0,'Hybride'] = 0\n",
    "        X.loc[0,'Essence'] = 0\n",
    "    elif(value == 'GPL'):\n",
    "        X.loc[0,'Diesel'] = 0\n",
    "        X.loc[0,'Electrique'] = 0\n",
    "#         X.loc[0,'GPL'] = 1\n",
    "        X.loc[0,'Hybride'] = 0\n",
    "        X.loc[0,'Essence'] = 0\n",
    "    elif(value == 'Hybride'):\n",
    "        X.loc[0,'Diesel'] = 0\n",
    "        X.loc[0,'Electrique'] = 0\n",
    "#         X.loc[0,'GPL'] = 0\n",
    "        X.loc[0,'Hybride'] = 1\n",
    "        X.loc[0,'Essence'] = 0\n",
    "    elif(value == 'Essence'):\n",
    "        X.loc[0,'Diesel'] = 0\n",
    "        X.loc[0,'Electrique'] = 0\n",
    "#         X.loc[0,'GPL'] = 0\n",
    "        X.loc[0,'Hybride'] = 0\n",
    "        X.loc[0,'Essence'] = 1\n",
    "    return 'You have selected \"{}\"'.format(value)\n",
    "\n",
    "\n",
    "@app.callback(dash.dependencies.Output('display-Age', 'children'),\n",
    "              [dash.dependencies.Input('Age', 'value')])\n",
    "def display_Modele(value):\n",
    "    Annee = (int(value) - Q1_annee) / (Q3_annee - Q1_annee)\n",
    "    X.loc[0, 'annee'] = Annee\n",
    "    return 'You have selected \"{}\"'.format(Annee)\n",
    "\n",
    "@app.callback(dash.dependencies.Output('display-Kilometrage', 'children'),\n",
    "              [dash.dependencies.Input('Kilometrage', 'value')])\n",
    "def display_Modele(value):\n",
    "    Kilometrage = int(value) / 100\n",
    "    Kilometrage = (Kilometrage - Q1_Kilometrage ) / (Q3_Kilometrage - Q1_Kilometrage)\n",
    "    X.loc[0, 'kilometrage'] = Kilometrage\n",
    "    return 'You have selected \"{}\"'.format(Kilometrage)\n",
    "\n",
    "@app.callback(dash.dependencies.Output('display-Prix', 'children'),\n",
    "              [dash.dependencies.Input('Kilometrage', 'value')])\n",
    "def display_Modele(value):\n",
    "    ypred = pd.DataFrame({'pred_lin_regr': pd.Series(RandomForest.predict(X))})\n",
    "    return 'You have selected \"{}\"'.format(ypred)\n",
    "\n",
    "\n",
    "\n",
    "if __name__ == '__main__':\n",
    "    app.run_server(debug=False)"
   ]
  },
  {
   "cell_type": "code",
   "execution_count": 96,
   "metadata": {},
   "outputs": [],
   "source": [
    "X = X.drop('prix', axis=1)"
   ]
  },
  {
   "cell_type": "code",
   "execution_count": 97,
   "metadata": {},
   "outputs": [
    {
     "data": {
      "text/html": [
       "<div>\n",
       "<style scoped>\n",
       "    .dataframe tbody tr th:only-of-type {\n",
       "        vertical-align: middle;\n",
       "    }\n",
       "\n",
       "    .dataframe tbody tr th {\n",
       "        vertical-align: top;\n",
       "    }\n",
       "\n",
       "    .dataframe thead th {\n",
       "        text-align: right;\n",
       "    }\n",
       "</style>\n",
       "<table border=\"1\" class=\"dataframe\">\n",
       "  <thead>\n",
       "    <tr style=\"text-align: right;\">\n",
       "      <th></th>\n",
       "      <th>Amarok</th>\n",
       "      <th>Caddy</th>\n",
       "      <th>Golf</th>\n",
       "      <th>Golf 2</th>\n",
       "      <th>Golf 3</th>\n",
       "      <th>Golf 4</th>\n",
       "      <th>Golf 5</th>\n",
       "      <th>Golf 6</th>\n",
       "      <th>Golf 7</th>\n",
       "      <th>Jetta</th>\n",
       "      <th>Passat</th>\n",
       "      <th>Passat CC</th>\n",
       "      <th>Polo</th>\n",
       "      <th>Tiguan</th>\n",
       "      <th>Transporter</th>\n",
       "      <th>Diesel</th>\n",
       "      <th>Electrique</th>\n",
       "      <th>Essence</th>\n",
       "      <th>Hybride</th>\n",
       "      <th>annee</th>\n",
       "      <th>kilometrage</th>\n",
       "    </tr>\n",
       "  </thead>\n",
       "  <tbody>\n",
       "    <tr>\n",
       "      <th>0</th>\n",
       "      <td>0.0</td>\n",
       "      <td>0.0</td>\n",
       "      <td>0.0</td>\n",
       "      <td>0.0</td>\n",
       "      <td>0.0</td>\n",
       "      <td>0.0</td>\n",
       "      <td>0.0</td>\n",
       "      <td>0.0</td>\n",
       "      <td>1.0</td>\n",
       "      <td>0.0</td>\n",
       "      <td>0.0</td>\n",
       "      <td>0.0</td>\n",
       "      <td>0.0</td>\n",
       "      <td>0.0</td>\n",
       "      <td>0.0</td>\n",
       "      <td>0.0</td>\n",
       "      <td>0.0</td>\n",
       "      <td>1.0</td>\n",
       "      <td>0.0</td>\n",
       "      <td>-0.25</td>\n",
       "      <td>3.118565</td>\n",
       "    </tr>\n",
       "  </tbody>\n",
       "</table>\n",
       "</div>"
      ],
      "text/plain": [
       "   Amarok  Caddy  Golf  Golf 2  Golf 3  Golf 4  Golf 5  Golf 6  Golf 7  Jetta  \\\n",
       "0     0.0    0.0   0.0     0.0     0.0     0.0     0.0     0.0     1.0    0.0   \n",
       "\n",
       "   Passat  Passat CC  Polo  Tiguan  Transporter  Diesel  Electrique  Essence  \\\n",
       "0     0.0        0.0   0.0     0.0          0.0     0.0         0.0      1.0   \n",
       "\n",
       "   Hybride  annee  kilometrage  \n",
       "0      0.0  -0.25     3.118565  "
      ]
     },
     "execution_count": 97,
     "metadata": {},
     "output_type": "execute_result"
    }
   ],
   "source": [
    "X"
   ]
  },
  {
   "cell_type": "code",
   "execution_count": 98,
   "metadata": {},
   "outputs": [],
   "source": [
    "ypred = pd.DataFrame({'pred_lin_regr': pd.Series(RandomForest2.predict(X))})"
   ]
  },
  {
   "cell_type": "code",
   "execution_count": 99,
   "metadata": {},
   "outputs": [
    {
     "data": {
      "text/html": [
       "<div>\n",
       "<style scoped>\n",
       "    .dataframe tbody tr th:only-of-type {\n",
       "        vertical-align: middle;\n",
       "    }\n",
       "\n",
       "    .dataframe tbody tr th {\n",
       "        vertical-align: top;\n",
       "    }\n",
       "\n",
       "    .dataframe thead th {\n",
       "        text-align: right;\n",
       "    }\n",
       "</style>\n",
       "<table border=\"1\" class=\"dataframe\">\n",
       "  <thead>\n",
       "    <tr style=\"text-align: right;\">\n",
       "      <th></th>\n",
       "      <th>pred_lin_regr</th>\n",
       "    </tr>\n",
       "  </thead>\n",
       "  <tbody>\n",
       "    <tr>\n",
       "      <th>0</th>\n",
       "      <td>32.711023</td>\n",
       "    </tr>\n",
       "  </tbody>\n",
       "</table>\n",
       "</div>"
      ],
      "text/plain": [
       "   pred_lin_regr\n",
       "0      32.711023"
      ]
     },
     "execution_count": 99,
     "metadata": {},
     "output_type": "execute_result"
    }
   ],
   "source": [
    "ypred "
   ]
  },
  {
   "cell_type": "markdown",
   "metadata": {},
   "source": [
    "https://www.math.univ-toulouse.fr/~besse/Wikistat/pdf/st-tutor3-python-scikit.pdf"
   ]
  },
  {
   "cell_type": "code",
   "execution_count": null,
   "metadata": {},
   "outputs": [],
   "source": []
  },
  {
   "cell_type": "code",
   "execution_count": null,
   "metadata": {},
   "outputs": [],
   "source": [
    "import os\n",
    "import dash\n",
    "import dash_core_components as dcc\n",
    "import dash_html_components as html\n",
    "import dash_daq as daq\n",
    "from dash.dependencies import Input, Output\n",
    "\n",
    "\n",
    "app = dash.Dash(__name__)\n",
    "server = app.server\n",
    "app.layout = html.Div([\n",
    "    html.H2('Veuillez insérer les coordonnées de votre voiture'),\n",
    "    \n",
    "    html.H4('Marque :'),\n",
    "    dcc.Dropdown(id='Marque', options=[{'label': i, 'value': i} for i in Marque ]), \n",
    "    html.Div(id='display-Marque'),\n",
    "    \n",
    "    html.H4('Modele :'),\n",
    "    dcc.Dropdown(id='Modele', options=[{'label': i, 'value': i} for i in VW_Modele ]), \n",
    "    html.Div(id='display-Modele'),\n",
    "    \n",
    "    html.H4('Carburant :'),\n",
    "    dcc.Dropdown(id='Carburant', options=[{'label': i, 'value': i} for i in ['Diesel', 'Electrique', 'Essence', 'GPL', 'Hybride']]), \n",
    "    html.Div(id='display-Carburant'),\n",
    "    \n",
    "    html.H4('Age de la voiture :'),\n",
    "    dcc.Input(id='Age', value=0),\n",
    "    html.Div(id='display-Age'),\n",
    "    \n",
    "    html.H4('Nombre de kilométrage :'),\n",
    "    dcc.Input(id='Kilometrage', value=0),\n",
    "    html.Div(id='display-Kilometrage'),\n",
    "    \n",
    "    \n",
    "    html.H4('Prix estimé :'),\n",
    "    html.Div(id='display-Prix'),\n",
    "    \n",
    "    \n",
    "])\n",
    "\n",
    "\n",
    "@app.callback(dash.dependencies.Output('display-Marque', 'children'),\n",
    "              [dash.dependencies.Input('Marque', 'value')])\n",
    "def display_value(value):\n",
    "    return 'You have selected \"{}\"'.format(value)\n",
    "\n",
    "@app.callback(dash.dependencies.Output('display-Modele', 'children'),\n",
    "              [dash.dependencies.Input('Modele', 'value')])\n",
    "def display_Modele(value):\n",
    "    if(value == 'Amarok'):\n",
    "        X.loc[0]=[X['prix'][0],X['annee'][0],X['kilometrage'][0],1,0,0,0,0,0,0,0,0,0,0,0,0,0,0,0,0,0,0,0,0,0,0,0,0,0,0,0,0,0,0,0,0,0,X['Diesel'][0],X['Electrique'][0],X['Essence'][0],X['Hybride'][0],X['GPL'][0]]\n",
    "    elif(value == 'Beetle'):\n",
    "        X.loc[0]=[X['prix'][0],X['annee'][0],X['kilometrage'][0],0,1,0,0,0,0,0,0,0,0,0,0,0,0,0,0,0,0,0,0,0,0,0,0,0,0,0,0,0,0,0,0,0,0,X['Diesel'][0],X['Electrique'][0],X['Essence'][0],X['Hybride'][0],X['GPL'][0]]\n",
    "    elif(value == 'Bora'):\n",
    "        X.loc[0]=[X['prix'][0],X['annee'][0],X['kilometrage'][0],0,0,1,0,0,0,0,0,0,0,0,0,0,0,0,0,0,0,0,0,0,0,0,0,0,0,0,0,0,0,0,0,0,0,X['Diesel'][0],X['Electrique'][0],X['Essence'][0],X['Hybride'][0],X['GPL'][0]]\n",
    "    elif(value == 'CC'):\n",
    "        X.loc[0]=[X['prix'][0],X['annee'][0],X['kilometrage'][0],0,0,0,1,0,0,0,0,0,0,0,0,0,0,0,0,0,0,0,0,0,0,0,0,0,0,0,0,0,0,0,0,0,0,X['Diesel'][0],X['Electrique'][0],X['Essence'][0],X['Hybride'][0],X['GPL'][0]]\n",
    "    elif(value == 'Caddy'):\n",
    "        X.loc[0]=[X['prix'][0],X['annee'][0],X['kilometrage'][0],0,0,0,0,1,0,0,0,0,0,0,0,0,0,0,0,0,0,0,0,0,0,0,0,0,0,0,0,0,0,0,0,0,0,X['Diesel'][0],X['Electrique'][0],X['Essence'][0],X['Hybride'][0],X['GPL'][0]]        \n",
    "    elif(value == 'Caravelle'):\n",
    "        X.loc[0]=[X['prix'][0],X['annee'][0],X['kilometrage'][0],0,0,0,0,0,1,0,0,0,0,0,0,0,0,0,0,0,0,0,0,0,0,0,0,0,0,0,0,0,0,0,0,0,0,X['Diesel'][0],X['Electrique'][0],X['Essence'][0],X['Hybride'][0],X['GPL'][0]]\n",
    "    elif(value == 'Coccinelle'):\n",
    "        X.loc[0]=[X['prix'][0],X['annee'][0],X['kilometrage'][0],0,0,0,0,0,0,1,0,0,0,0,0,0,0,0,0,0,0,0,0,0,0,0,0,0,0,0,0,0,0,0,0,0,0,X['Diesel'][0],X['Electrique'][0],X['Essence'][0],X['Hybride'][0],X['GPL'][0]]\n",
    "    elif(value == 'Combi'):\n",
    "        X.loc[0]=[X['prix'][0],X['annee'][0],X['kilometrage'][0],0,0,0,0,0,0,0,1,0,0,0,0,0,0,0,0,0,0,0,0,0,0,0,0,0,0,0,0,0,0,0,0,0,0,X['Diesel'][0],X['Electrique'][0],X['Essence'][0],X['Hybride'][0],X['GPL'][0]]\n",
    "    elif(value == 'Crafter' ):\n",
    "        X.loc[0]=[X['prix'][0],X['annee'][0],X['kilometrage'][0],0,0,0,0,0,0,0,0,1,0,0,0,0,0,0,0,0,0,0,0,0,0,0,0,0,0,0,0,0,0,0,0,0,0,X['Diesel'][0],X['Electrique'][0],X['Essence'][0],X['Hybride'][0],X['GPL'][0]]\n",
    "    elif(value == 'Eos' ):\n",
    "        X.loc[0]=[X['prix'][0],X['annee'][0],X['kilometrage'][0],0,0,0,0,0,0,0,0,0,1,0,0,0,0,0,0,0,0,0,0,0,0,0,0,0,0,0,0,0,0,0,0,0,0,X['Diesel'][0],X['Electrique'][0],X['Essence'][0],X['Hybride'][0],X['GPL'][0]]\n",
    "    elif(value == 'Fox'):\n",
    "        X.loc[0]=[X['prix'][0],X['annee'][0],X['kilometrage'][0],0,0,0,0,0,0,0,0,0,0,1,0,0,0,0,0,0,0,0,0,0,0,0,0,0,0,0,0,0,0,0,0,0,0,X['Diesel'][0],X['Electrique'][0],X['Essence'][0],X['Hybride'][0],X['GPL'][0]]\n",
    "    elif(value == 'Golf'):\n",
    "        X.loc[0]=[X['prix'][0],X['annee'][0],X['kilometrage'][0],0,0,0,0,0,0,0,0,0,0,0,1,0,0,0,0,0,0,0,0,0,0,0,0,0,0,0,0,0,0,0,0,0,0,X['Diesel'][0],X['Electrique'][0],X['Essence'][0],X['Hybride'][0],X['GPL'][0]]\n",
    "    elif(value == 'Golf 2'):\n",
    "        X.loc[0]=[X['prix'][0],X['annee'][0],X['kilometrage'][0],0,0,0,0,0,0,0,0,0,0,0,0,1,0,0,0,0,0,0,0,0,0,0,0,0,0,0,0,0,0,0,0,0,0,X['Diesel'][0],X['Electrique'][0],X['Essence'][0],X['Hybride'][0],X['GPL'][0]]\n",
    "    elif(value == 'Golf 3'):\n",
    "        X.loc[0]=[X['prix'][0],X['annee'][0],X['kilometrage'][0],0,0,0,0,0,0,0,0,0,0,0,0,0,1,0,0,0,0,0,0,0,0,0,0,0,0,0,0,0,0,0,0,0,0,X['Diesel'][0],X['Electrique'][0],X['Essence'][0],X['Hybride'][0],X['GPL'][0]]\n",
    "    elif(value == 'Golf 4'):\n",
    "        X.loc[0]=[X['prix'][0],X['annee'][0],X['kilometrage'][0],0,0,0,0,0,0,0,0,0,0,0,0,0,0,1,0,0,0,0,0,0,0,0,0,0,0,0,0,0,0,0,0,0,0,X['Diesel'][0],X['Electrique'][0],X['Essence'][0],X['Hybride'][0],X['GPL'][0]]\n",
    "    elif(value == 'Golf 5'):\n",
    "        X.loc[0]=[X['prix'][0],X['annee'][0],X['kilometrage'][0],0,0,0,0,0,0,0,0,0,0,0,0,0,0,0,1,0,0,0,0,0,0,0,0,0,0,0,0,0,0,0,0,0,0,X['Diesel'][0],X['Electrique'][0],X['Essence'][0],X['Hybride'][0],X['GPL'][0]]\n",
    "    elif(value == 'Golf 6'):\n",
    "        X.loc[0]=[X['prix'][0],X['annee'][0],X['kilometrage'][0],0,0,0,0,0,0,0,0,0,0,0,0,0,0,0,0,1,0,0,0,0,0,0,0,0,0,0,0,0,0,0,0,0,0,X['Diesel'][0],X['Electrique'][0],X['Essence'][0],X['Hybride'][0],X['GPL'][0]]\n",
    "    elif(value == 'Golf 7'):\n",
    "        X.loc[0]=[X['prix'][0],X['annee'][0],X['kilometrage'][0],0,0,0,0,0,0,0,0,0,0,0,0,0,0,0,0,0,1,0,0,0,0,0,0,0,0,0,0,0,0,0,0,0,0,X['Diesel'][0],X['Electrique'][0],X['Essence'][0],X['Hybride'][0],X['GPL'][0]]\n",
    "    elif(value == 'Golf Plus'):\n",
    "        X.loc[0]=[X['prix'][0],X['annee'][0],X['kilometrage'][0],0,0,0,0,0,0,0,0,0,0,0,0,0,0,0,0,0,0,1,0,0,0,0,0,0,0,0,0,0,0,0,0,0,0,X['Diesel'][0],X['Electrique'][0],X['Essence'][0],X['Hybride'][0],X['GPL'][0]]\n",
    "    elif(value == 'Jetta' ):\n",
    "        X.loc[0]=[X['prix'][0],X['annee'][0],X['kilometrage'][0],0,0,0,0,0,0,0,0,0,0,0,0,0,0,0,0,0,0,0,1,0,0,0,0,0,0,0,0,0,0,0,0,0,0,X['Diesel'][0],X['Electrique'][0],X['Essence'][0],X['Hybride'][0],X['GPL'][0]]\n",
    "    elif(value == 'LT' ):\n",
    "        X.loc[0]=[X['prix'][0],X['annee'][0],X['kilometrage'][0],0,0,0,0,0,0,0,0,0,0,0,0,0,0,0,0,0,0,0,0,1,0,0,0,0,0,0,0,0,0,0,0,0,0,X['Diesel'][0],X['Electrique'][0],X['Essence'][0],X['Hybride'][0],X['GPL'][0]]\n",
    "    elif(value == 'Lupo'):\n",
    "        X.loc[0]=[X['prix'][0],X['annee'][0],X['kilometrage'][0],0,0,0,0,0,0,0,0,0,0,0,0,0,0,0,0,0,0,0,0,0,1,0,0,0,0,0,0,0,0,0,0,0,0,X['Diesel'][0],X['Electrique'][0],X['Essence'][0],X['Hybride'][0],X['GPL'][0]]\n",
    "    elif(value == 'New Beetle'):\n",
    "        X.loc[0]=[X['prix'][0],X['annee'][0],X['kilometrage'][0],0,0,0,0,0,0,0,0,0,0,0,0,0,0,0,0,0,0,0,0,0,0,1,0,0,0,0,0,0,0,0,0,0,0,X['Diesel'][0],X['Electrique'][0],X['Essence'][0],X['Hybride'][0],X['GPL'][0]]\n",
    "    elif(value == 'Passat'):\n",
    "        X.loc[0]=[X['prix'][0],X['annee'][0],X['kilometrage'][0],0,0,0,0,0,0,0,0,0,0,0,0,0,0,0,0,0,0,0,0,0,0,0,1,0,0,0,0,0,0,0,0,0,0,X['Diesel'][0],X['Electrique'][0],X['Essence'][0],X['Hybride'][0],X['GPL'][0]]\n",
    "    elif(value == 'Passat CC'):\n",
    "        X.loc[0]=[X['prix'][0],X['annee'][0],X['kilometrage'][0],0,0,0,0,0,0,0,0,0,0,0,0,0,0,0,0,0,0,0,0,0,0,0,0,1,0,0,0,0,0,0,0,0,0,X['Diesel'][0],X['Electrique'][0],X['Essence'][0],X['Hybride'][0],X['GPL'][0]]\n",
    "    elif(value == 'Polo'):\n",
    "        X.loc[0]=[X['prix'][0],X['annee'][0],X['kilometrage'][0],0,0,0,0,0,0,0,0,0,0,0,0,0,0,0,0,0,0,0,0,0,0,0,0,0,1,0,0,0,0,0,0,0,0,X['Diesel'][0],X['Electrique'][0],X['Essence'][0],X['Hybride'][0],X['GPL'][0]]\n",
    "    elif(value == 'Scirocco'):\n",
    "        X.loc[0]=[X['prix'][0],X['annee'][0],X['kilometrage'][0],0,0,0,0,0,0,0,0,0,0,0,0,0,0,0,0,0,0,0,0,0,0,0,0,0,0,1,0,0,0,0,0,0,0,X['Diesel'][0],X['Electrique'][0],X['Essence'][0],X['Hybride'][0],X['GPL'][0]]\n",
    "    elif(value == 'Sharan'):\n",
    "        X.loc[0]=[X['prix'][0],X['annee'][0],X['kilometrage'][0],0,0,0,0,0,0,0,0,0,0,0,0,0,0,0,0,0,0,0,0,0,0,0,0,0,0,0,1,0,0,0,0,0,0,X['Diesel'][0],X['Electrique'][0],X['Essence'][0],X['Hybride'][0],X['GPL'][0]]\n",
    "    elif(value == 'Tiguan'):\n",
    "        X.loc[0]=[X['prix'][0],X['annee'][0],X['kilometrage'][0],0,0,0,0,0,0,0,0,0,0,0,0,0,0,0,0,0,0,0,0,0,0,0,0,0,0,0,0,1,0,0,0,0,0,X['Diesel'][0],X['Electrique'][0],X['Essence'][0],X['Hybride'][0],X['GPL'][0]]\n",
    "    elif(value == 'Touareg'):\n",
    "        X.loc[0]=[X['prix'][0],X['annee'][0],X['kilometrage'][0],0,0,0,0,0,0,0,0,0,0,0,0,0,0,0,0,0,0,0,0,0,0,0,0,0,0,0,0,0,1,0,0,0,0,X['Diesel'][0],X['Electrique'][0],X['Essence'][0],X['Hybride'][0],X['GPL'][0]]\n",
    "    elif(value == 'Touran'):\n",
    "        X.loc[0]=[X['prix'][0],X['annee'][0],X['kilometrage'][0],0,0,0,0,0,0,0,0,0,0,0,0,0,0,0,0,0,0,0,0,0,0,0,0,0,0,0,0,0,0,1,0,0,0,X['Diesel'][0],X['Electrique'][0],X['Essence'][0],X['Hybride'][0],X['GPL'][0]]\n",
    "    elif(value == 'Transporter' ):\n",
    "        X.loc[0]=[X['prix'][0],X['annee'][0],X['kilometrage'][0],0,0,0,0,0,0,0,0,0,0,0,0,0,0,0,0,0,0,0,0,0,0,0,0,0,0,0,0,0,0,0,1,0,0,X['Diesel'][0],X['Electrique'][0],X['Essence'][0],X['Hybride'][0],X['GPL'][0]]\n",
    "    elif(value == 'Up'):\n",
    "        X.loc[0]=[X['prix'][0],X['annee'][0],X['kilometrage'][0],0,0,0,0,0,0,0,0,0,0,0,0,0,0,0,0,0,0,0,0,0,0,0,0,0,0,0,0,0,0,0,0,1,0,X['Diesel'][0],X['Electrique'][0],X['Essence'][0],X['Hybride'][0],X['GPL'][0]]\n",
    "    elif(value == 'Vento'):\n",
    "        X.loc[0]=[X['prix'][0],X['annee'][0],X['kilometrage'][0],0,0,0,0,0,0,0,0,0,0,0,0,0,0,0,0,0,0,0,0,0,0,0,0,0,0,0,0,0,0,0,0,0,1,X['Diesel'][0],X['Electrique'][0],X['Essence'][0],X['Hybride'][0],X['GPL'][0]]\n",
    "\n",
    "    return 'You have selected \"{}\"'.format(value)\n",
    "\n",
    "@app.callback(dash.dependencies.Output('display-Carburant', 'children'),\n",
    "              [dash.dependencies.Input('Carburant', 'value')])\n",
    "def display_Modele(value):\n",
    "    if(value == 'Diesel'):\n",
    "        X.loc[0,'Diesel'] = 1\n",
    "        X.loc[0,'Electrique'] = 0\n",
    "        X.loc[0,'GPL'] = 0\n",
    "        X.loc[0,'Hybride'] = 0\n",
    "        X.loc[0,'Essence'] = 0\n",
    "    elif(value == 'Electrique'):\n",
    "        X.loc[0,'Diesel'] = 0\n",
    "        X.loc[0,'Electrique'] = 1\n",
    "        X.loc[0,'GPL'] = 0\n",
    "        X.loc[0,'Hybride'] = 0\n",
    "        X.loc[0,'Essence'] = 0\n",
    "    elif(value == 'GPL'):\n",
    "        X.loc[0,'Diesel'] = 0\n",
    "        X.loc[0,'Electrique'] = 0\n",
    "        X.loc[0,'GPL'] = 1\n",
    "        X.loc[0,'Hybride'] = 0\n",
    "        X.loc[0,'Essence'] = 0\n",
    "    elif(value == 'Hybride'):\n",
    "        X.loc[0,'Diesel'] = 0\n",
    "        X.loc[0,'Electrique'] = 0\n",
    "        X.loc[0,'GPL'] = 0\n",
    "        X.loc[0,'Hybride'] = 1\n",
    "        X.loc[0,'Essence'] = 0\n",
    "    elif(value == 'Essence'):\n",
    "        X.loc[0,'Diesel'] = 0\n",
    "        X.loc[0,'Electrique'] = 0\n",
    "        X.loc[0,'GPL'] = 0\n",
    "        X.loc[0,'Hybride'] = 0\n",
    "        X.loc[0,'Essence'] = 1\n",
    "    return 'You have selected \"{}\"'.format(value)\n",
    "\n",
    "\n",
    "@app.callback(dash.dependencies.Output('display-Age', 'children'),\n",
    "              [dash.dependencies.Input('Age', 'value')])\n",
    "def display_Modele(value):\n",
    "    Annee = (int(value) - Annee_mean) / Annee_sd\n",
    "    X.loc[0, 'annee'] = Annee\n",
    "    return 'You have selected \"{}\"'.format(Annee)\n",
    "\n",
    "@app.callback(dash.dependencies.Output('display-Kilometrage', 'children'),\n",
    "              [dash.dependencies.Input('Kilometrage', 'value')])\n",
    "def display_Modele(value):\n",
    "    Kilometrage = int(value) / 100\n",
    "    Kilometrage = (Kilometrage - Kilometrage_mean) / Kilometrage_sd\n",
    "    X.loc[0, 'kilometrage'] = Kilometrage\n",
    "    return 'You have selected \"{}\"'.format(Kilometrage)\n",
    "\n",
    "@app.callback(dash.dependencies.Output('display-Prix', 'children'),\n",
    "              [dash.dependencies.Input('Kilometrage', 'value')])\n",
    "def display_Modele(value):\n",
    "    ypred = pd.DataFrame({'pred_lin_regr': pd.Series(RandomForest.predict(X))})\n",
    "    return 'You have selected \"{}\"'.format(ypred)\n",
    "\n",
    "\n",
    "\n",
    "if __name__ == '__main__':\n",
    "    app.run_server(debug=False)"
   ]
  },
  {
   "cell_type": "code",
   "execution_count": 102,
   "metadata": {},
   "outputs": [
    {
     "data": {
      "text/html": [
       "<div>\n",
       "<style scoped>\n",
       "    .dataframe tbody tr th:only-of-type {\n",
       "        vertical-align: middle;\n",
       "    }\n",
       "\n",
       "    .dataframe tbody tr th {\n",
       "        vertical-align: top;\n",
       "    }\n",
       "\n",
       "    .dataframe thead th {\n",
       "        text-align: right;\n",
       "    }\n",
       "</style>\n",
       "<table border=\"1\" class=\"dataframe\">\n",
       "  <thead>\n",
       "    <tr style=\"text-align: right;\">\n",
       "      <th></th>\n",
       "      <th>Marque</th>\n",
       "      <th>Modele</th>\n",
       "      <th>prix</th>\n",
       "      <th>annee</th>\n",
       "      <th>kilometrage</th>\n",
       "      <th>carburant</th>\n",
       "    </tr>\n",
       "  </thead>\n",
       "  <tbody>\n",
       "    <tr>\n",
       "      <td>0</td>\n",
       "      <td>Volkswagen</td>\n",
       "      <td>Passat</td>\n",
       "      <td>27.0</td>\n",
       "      <td>13</td>\n",
       "      <td>224.000</td>\n",
       "      <td>Diesel</td>\n",
       "    </tr>\n",
       "    <tr>\n",
       "      <td>1</td>\n",
       "      <td>Volkswagen</td>\n",
       "      <td>Polo</td>\n",
       "      <td>24.3</td>\n",
       "      <td>10</td>\n",
       "      <td>177.150</td>\n",
       "      <td>Essence</td>\n",
       "    </tr>\n",
       "    <tr>\n",
       "      <td>2</td>\n",
       "      <td>Volkswagen</td>\n",
       "      <td>Passat</td>\n",
       "      <td>35.0</td>\n",
       "      <td>12</td>\n",
       "      <td>280.000</td>\n",
       "      <td>Diesel</td>\n",
       "    </tr>\n",
       "    <tr>\n",
       "      <td>3</td>\n",
       "      <td>Volkswagen</td>\n",
       "      <td>Transporter</td>\n",
       "      <td>13.5</td>\n",
       "      <td>22</td>\n",
       "      <td>11.111</td>\n",
       "      <td>Diesel</td>\n",
       "    </tr>\n",
       "    <tr>\n",
       "      <td>4</td>\n",
       "      <td>Volkswagen</td>\n",
       "      <td>Golf 7</td>\n",
       "      <td>45.0</td>\n",
       "      <td>6</td>\n",
       "      <td>102.400</td>\n",
       "      <td>Essence</td>\n",
       "    </tr>\n",
       "    <tr>\n",
       "      <td>...</td>\n",
       "      <td>...</td>\n",
       "      <td>...</td>\n",
       "      <td>...</td>\n",
       "      <td>...</td>\n",
       "      <td>...</td>\n",
       "      <td>...</td>\n",
       "    </tr>\n",
       "    <tr>\n",
       "      <td>9656</td>\n",
       "      <td>Volkswagen</td>\n",
       "      <td>Passat CC</td>\n",
       "      <td>44.0</td>\n",
       "      <td>10</td>\n",
       "      <td>188.000</td>\n",
       "      <td>Diesel</td>\n",
       "    </tr>\n",
       "    <tr>\n",
       "      <td>9657</td>\n",
       "      <td>Volkswagen</td>\n",
       "      <td>Passat CC</td>\n",
       "      <td>200.0</td>\n",
       "      <td>10</td>\n",
       "      <td>96.000</td>\n",
       "      <td>Essence</td>\n",
       "    </tr>\n",
       "    <tr>\n",
       "      <td>9658</td>\n",
       "      <td>Volkswagen</td>\n",
       "      <td>Passat CC</td>\n",
       "      <td>55.0</td>\n",
       "      <td>6</td>\n",
       "      <td>288.000</td>\n",
       "      <td>Essence</td>\n",
       "    </tr>\n",
       "    <tr>\n",
       "      <td>9659</td>\n",
       "      <td>Volkswagen</td>\n",
       "      <td>Passat CC</td>\n",
       "      <td>500.0</td>\n",
       "      <td>5</td>\n",
       "      <td>100.000</td>\n",
       "      <td>Hybride</td>\n",
       "    </tr>\n",
       "    <tr>\n",
       "      <td>9660</td>\n",
       "      <td>Volkswagen</td>\n",
       "      <td>Passat CC</td>\n",
       "      <td>41.0</td>\n",
       "      <td>11</td>\n",
       "      <td>220.000</td>\n",
       "      <td>Diesel</td>\n",
       "    </tr>\n",
       "  </tbody>\n",
       "</table>\n",
       "<p>9661 rows × 6 columns</p>\n",
       "</div>"
      ],
      "text/plain": [
       "          Marque       Modele   prix  annee  kilometrage carburant\n",
       "0     Volkswagen       Passat   27.0     13      224.000    Diesel\n",
       "1     Volkswagen         Polo   24.3     10      177.150   Essence\n",
       "2     Volkswagen       Passat   35.0     12      280.000    Diesel\n",
       "3     Volkswagen  Transporter   13.5     22       11.111    Diesel\n",
       "4     Volkswagen       Golf 7   45.0      6      102.400   Essence\n",
       "...          ...          ...    ...    ...          ...       ...\n",
       "9656  Volkswagen    Passat CC   44.0     10      188.000    Diesel\n",
       "9657  Volkswagen    Passat CC  200.0     10       96.000   Essence\n",
       "9658  Volkswagen    Passat CC   55.0      6      288.000   Essence\n",
       "9659  Volkswagen    Passat CC  500.0      5      100.000   Hybride\n",
       "9660  Volkswagen    Passat CC   41.0     11      220.000    Diesel\n",
       "\n",
       "[9661 rows x 6 columns]"
      ]
     },
     "execution_count": 102,
     "metadata": {},
     "output_type": "execute_result"
    }
   ],
   "source": [
    "df"
   ]
  },
  {
   "cell_type": "markdown",
   "metadata": {},
   "source": [
    "- https://benalexkeen.com/feature-scaling-with-scikit-learn/\n",
    "- http://eric.univ-lyon2.fr/~ricco/tanagra/fichiers/fr_Tanagra_Python_Regression_Logistique.pdf\n",
    "- https://www.math.univ-toulouse.fr/~besse/Wikistat/pdf/st-tutor3-python-scikit.pdf\n",
    "- https://machinelearningmastery.com/gradient-boosting-with-scikit-learn-xgboost-lightgbm-and-catboost/\n",
    "- https://towardsdatascience.com/ngboost-explained-comparison-to-lightgbm-and-xgboost-fda510903e53"
   ]
  },
  {
   "cell_type": "code",
   "execution_count": null,
   "metadata": {},
   "outputs": [],
   "source": []
  },
  {
   "cell_type": "code",
   "execution_count": 2,
   "metadata": {},
   "outputs": [
    {
     "name": "stdout",
     "output_type": "stream",
     "text": [
      "Dash is running on http://127.0.0.1:8050/\n",
      "\n",
      "Dash is running on http://127.0.0.1:8050/\n",
      "\n",
      " Warning: This is a development server. Do not use app.run_server\n",
      " Warning: This is a development server. Do not use app.run_server\n",
      " in production, use a production WSGI server like gunicorn instead.\n",
      "\n",
      " in production, use a production WSGI server like gunicorn instead.\n",
      "\n",
      " * Serving Flask app \"__main__\" (lazy loading)\n",
      " * Environment: production\n",
      "   WARNING: This is a development server. Do not use it in a production deployment.\n",
      "   Use a production WSGI server instead.\n",
      " * Debug mode: off\n"
     ]
    },
    {
     "name": "stderr",
     "output_type": "stream",
     "text": [
      " * Running on http://127.0.0.1:8050/ (Press CTRL+C to quit)\n",
      "127.0.0.1 - - [19/Sep/2020 14:51:24] \"\u001b[37mGET / HTTP/1.1\u001b[0m\" 200 -\n",
      "127.0.0.1 - - [19/Sep/2020 14:51:24] \"\u001b[37mGET /_dash-layout HTTP/1.1\u001b[0m\" 200 -\n",
      "127.0.0.1 - - [19/Sep/2020 14:51:24] \"\u001b[37mGET /_dash-dependencies HTTP/1.1\u001b[0m\" 200 -\n",
      "127.0.0.1 - - [19/Sep/2020 14:51:24] \"\u001b[37mGET /_favicon.ico?v=1.14.0 HTTP/1.1\u001b[0m\" 200 -\n"
     ]
    }
   ],
   "source": [
    "import os\n",
    "import dash\n",
    "import dash_core_components as dcc\n",
    "import dash_html_components as html\n",
    "import dash_daq as daq\n",
    "\n",
    "app = dash.Dash(__name__)\n",
    "server = app.server\n",
    "app.layout = html.Div([\n",
    "    html.H2('Veuillez insérer les coordonnées de votre voiture'),\n",
    "    \n",
    "#     html.H4('Marque :'),\n",
    "#     dcc.Dropdown(id='Marque', options=[{'label': i, 'value': i} for i in Marque ]), \n",
    "#     html.Div(id='display-Marque'),\n",
    "    \n",
    "#     html.H4('Modele :'),\n",
    "#     dcc.Dropdown(id='Modele', options=[{'label': i, 'value': i} for i in VW_Modele ]), \n",
    "#     html.Div(id='display-Modele'),\n",
    "    \n",
    "    html.H4('Carburant :'),\n",
    "    dcc.Dropdown(id='Carburant', options=[{'label': i, 'value': i} for i in ['Diesel', 'Electrique', 'Essence', 'GPL', 'Hybride']]), \n",
    "    html.Div(id='display-Carburant'),\n",
    "    \n",
    "    html.H4('Age de la voiture :'),\n",
    "    dcc.Input(id='Age', value=0),\n",
    "    html.Div(id='display-Age'),\n",
    "    \n",
    "    html.H4('Nombre de kilométrage :'),\n",
    "    dcc.Input(id='Kilometrage', value=0),\n",
    "    html.Div(id='display-Kilometrage'),\n",
    "    \n",
    "    \n",
    "    html.H4('Prix estimé :'),\n",
    "    html.Div(id='display-Prix'),\n",
    "    \n",
    "    \n",
    "])\n",
    "\n",
    "\n",
    "\n",
    "\n",
    "\n",
    "\n",
    "\n",
    "if __name__ == '__main__':\n",
    "    app.run_server(debug=False)"
   ]
  },
  {
   "cell_type": "code",
   "execution_count": null,
   "metadata": {},
   "outputs": [],
   "source": []
  }
 ],
 "metadata": {
  "kernelspec": {
   "display_name": "Python 3",
   "language": "python",
   "name": "python3"
  },
  "language_info": {
   "codemirror_mode": {
    "name": "ipython",
    "version": 3
   },
   "file_extension": ".py",
   "mimetype": "text/x-python",
   "name": "python",
   "nbconvert_exporter": "python",
   "pygments_lexer": "ipython3",
   "version": "3.6.9"
  }
 },
 "nbformat": 4,
 "nbformat_minor": 4
}
