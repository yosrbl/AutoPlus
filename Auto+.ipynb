{
 "cells": [
  {
   "cell_type": "markdown",
   "metadata": {},
   "source": [
    "## **Checklist de base**"
   ]
  },
  {
   "cell_type": "markdown",
   "metadata": {},
   "source": [
    "### **Analyse de Forme** : \n",
    "\n",
    "- **variable target** : priceString\n",
    "- **lignes et colonnes** : (4116, 9)\n",
    "- **types de variables** : qualitatives : 3, quantitatives : 3\n",
    "- **Analyse des valeurs manquantes** : Il n'y a pas de valeurs manquantes"
   ]
  },
  {
   "cell_type": "markdown",
   "metadata": {},
   "source": [
    "### **Analyse de Fond** : \n",
    "\n",
    "- **Visualisation de la target** : \n",
    "  - Le prix varie entre **4500** et **999999**\n",
    "  \n",
    "- **Signification des variables** :\n",
    "  - Les variables continues ne sont ni standardisées, ni asymétrique.\n",
    "  \n",
    "- **Relation Variables / Target** :\n"
   ]
  },
  {
   "cell_type": "code",
   "execution_count": 1,
   "metadata": {},
   "outputs": [],
   "source": [
    "import numpy as np\n",
    "import pandas as pd\n",
    "import matplotlib.pyplot as plt\n",
    "import seaborn as sns\n",
    "import datetime\n",
    "from sklearn.preprocessing import OneHotEncoder\n",
    "from sklearn.preprocessing import Imputer\n",
    "from sklearn.impute import SimpleImputer\n",
    "from sklearn.model_selection import train_test_split"
   ]
  },
  {
   "cell_type": "code",
   "execution_count": 2,
   "metadata": {},
   "outputs": [],
   "source": [
    "df = pd.read_csv('tunisieannonce.csv')"
   ]
  },
  {
   "cell_type": "markdown",
   "metadata": {},
   "source": [
    "## **Analyse de la forme de donnée**"
   ]
  },
  {
   "cell_type": "code",
   "execution_count": 3,
   "metadata": {},
   "outputs": [
    {
     "data": {
      "text/plain": [
       "(4116, 9)"
      ]
     },
     "execution_count": 3,
     "metadata": {},
     "output_type": "execute_result"
    }
   ],
   "source": [
    "df.shape"
   ]
  },
  {
   "cell_type": "code",
   "execution_count": 4,
   "metadata": {},
   "outputs": [
    {
     "data": {
      "text/html": [
       "<div>\n",
       "<style scoped>\n",
       "    .dataframe tbody tr th:only-of-type {\n",
       "        vertical-align: middle;\n",
       "    }\n",
       "\n",
       "    .dataframe tbody tr th {\n",
       "        vertical-align: top;\n",
       "    }\n",
       "\n",
       "    .dataframe thead th {\n",
       "        text-align: right;\n",
       "    }\n",
       "</style>\n",
       "<table border=\"1\" class=\"dataframe\">\n",
       "  <thead>\n",
       "    <tr style=\"text-align: right;\">\n",
       "      <th></th>\n",
       "      <th>name</th>\n",
       "      <th>marque</th>\n",
       "      <th>carburant</th>\n",
       "      <th>date_circulation</th>\n",
       "      <th>kilometrage</th>\n",
       "      <th>nb_ch</th>\n",
       "      <th>boite_vitesse</th>\n",
       "      <th>priceString</th>\n",
       "      <th>url</th>\n",
       "    </tr>\n",
       "  </thead>\n",
       "  <tbody>\n",
       "    <tr>\n",
       "      <td>0</td>\n",
       "      <td>[Réf:3216398] Bmw série 5 phase 2 luxury toit ...</td>\n",
       "      <td>Bmw</td>\n",
       "      <td>Essence</td>\n",
       "      <td>15/01/2015</td>\n",
       "      <td>100 000</td>\n",
       "      <td>9 CV</td>\n",
       "      <td>Automatique</td>\n",
       "      <td>117500</td>\n",
       "      <td>http://www.tunisie-annonce.com/DetailsAnnonceA...</td>\n",
       "    </tr>\n",
       "    <tr>\n",
       "      <td>1</td>\n",
       "      <td>[Réf:3165751] Nissan qashqai tekna plus bva</td>\n",
       "      <td>Nissan</td>\n",
       "      <td>Essence</td>\n",
       "      <td>22/11/2017</td>\n",
       "      <td>19 979</td>\n",
       "      <td>6 CV</td>\n",
       "      <td>Automatique</td>\n",
       "      <td>110000</td>\n",
       "      <td>http://www.tunisie-annonce.com/DetailsAnnonceA...</td>\n",
       "    </tr>\n",
       "    <tr>\n",
       "      <td>2</td>\n",
       "      <td>[Réf:3203882] Calculateur et boite fusible</td>\n",
       "      <td>Citroen</td>\n",
       "      <td>Diesel</td>\n",
       "      <td>29/10/2010</td>\n",
       "      <td>200 000</td>\n",
       "      <td>5 CV</td>\n",
       "      <td>Mécanique</td>\n",
       "      <td>700000</td>\n",
       "      <td>http://www.tunisie-annonce.com/DetailsAnnonceA...</td>\n",
       "    </tr>\n",
       "    <tr>\n",
       "      <td>3</td>\n",
       "      <td>[Réf:3220188] Première main ford focus bonne état</td>\n",
       "      <td>Ford</td>\n",
       "      <td>Essence</td>\n",
       "      <td>15/02/2009</td>\n",
       "      <td>210 000</td>\n",
       "      <td>6 CV</td>\n",
       "      <td>Mécanique</td>\n",
       "      <td>23000</td>\n",
       "      <td>http://www.tunisie-annonce.com/DetailsAnnonceA...</td>\n",
       "    </tr>\n",
       "    <tr>\n",
       "      <td>4</td>\n",
       "      <td>[Réf:3215729] 308 full option excellent état e...</td>\n",
       "      <td>Peugeot</td>\n",
       "      <td>Essence</td>\n",
       "      <td>20/06/2014</td>\n",
       "      <td>110 000</td>\n",
       "      <td>5 CV</td>\n",
       "      <td>Mécanique</td>\n",
       "      <td>48500</td>\n",
       "      <td>http://www.tunisie-annonce.com/DetailsAnnonceA...</td>\n",
       "    </tr>\n",
       "  </tbody>\n",
       "</table>\n",
       "</div>"
      ],
      "text/plain": [
       "                                                name   marque carburant  \\\n",
       "0  [Réf:3216398] Bmw série 5 phase 2 luxury toit ...      Bmw   Essence   \n",
       "1        [Réf:3165751] Nissan qashqai tekna plus bva   Nissan   Essence   \n",
       "2         [Réf:3203882] Calculateur et boite fusible  Citroen    Diesel   \n",
       "3  [Réf:3220188] Première main ford focus bonne état     Ford   Essence   \n",
       "4  [Réf:3215729] 308 full option excellent état e...  Peugeot   Essence   \n",
       "\n",
       "  date_circulation kilometrage nb_ch boite_vitesse  priceString  \\\n",
       "0       15/01/2015     100 000  9 CV   Automatique       117500   \n",
       "1       22/11/2017      19 979  6 CV   Automatique       110000   \n",
       "2       29/10/2010     200 000  5 CV     Mécanique       700000   \n",
       "3       15/02/2009     210 000  6 CV     Mécanique        23000   \n",
       "4       20/06/2014     110 000  5 CV     Mécanique        48500   \n",
       "\n",
       "                                                 url  \n",
       "0  http://www.tunisie-annonce.com/DetailsAnnonceA...  \n",
       "1  http://www.tunisie-annonce.com/DetailsAnnonceA...  \n",
       "2  http://www.tunisie-annonce.com/DetailsAnnonceA...  \n",
       "3  http://www.tunisie-annonce.com/DetailsAnnonceA...  \n",
       "4  http://www.tunisie-annonce.com/DetailsAnnonceA...  "
      ]
     },
     "execution_count": 4,
     "metadata": {},
     "output_type": "execute_result"
    }
   ],
   "source": [
    "df.head()"
   ]
  },
  {
   "cell_type": "code",
   "execution_count": 5,
   "metadata": {},
   "outputs": [
    {
     "data": {
      "text/plain": [
       "name                object\n",
       "marque              object\n",
       "carburant           object\n",
       "date_circulation    object\n",
       "kilometrage         object\n",
       "nb_ch               object\n",
       "boite_vitesse       object\n",
       "priceString          int64\n",
       "url                 object\n",
       "dtype: object"
      ]
     },
     "execution_count": 5,
     "metadata": {},
     "output_type": "execute_result"
    }
   ],
   "source": [
    "df.dtypes"
   ]
  },
  {
   "cell_type": "code",
   "execution_count": 6,
   "metadata": {},
   "outputs": [
    {
     "data": {
      "text/plain": [
       "object    8\n",
       "int64     1\n",
       "dtype: int64"
      ]
     },
     "execution_count": 6,
     "metadata": {},
     "output_type": "execute_result"
    }
   ],
   "source": [
    "df.dtypes.value_counts()"
   ]
  },
  {
   "cell_type": "code",
   "execution_count": 7,
   "metadata": {},
   "outputs": [],
   "source": [
    "df = df.drop('name', axis=1)\n",
    "df = df.drop('url', axis=1)"
   ]
  },
  {
   "cell_type": "code",
   "execution_count": 8,
   "metadata": {},
   "outputs": [
    {
     "data": {
      "text/plain": [
       "<matplotlib.axes._subplots.AxesSubplot at 0x1faf36ad630>"
      ]
     },
     "execution_count": 8,
     "metadata": {},
     "output_type": "execute_result"
    },
    {
     "data": {
      "image/png": "[encoded data removed]",
      "text/plain": [
       "<Figure size 1440x720 with 1 Axes>"
      ]
     },
     "metadata": {
      "needs_background": "light"
     },
     "output_type": "display_data"
    }
   ],
   "source": [
    "plt.figure(figsize=(20,10))\n",
    "sns.heatmap(df.isna(), cbar=False )"
   ]
  },
  {
   "cell_type": "code",
   "execution_count": 9,
   "metadata": {},
   "outputs": [
    {
     "data": {
      "text/html": [
       "<div>\n",
       "<style scoped>\n",
       "    .dataframe tbody tr th:only-of-type {\n",
       "        vertical-align: middle;\n",
       "    }\n",
       "\n",
       "    .dataframe tbody tr th {\n",
       "        vertical-align: top;\n",
       "    }\n",
       "\n",
       "    .dataframe thead th {\n",
       "        text-align: right;\n",
       "    }\n",
       "</style>\n",
       "<table border=\"1\" class=\"dataframe\">\n",
       "  <thead>\n",
       "    <tr style=\"text-align: right;\">\n",
       "      <th></th>\n",
       "      <th>marque</th>\n",
       "      <th>carburant</th>\n",
       "      <th>date_circulation</th>\n",
       "      <th>kilometrage</th>\n",
       "      <th>nb_ch</th>\n",
       "      <th>boite_vitesse</th>\n",
       "      <th>priceString</th>\n",
       "    </tr>\n",
       "  </thead>\n",
       "  <tbody>\n",
       "    <tr>\n",
       "      <td>52</td>\n",
       "      <td>Fiat</td>\n",
       "      <td>Diesel</td>\n",
       "      <td>20/07/2018</td>\n",
       "      <td>50 000</td>\n",
       "      <td>5 CV</td>\n",
       "      <td>Mécanique</td>\n",
       "      <td>19500</td>\n",
       "    </tr>\n",
       "    <tr>\n",
       "      <td>78</td>\n",
       "      <td>Fiat</td>\n",
       "      <td>Diesel</td>\n",
       "      <td>20/07/2018</td>\n",
       "      <td>50 000</td>\n",
       "      <td>5 CV</td>\n",
       "      <td>Mécanique</td>\n",
       "      <td>19500</td>\n",
       "    </tr>\n",
       "    <tr>\n",
       "      <td>79</td>\n",
       "      <td>Volkswagen</td>\n",
       "      <td>Diesel</td>\n",
       "      <td>04/05/2010</td>\n",
       "      <td>250 000</td>\n",
       "      <td>5 CV</td>\n",
       "      <td>Mécanique</td>\n",
       "      <td>32000</td>\n",
       "    </tr>\n",
       "    <tr>\n",
       "      <td>80</td>\n",
       "      <td>Bmw</td>\n",
       "      <td>Essence</td>\n",
       "      <td>01/01/2010</td>\n",
       "      <td>153 000</td>\n",
       "      <td>7 CV</td>\n",
       "      <td>Mécanique</td>\n",
       "      <td>45000</td>\n",
       "    </tr>\n",
       "    <tr>\n",
       "      <td>81</td>\n",
       "      <td>Mercedes</td>\n",
       "      <td>Essence</td>\n",
       "      <td>01/01/2011</td>\n",
       "      <td>180</td>\n",
       "      <td>9 CV</td>\n",
       "      <td>Mécanique</td>\n",
       "      <td>62000</td>\n",
       "    </tr>\n",
       "    <tr>\n",
       "      <td>...</td>\n",
       "      <td>...</td>\n",
       "      <td>...</td>\n",
       "      <td>...</td>\n",
       "      <td>...</td>\n",
       "      <td>...</td>\n",
       "      <td>...</td>\n",
       "      <td>...</td>\n",
       "    </tr>\n",
       "    <tr>\n",
       "      <td>4111</td>\n",
       "      <td>Peugeot</td>\n",
       "      <td>Essence</td>\n",
       "      <td>30/06/2014</td>\n",
       "      <td>158 000</td>\n",
       "      <td>5 CV</td>\n",
       "      <td>Mécanique</td>\n",
       "      <td>19900</td>\n",
       "    </tr>\n",
       "    <tr>\n",
       "      <td>4112</td>\n",
       "      <td>Peugeot</td>\n",
       "      <td>Essence</td>\n",
       "      <td>01/01/2008</td>\n",
       "      <td>130</td>\n",
       "      <td>6 CV</td>\n",
       "      <td>Mécanique</td>\n",
       "      <td>18500</td>\n",
       "    </tr>\n",
       "    <tr>\n",
       "      <td>4113</td>\n",
       "      <td>Volkswagen</td>\n",
       "      <td>Essence</td>\n",
       "      <td>21/01/2003</td>\n",
       "      <td>197</td>\n",
       "      <td>4 CV</td>\n",
       "      <td>Mécanique</td>\n",
       "      <td>14000</td>\n",
       "    </tr>\n",
       "    <tr>\n",
       "      <td>4114</td>\n",
       "      <td>Volkswagen</td>\n",
       "      <td>Essence</td>\n",
       "      <td>21/01/2003</td>\n",
       "      <td>197</td>\n",
       "      <td>4 CV</td>\n",
       "      <td>Mécanique</td>\n",
       "      <td>140000</td>\n",
       "    </tr>\n",
       "    <tr>\n",
       "      <td>4115</td>\n",
       "      <td>Citroen</td>\n",
       "      <td>Essence</td>\n",
       "      <td>01/04/2017</td>\n",
       "      <td>47 000</td>\n",
       "      <td>4 CV</td>\n",
       "      <td>Mécanique</td>\n",
       "      <td>40500</td>\n",
       "    </tr>\n",
       "  </tbody>\n",
       "</table>\n",
       "<p>4030 rows × 7 columns</p>\n",
       "</div>"
      ],
      "text/plain": [
       "          marque carburant date_circulation kilometrage nb_ch boite_vitesse  \\\n",
       "52          Fiat    Diesel       20/07/2018      50 000  5 CV     Mécanique   \n",
       "78          Fiat    Diesel       20/07/2018      50 000  5 CV     Mécanique   \n",
       "79    Volkswagen    Diesel       04/05/2010     250 000  5 CV     Mécanique   \n",
       "80           Bmw   Essence       01/01/2010     153 000  7 CV     Mécanique   \n",
       "81      Mercedes   Essence       01/01/2011         180  9 CV     Mécanique   \n",
       "...          ...       ...              ...         ...   ...           ...   \n",
       "4111     Peugeot   Essence       30/06/2014     158 000  5 CV     Mécanique   \n",
       "4112     Peugeot   Essence       01/01/2008         130  6 CV     Mécanique   \n",
       "4113  Volkswagen   Essence       21/01/2003         197  4 CV     Mécanique   \n",
       "4114  Volkswagen   Essence       21/01/2003         197  4 CV     Mécanique   \n",
       "4115     Citroen   Essence       01/04/2017      47 000  4 CV     Mécanique   \n",
       "\n",
       "      priceString  \n",
       "52          19500  \n",
       "78          19500  \n",
       "79          32000  \n",
       "80          45000  \n",
       "81          62000  \n",
       "...           ...  \n",
       "4111        19900  \n",
       "4112        18500  \n",
       "4113        14000  \n",
       "4114       140000  \n",
       "4115        40500  \n",
       "\n",
       "[4030 rows x 7 columns]"
      ]
     },
     "execution_count": 9,
     "metadata": {},
     "output_type": "execute_result"
    }
   ],
   "source": [
    "#df[df['name']=='[Réf:3216941] Une belle golf 6'].count()\n",
    "duplicateRowsDF = df[df.duplicated()]\n",
    "duplicateRowsDF"
   ]
  },
  {
   "cell_type": "markdown",
   "metadata": {},
   "source": [
    "- **il n'y a pas de valeur NULL**\n",
    "- **il y a beaucoup de données dupliqués**"
   ]
  },
  {
   "cell_type": "markdown",
   "metadata": {},
   "source": [
    "## **Visualisation de la target**"
   ]
  },
  {
   "cell_type": "code",
   "execution_count": 10,
   "metadata": {},
   "outputs": [
    {
     "data": {
      "text/plain": [
       "999999"
      ]
     },
     "execution_count": 10,
     "metadata": {},
     "output_type": "execute_result"
    }
   ],
   "source": [
    "df['priceString'].max()"
   ]
  },
  {
   "cell_type": "code",
   "execution_count": 11,
   "metadata": {},
   "outputs": [
    {
     "data": {
      "text/plain": [
       "4500"
      ]
     },
     "execution_count": 11,
     "metadata": {},
     "output_type": "execute_result"
    }
   ],
   "source": [
    "df['priceString'].min()"
   ]
  },
  {
   "cell_type": "code",
   "execution_count": 12,
   "metadata": {},
   "outputs": [
    {
     "data": {
      "text/plain": [
       "<matplotlib.axes._subplots.AxesSubplot at 0x1faf3a01c50>"
      ]
     },
     "execution_count": 12,
     "metadata": {},
     "output_type": "execute_result"
    },
    {
     "data": {
      "image/png": "[encoded data removed]",
      "text/plain": [
       "<Figure size 432x288 with 1 Axes>"
      ]
     },
     "metadata": {
      "needs_background": "light"
     },
     "output_type": "display_data"
    }
   ],
   "source": [
    "plt.figure()\n",
    "sns.distplot(df['priceString'].dropna())"
   ]
  },
  {
   "cell_type": "markdown",
   "metadata": {},
   "source": [
    "# **Les variables continues**"
   ]
  },
  {
   "cell_type": "markdown",
   "metadata": {},
   "source": [
    "## La variable kilométrage"
   ]
  },
  {
   "cell_type": "code",
   "execution_count": 13,
   "metadata": {},
   "outputs": [
    {
     "name": "stderr",
     "output_type": "stream",
     "text": [
      "D:\\Users\\21620\\Anaconda3\\lib\\site-packages\\ipykernel_launcher.py:3: SettingWithCopyWarning: \n",
      "A value is trying to be set on a copy of a slice from a DataFrame\n",
      "\n",
      "See the caveats in the documentation: http://pandas.pydata.org/pandas-docs/stable/user_guide/indexing.html#returning-a-view-versus-a-copy\n",
      "  This is separate from the ipykernel package so we can avoid doing imports until\n"
     ]
    }
   ],
   "source": [
    "for i in range(0,df['kilometrage'].count()):\n",
    "    if (df['kilometrage'][i] == 'n.d'):\n",
    "        df['kilometrage'][i] = '0'"
   ]
  },
  {
   "cell_type": "code",
   "execution_count": 14,
   "metadata": {},
   "outputs": [
    {
     "name": "stderr",
     "output_type": "stream",
     "text": [
      "D:\\Users\\21620\\Anaconda3\\lib\\site-packages\\ipykernel_launcher.py:3: SettingWithCopyWarning: \n",
      "A value is trying to be set on a copy of a slice from a DataFrame\n",
      "\n",
      "See the caveats in the documentation: http://pandas.pydata.org/pandas-docs/stable/user_guide/indexing.html#returning-a-view-versus-a-copy\n",
      "  This is separate from the ipykernel package so we can avoid doing imports until\n",
      "D:\\Users\\21620\\Anaconda3\\lib\\site-packages\\ipykernel_launcher.py:5: SettingWithCopyWarning: \n",
      "A value is trying to be set on a copy of a slice from a DataFrame\n",
      "\n",
      "See the caveats in the documentation: http://pandas.pydata.org/pandas-docs/stable/user_guide/indexing.html#returning-a-view-versus-a-copy\n",
      "  \"\"\"\n"
     ]
    }
   ],
   "source": [
    "for i in range(0,df['kilometrage'].count()):\n",
    "    if (len(df['kilometrage'][i]) > 3):\n",
    "        df['kilometrage'][i]=df['kilometrage'][i][:-3]\n",
    "    \n",
    "    df['kilometrage'][i] = int(df['kilometrage'][i])"
   ]
  },
  {
   "cell_type": "code",
   "execution_count": 15,
   "metadata": {},
   "outputs": [],
   "source": [
    "df['kilometrage'] = pd.to_numeric(df['kilometrage'])"
   ]
  },
  {
   "cell_type": "code",
   "execution_count": 16,
   "metadata": {},
   "outputs": [
    {
     "data": {
      "text/plain": [
       "<matplotlib.axes._subplots.AxesSubplot at 0x1faf3ad2fd0>"
      ]
     },
     "execution_count": 16,
     "metadata": {},
     "output_type": "execute_result"
    },
    {
     "data": {
      "image/png": "[encoded data removed]",
      "text/plain": [
       "<Figure size 432x288 with 1 Axes>"
      ]
     },
     "metadata": {
      "needs_background": "light"
     },
     "output_type": "display_data"
    }
   ],
   "source": [
    "plt.figure()\n",
    "sns.distplot(df['kilometrage'].dropna())"
   ]
  },
  {
   "cell_type": "markdown",
   "metadata": {},
   "source": [
    "**En appliquant le remplissage par la médian**"
   ]
  },
  {
   "cell_type": "code",
   "execution_count": 57,
   "metadata": {},
   "outputs": [
    {
     "data": {
      "text/plain": [
       "<matplotlib.axes._subplots.AxesSubplot at 0x1faf5db8748>"
      ]
     },
     "execution_count": 57,
     "metadata": {},
     "output_type": "execute_result"
    },
    {
     "data": {
      "image/png": "[encoded data removed]",
      "text/plain": [
       "<Figure size 432x288 with 1 Axes>"
      ]
     },
     "metadata": {
      "needs_background": "light"
     },
     "output_type": "display_data"
    }
   ],
   "source": [
    "plt.figure()\n",
    "sns.distplot(df_median['kilometrage'].dropna())"
   ]
  },
  {
   "cell_type": "markdown",
   "metadata": {},
   "source": [
    "#### Normalisation"
   ]
  },
  {
   "cell_type": "code",
   "execution_count": 18,
   "metadata": {},
   "outputs": [],
   "source": [
    "df['kilometrage']-=np.mean(df['kilometrage'],axis=0)\n",
    "df['kilometrage']/=np.std(df['kilometrage'],axis=0)"
   ]
  },
  {
   "cell_type": "markdown",
   "metadata": {},
   "source": [
    "## La variable date_circulation"
   ]
  },
  {
   "cell_type": "code",
   "execution_count": 19,
   "metadata": {},
   "outputs": [
    {
     "name": "stderr",
     "output_type": "stream",
     "text": [
      "D:\\Users\\21620\\Anaconda3\\lib\\site-packages\\ipykernel_launcher.py:9: SettingWithCopyWarning: \n",
      "A value is trying to be set on a copy of a slice from a DataFrame\n",
      "\n",
      "See the caveats in the documentation: http://pandas.pydata.org/pandas-docs/stable/user_guide/indexing.html#returning-a-view-versus-a-copy\n",
      "  if __name__ == '__main__':\n"
     ]
    }
   ],
   "source": [
    "import time\n",
    "import datetime\n",
    "for i in range(0,df['date_circulation'].count()):\n",
    "    date = time.mktime(datetime.datetime.strptime(df['date_circulation'][i], \"%d/%m/%Y\").timetuple())\n",
    "    today = time.mktime(datetime.date.today().timetuple())\n",
    "    duree = today - date\n",
    "    timestamp = datetime.datetime.fromtimestamp(duree)\n",
    "    nbAnnee = int(timestamp.strftime('%d/%m/%Y')[6:11]) - 1970 \n",
    "    df['date_circulation'][i] = nbAnnee"
   ]
  },
  {
   "cell_type": "code",
   "execution_count": 20,
   "metadata": {},
   "outputs": [
    {
     "data": {
      "text/plain": [
       "<matplotlib.axes._subplots.AxesSubplot at 0x1faf3ba7cf8>"
      ]
     },
     "execution_count": 20,
     "metadata": {},
     "output_type": "execute_result"
    },
    {
     "data": {
      "image/png": "[encoded data removed]",
      "text/plain": [
       "<Figure size 432x288 with 1 Axes>"
      ]
     },
     "metadata": {
      "needs_background": "light"
     },
     "output_type": "display_data"
    }
   ],
   "source": [
    "plt.figure()\n",
    "sns.distplot(df['date_circulation'].dropna())"
   ]
  },
  {
   "cell_type": "markdown",
   "metadata": {},
   "source": [
    "**En appliquant le remplissage par la médian**"
   ]
  },
  {
   "cell_type": "code",
   "execution_count": 58,
   "metadata": {},
   "outputs": [
    {
     "data": {
      "text/plain": [
       "<matplotlib.axes._subplots.AxesSubplot at 0x1faf5e79c50>"
      ]
     },
     "execution_count": 58,
     "metadata": {},
     "output_type": "execute_result"
    },
    {
     "data": {
      "image/png": "[encoded data removed]",
      "text/plain": [
       "<Figure size 432x288 with 1 Axes>"
      ]
     },
     "metadata": {
      "needs_background": "light"
     },
     "output_type": "display_data"
    }
   ],
   "source": [
    "plt.figure()\n",
    "sns.distplot(df_median['date_circulation'].dropna())"
   ]
  },
  {
   "cell_type": "code",
   "execution_count": 21,
   "metadata": {},
   "outputs": [],
   "source": [
    "df['date_circulation'] = pd.to_numeric(df['date_circulation'])"
   ]
  },
  {
   "cell_type": "markdown",
   "metadata": {},
   "source": [
    "#### Normalisation"
   ]
  },
  {
   "cell_type": "code",
   "execution_count": 22,
   "metadata": {},
   "outputs": [],
   "source": [
    "df['date_circulation']-=np.mean(df['date_circulation'],axis=0)\n",
    "df['date_circulation']/=np.std(df['date_circulation'],axis=0)"
   ]
  },
  {
   "cell_type": "markdown",
   "metadata": {},
   "source": [
    "## La variable nb_ch"
   ]
  },
  {
   "cell_type": "code",
   "execution_count": 23,
   "metadata": {},
   "outputs": [
    {
     "name": "stderr",
     "output_type": "stream",
     "text": [
      "D:\\Users\\21620\\Anaconda3\\lib\\site-packages\\ipykernel_launcher.py:3: SettingWithCopyWarning: \n",
      "A value is trying to be set on a copy of a slice from a DataFrame\n",
      "\n",
      "See the caveats in the documentation: http://pandas.pydata.org/pandas-docs/stable/user_guide/indexing.html#returning-a-view-versus-a-copy\n",
      "  This is separate from the ipykernel package so we can avoid doing imports until\n"
     ]
    }
   ],
   "source": [
    "for i in range(0,df['nb_ch'].count()):\n",
    "    if (df['nb_ch'][i] == 'n.d'):\n",
    "        df['nb_ch'][i] = '0'"
   ]
  },
  {
   "cell_type": "code",
   "execution_count": 24,
   "metadata": {},
   "outputs": [
    {
     "name": "stderr",
     "output_type": "stream",
     "text": [
      "D:\\Users\\21620\\Anaconda3\\lib\\site-packages\\ipykernel_launcher.py:2: SettingWithCopyWarning: \n",
      "A value is trying to be set on a copy of a slice from a DataFrame\n",
      "\n",
      "See the caveats in the documentation: http://pandas.pydata.org/pandas-docs/stable/user_guide/indexing.html#returning-a-view-versus-a-copy\n",
      "  \n",
      "D:\\Users\\21620\\Anaconda3\\lib\\site-packages\\ipykernel_launcher.py:3: SettingWithCopyWarning: \n",
      "A value is trying to be set on a copy of a slice from a DataFrame\n",
      "\n",
      "See the caveats in the documentation: http://pandas.pydata.org/pandas-docs/stable/user_guide/indexing.html#returning-a-view-versus-a-copy\n",
      "  This is separate from the ipykernel package so we can avoid doing imports until\n"
     ]
    }
   ],
   "source": [
    "for i in range(0,df['nb_ch'].count()):\n",
    "        df['nb_ch'][i]=df['nb_ch'][i][0]\n",
    "        df['nb_ch'][i] = int(df['nb_ch'][i])"
   ]
  },
  {
   "cell_type": "code",
   "execution_count": 25,
   "metadata": {},
   "outputs": [
    {
     "data": {
      "text/plain": [
       "<matplotlib.axes._subplots.AxesSubplot at 0x1faf3ceff60>"
      ]
     },
     "execution_count": 25,
     "metadata": {},
     "output_type": "execute_result"
    },
    {
     "data": {
      "image/png": "[encoded data removed]",
      "text/plain": [
       "<Figure size 432x288 with 1 Axes>"
      ]
     },
     "metadata": {
      "needs_background": "light"
     },
     "output_type": "display_data"
    }
   ],
   "source": [
    "plt.figure()\n",
    "sns.distplot(df['nb_ch'].dropna())"
   ]
  },
  {
   "cell_type": "markdown",
   "metadata": {},
   "source": [
    "**En appliquant le remplissage par la médian**"
   ]
  },
  {
   "cell_type": "code",
   "execution_count": 59,
   "metadata": {},
   "outputs": [
    {
     "data": {
      "text/plain": [
       "<matplotlib.axes._subplots.AxesSubplot at 0x1faf5ea8d68>"
      ]
     },
     "execution_count": 59,
     "metadata": {},
     "output_type": "execute_result"
    },
    {
     "data": {
      "image/png": "[encoded data removed]",
      "text/plain": [
       "<Figure size 432x288 with 1 Axes>"
      ]
     },
     "metadata": {
      "needs_background": "light"
     },
     "output_type": "display_data"
    }
   ],
   "source": [
    "plt.figure()\n",
    "sns.distplot(df_median['nb_ch'].dropna())"
   ]
  },
  {
   "cell_type": "code",
   "execution_count": 26,
   "metadata": {},
   "outputs": [],
   "source": [
    "df['nb_ch'] = pd.to_numeric(df['nb_ch'])"
   ]
  },
  {
   "cell_type": "markdown",
   "metadata": {},
   "source": [
    "#### Normalisation"
   ]
  },
  {
   "cell_type": "code",
   "execution_count": 26,
   "metadata": {},
   "outputs": [],
   "source": [
    "df['nb_ch']-=np.mean(df['nb_ch'],axis=0)\n",
    "df['nb_ch']/=np.std(df['nb_ch'],axis=0)"
   ]
  },
  {
   "cell_type": "code",
   "execution_count": 27,
   "metadata": {},
   "outputs": [
    {
     "data": {
      "text/html": [
       "<div>\n",
       "<style scoped>\n",
       "    .dataframe tbody tr th:only-of-type {\n",
       "        vertical-align: middle;\n",
       "    }\n",
       "\n",
       "    .dataframe tbody tr th {\n",
       "        vertical-align: top;\n",
       "    }\n",
       "\n",
       "    .dataframe thead th {\n",
       "        text-align: right;\n",
       "    }\n",
       "</style>\n",
       "<table border=\"1\" class=\"dataframe\">\n",
       "  <thead>\n",
       "    <tr style=\"text-align: right;\">\n",
       "      <th></th>\n",
       "      <th>marque</th>\n",
       "      <th>carburant</th>\n",
       "      <th>date_circulation</th>\n",
       "      <th>kilometrage</th>\n",
       "      <th>nb_ch</th>\n",
       "      <th>boite_vitesse</th>\n",
       "      <th>priceString</th>\n",
       "    </tr>\n",
       "  </thead>\n",
       "  <tbody>\n",
       "    <tr>\n",
       "      <td>0</td>\n",
       "      <td>Bmw</td>\n",
       "      <td>Essence</td>\n",
       "      <td>-0.757958</td>\n",
       "      <td>-0.435902</td>\n",
       "      <td>2.17819</td>\n",
       "      <td>Automatique</td>\n",
       "      <td>117500</td>\n",
       "    </tr>\n",
       "    <tr>\n",
       "      <td>1</td>\n",
       "      <td>Nissan</td>\n",
       "      <td>Essence</td>\n",
       "      <td>-1.254470</td>\n",
       "      <td>-1.177929</td>\n",
       "      <td>0.63721</td>\n",
       "      <td>Automatique</td>\n",
       "      <td>110000</td>\n",
       "    </tr>\n",
       "    <tr>\n",
       "      <td>2</td>\n",
       "      <td>Citroen</td>\n",
       "      <td>Diesel</td>\n",
       "      <td>-0.095941</td>\n",
       "      <td>0.480180</td>\n",
       "      <td>0.123548</td>\n",
       "      <td>Mécanique</td>\n",
       "      <td>700000</td>\n",
       "    </tr>\n",
       "    <tr>\n",
       "      <td>3</td>\n",
       "      <td>Ford</td>\n",
       "      <td>Essence</td>\n",
       "      <td>0.235067</td>\n",
       "      <td>0.571788</td>\n",
       "      <td>0.63721</td>\n",
       "      <td>Mécanique</td>\n",
       "      <td>23000</td>\n",
       "    </tr>\n",
       "    <tr>\n",
       "      <td>4</td>\n",
       "      <td>Peugeot</td>\n",
       "      <td>Essence</td>\n",
       "      <td>-0.592453</td>\n",
       "      <td>-0.344294</td>\n",
       "      <td>0.123548</td>\n",
       "      <td>Mécanique</td>\n",
       "      <td>48500</td>\n",
       "    </tr>\n",
       "    <tr>\n",
       "      <td>...</td>\n",
       "      <td>...</td>\n",
       "      <td>...</td>\n",
       "      <td>...</td>\n",
       "      <td>...</td>\n",
       "      <td>...</td>\n",
       "      <td>...</td>\n",
       "      <td>...</td>\n",
       "    </tr>\n",
       "    <tr>\n",
       "      <td>4111</td>\n",
       "      <td>Peugeot</td>\n",
       "      <td>Essence</td>\n",
       "      <td>-0.592453</td>\n",
       "      <td>0.095425</td>\n",
       "      <td>0.123548</td>\n",
       "      <td>Mécanique</td>\n",
       "      <td>19900</td>\n",
       "    </tr>\n",
       "    <tr>\n",
       "      <td>4112</td>\n",
       "      <td>Peugeot</td>\n",
       "      <td>Essence</td>\n",
       "      <td>0.400572</td>\n",
       "      <td>-0.161078</td>\n",
       "      <td>0.63721</td>\n",
       "      <td>Mécanique</td>\n",
       "      <td>18500</td>\n",
       "    </tr>\n",
       "    <tr>\n",
       "      <td>4113</td>\n",
       "      <td>Volkswagen</td>\n",
       "      <td>Essence</td>\n",
       "      <td>1.228092</td>\n",
       "      <td>0.452697</td>\n",
       "      <td>-0.390113</td>\n",
       "      <td>Mécanique</td>\n",
       "      <td>14000</td>\n",
       "    </tr>\n",
       "    <tr>\n",
       "      <td>4114</td>\n",
       "      <td>Volkswagen</td>\n",
       "      <td>Essence</td>\n",
       "      <td>1.228092</td>\n",
       "      <td>0.452697</td>\n",
       "      <td>-0.390113</td>\n",
       "      <td>Mécanique</td>\n",
       "      <td>140000</td>\n",
       "    </tr>\n",
       "    <tr>\n",
       "      <td>4115</td>\n",
       "      <td>Citroen</td>\n",
       "      <td>Essence</td>\n",
       "      <td>-1.088966</td>\n",
       "      <td>-0.921426</td>\n",
       "      <td>-0.390113</td>\n",
       "      <td>Mécanique</td>\n",
       "      <td>40500</td>\n",
       "    </tr>\n",
       "  </tbody>\n",
       "</table>\n",
       "<p>4116 rows × 7 columns</p>\n",
       "</div>"
      ],
      "text/plain": [
       "          marque carburant  date_circulation  kilometrage     nb_ch  \\\n",
       "0            Bmw   Essence         -0.757958    -0.435902   2.17819   \n",
       "1         Nissan   Essence         -1.254470    -1.177929   0.63721   \n",
       "2        Citroen    Diesel         -0.095941     0.480180  0.123548   \n",
       "3           Ford   Essence          0.235067     0.571788   0.63721   \n",
       "4        Peugeot   Essence         -0.592453    -0.344294  0.123548   \n",
       "...          ...       ...               ...          ...       ...   \n",
       "4111     Peugeot   Essence         -0.592453     0.095425  0.123548   \n",
       "4112     Peugeot   Essence          0.400572    -0.161078   0.63721   \n",
       "4113  Volkswagen   Essence          1.228092     0.452697 -0.390113   \n",
       "4114  Volkswagen   Essence          1.228092     0.452697 -0.390113   \n",
       "4115     Citroen   Essence         -1.088966    -0.921426 -0.390113   \n",
       "\n",
       "     boite_vitesse  priceString  \n",
       "0      Automatique       117500  \n",
       "1      Automatique       110000  \n",
       "2        Mécanique       700000  \n",
       "3        Mécanique        23000  \n",
       "4        Mécanique        48500  \n",
       "...            ...          ...  \n",
       "4111     Mécanique        19900  \n",
       "4112     Mécanique        18500  \n",
       "4113     Mécanique        14000  \n",
       "4114     Mécanique       140000  \n",
       "4115     Mécanique        40500  \n",
       "\n",
       "[4116 rows x 7 columns]"
      ]
     },
     "execution_count": 27,
     "metadata": {},
     "output_type": "execute_result"
    }
   ],
   "source": [
    "df"
   ]
  },
  {
   "cell_type": "markdown",
   "metadata": {},
   "source": [
    "# **Les variables discrétes**"
   ]
  },
  {
   "cell_type": "code",
   "execution_count": 29,
   "metadata": {},
   "outputs": [
    {
     "data": {
      "text/plain": [
       "<matplotlib.axes._subplots.AxesSubplot at 0x24961c85a58>"
      ]
     },
     "execution_count": 29,
     "metadata": {},
     "output_type": "execute_result"
    },
    {
     "data": {
      "image/png": "[encoded data removed]",
      "text/plain": [
       "<Figure size 432x288 with 1 Axes>"
      ]
     },
     "metadata": {},
     "output_type": "display_data"
    },
    {
     "data": {
      "image/png": "[encoded data removed]",
      "text/plain": [
       "<Figure size 432x288 with 1 Axes>"
      ]
     },
     "metadata": {},
     "output_type": "display_data"
    },
    {
     "data": {
      "image/png": "[encoded data removed]",
      "text/plain": [
       "<Figure size 432x288 with 1 Axes>"
      ]
     },
     "metadata": {},
     "output_type": "display_data"
    }
   ],
   "source": [
    "plt.figure()\n",
    "df['marque'].value_counts().plot.pie()\n",
    "plt.figure()\n",
    "df['boite_vitesse'].value_counts().plot.pie()\n",
    "plt.figure()\n",
    "df['carburant'].value_counts().plot.pie()"
   ]
  },
  {
   "cell_type": "markdown",
   "metadata": {},
   "source": [
    "# **Feauture engineering**"
   ]
  },
  {
   "cell_type": "markdown",
   "metadata": {},
   "source": [
    "### **Remplissage par median**"
   ]
  },
  {
   "cell_type": "code",
   "execution_count": 30,
   "metadata": {},
   "outputs": [],
   "source": [
    "df_median = df.copy()"
   ]
  },
  {
   "cell_type": "code",
   "execution_count": 31,
   "metadata": {},
   "outputs": [],
   "source": [
    "df_median = df_median.drop('marque', axis=1)\n",
    "df_median = df_median.drop('carburant', axis=1)\n",
    "df_median = df_median.drop('boite_vitesse', axis=1)"
   ]
  },
  {
   "cell_type": "code",
   "execution_count": 32,
   "metadata": {},
   "outputs": [],
   "source": [
    "columns=['date_circulation', 'kilometrage', 'nb_ch', 'priceString']"
   ]
  },
  {
   "cell_type": "code",
   "execution_count": 33,
   "metadata": {},
   "outputs": [
    {
     "name": "stderr",
     "output_type": "stream",
     "text": [
      "D:\\Users\\21620\\Anaconda3\\lib\\site-packages\\sklearn\\utils\\deprecation.py:66: DeprecationWarning: Class Imputer is deprecated; Imputer was deprecated in version 0.20 and will be removed in 0.22. Import impute.SimpleImputer from sklearn instead.\n",
      "  warnings.warn(msg, category=DeprecationWarning)\n"
     ]
    }
   ],
   "source": [
    "imputer = Imputer(missing_values = 0, strategy = 'median', axis = 0)\n",
    "b= imputer.fit(df_median)\n",
    "b= imputer.transform(df_median) #remplissage par la median"
   ]
  },
  {
   "cell_type": "code",
   "execution_count": 34,
   "metadata": {},
   "outputs": [],
   "source": [
    "df_median=pd.DataFrame(b,columns=columns)"
   ]
  },
  {
   "cell_type": "markdown",
   "metadata": {},
   "source": [
    "# **Feature engineering**"
   ]
  },
  {
   "cell_type": "markdown",
   "metadata": {},
   "source": [
    "### Encodage de la variable marque"
   ]
  },
  {
   "cell_type": "code",
   "execution_count": 35,
   "metadata": {},
   "outputs": [
    {
     "data": {
      "text/plain": [
       "array([[0., 1., 0., ..., 0., 0., 0.],\n",
       "       [0., 0., 0., ..., 0., 0., 0.],\n",
       "       [0., 0., 1., ..., 0., 0., 0.],\n",
       "       ...,\n",
       "       [0., 0., 0., ..., 0., 0., 1.],\n",
       "       [0., 0., 0., ..., 0., 0., 1.],\n",
       "       [0., 0., 1., ..., 0., 0., 0.]])"
      ]
     },
     "execution_count": 35,
     "metadata": {},
     "output_type": "execute_result"
    }
   ],
   "source": [
    "from sklearn.preprocessing import OneHotEncoder\n",
    "marque=df[\"marque\"]\n",
    "encoder = OneHotEncoder()\n",
    "tr_marque=encoder.fit_transform(marque.values.reshape(-1,1))\n",
    "tr_marque.toarray()"
   ]
  },
  {
   "cell_type": "code",
   "execution_count": 36,
   "metadata": {},
   "outputs": [
    {
     "data": {
      "text/plain": [
       "[array(['Audi', 'Bmw', 'Citroen', 'Fiat', 'Ford', 'Hyundai', 'Isuzu',\n",
       "        'Iveco', 'Kia', 'Mazda', 'Mercedes', 'Mini', 'Mitsubishi',\n",
       "        'Nissan', 'Opel', 'Peugeot', 'Renault', 'Seat', 'Toyota',\n",
       "        'Volkswagen'], dtype=object)]"
      ]
     },
     "execution_count": 36,
     "metadata": {},
     "output_type": "execute_result"
    }
   ],
   "source": [
    "encoder.categories_"
   ]
  },
  {
   "cell_type": "code",
   "execution_count": 37,
   "metadata": {},
   "outputs": [],
   "source": [
    "marque_df=pd.concat([pd.DataFrame(tr_marque.toarray()\n",
    ",marque.index,columns=['Audi', 'Bmw', 'Citroen', 'Fiat', 'Ford', 'Hyundai', 'Isuzu',\n",
    "        'Iveco', 'Kia', 'Mazda', 'Mercedes', 'Mini', 'Mitsubishi',\n",
    "        'Nissan', 'Opel', 'Peugeot', 'Renault', 'Seat', 'Toyota',\n",
    "        'Volkswagen']),marque],axis=1)"
   ]
  },
  {
   "cell_type": "markdown",
   "metadata": {},
   "source": [
    "### Encodage de la variable carburant"
   ]
  },
  {
   "cell_type": "code",
   "execution_count": 38,
   "metadata": {},
   "outputs": [
    {
     "data": {
      "text/plain": [
       "array([[0., 1.],\n",
       "       [0., 1.],\n",
       "       [1., 0.],\n",
       "       ...,\n",
       "       [0., 1.],\n",
       "       [0., 1.],\n",
       "       [0., 1.]])"
      ]
     },
     "execution_count": 38,
     "metadata": {},
     "output_type": "execute_result"
    }
   ],
   "source": [
    "carburant=df[\"carburant\"]\n",
    "tr_carburant=encoder.fit_transform(carburant.values.reshape(-1,1))\n",
    "tr_carburant.toarray()"
   ]
  },
  {
   "cell_type": "code",
   "execution_count": 39,
   "metadata": {},
   "outputs": [
    {
     "data": {
      "text/plain": [
       "[array(['Diesel', 'Essence'], dtype=object)]"
      ]
     },
     "execution_count": 39,
     "metadata": {},
     "output_type": "execute_result"
    }
   ],
   "source": [
    "encoder.categories_"
   ]
  },
  {
   "cell_type": "code",
   "execution_count": 40,
   "metadata": {},
   "outputs": [],
   "source": [
    "carburant_df=pd.concat([pd.DataFrame(tr_carburant.toarray()\n",
    ",carburant.index,columns=['Diesel', 'Essence']),carburant],axis=1)"
   ]
  },
  {
   "cell_type": "markdown",
   "metadata": {},
   "source": [
    "### Encodage de la variable boite_vitesse"
   ]
  },
  {
   "cell_type": "code",
   "execution_count": 41,
   "metadata": {},
   "outputs": [
    {
     "data": {
      "text/plain": [
       "array([[1., 0.],\n",
       "       [1., 0.],\n",
       "       [0., 1.],\n",
       "       ...,\n",
       "       [0., 1.],\n",
       "       [0., 1.],\n",
       "       [0., 1.]])"
      ]
     },
     "execution_count": 41,
     "metadata": {},
     "output_type": "execute_result"
    }
   ],
   "source": [
    "vitesse=df[\"boite_vitesse\"]\n",
    "tr_vitesse=encoder.fit_transform(vitesse.values.reshape(-1,1))\n",
    "tr_vitesse.toarray()"
   ]
  },
  {
   "cell_type": "code",
   "execution_count": 42,
   "metadata": {},
   "outputs": [
    {
     "data": {
      "text/plain": [
       "[array(['Automatique', 'Mécanique'], dtype=object)]"
      ]
     },
     "execution_count": 42,
     "metadata": {},
     "output_type": "execute_result"
    }
   ],
   "source": [
    "encoder.categories_"
   ]
  },
  {
   "cell_type": "code",
   "execution_count": 43,
   "metadata": {},
   "outputs": [],
   "source": [
    "vitesse_df=pd.concat([pd.DataFrame(tr_vitesse.toarray()\n",
    ",vitesse.index,columns=['Automatique', 'Mécanique']),vitesse],axis=1)"
   ]
  },
  {
   "cell_type": "markdown",
   "metadata": {},
   "source": [
    "## Concaténation des données"
   ]
  },
  {
   "cell_type": "code",
   "execution_count": 44,
   "metadata": {},
   "outputs": [],
   "source": [
    "DataFrame=pd.concat([df_median,marque_df.drop(columns=[\"marque\"]),carburant_df.drop(columns=[\"carburant\"]),vitesse_df.drop(columns=[\"boite_vitesse\"])],axis=1)"
   ]
  },
  {
   "cell_type": "code",
   "execution_count": 45,
   "metadata": {},
   "outputs": [
    {
     "data": {
      "text/html": [
       "<div>\n",
       "<style scoped>\n",
       "    .dataframe tbody tr th:only-of-type {\n",
       "        vertical-align: middle;\n",
       "    }\n",
       "\n",
       "    .dataframe tbody tr th {\n",
       "        vertical-align: top;\n",
       "    }\n",
       "\n",
       "    .dataframe thead th {\n",
       "        text-align: right;\n",
       "    }\n",
       "</style>\n",
       "<table border=\"1\" class=\"dataframe\">\n",
       "  <thead>\n",
       "    <tr style=\"text-align: right;\">\n",
       "      <th></th>\n",
       "      <th>date_circulation</th>\n",
       "      <th>kilometrage</th>\n",
       "      <th>nb_ch</th>\n",
       "      <th>priceString</th>\n",
       "      <th>Audi</th>\n",
       "      <th>Bmw</th>\n",
       "      <th>Citroen</th>\n",
       "      <th>Fiat</th>\n",
       "      <th>Ford</th>\n",
       "      <th>Hyundai</th>\n",
       "      <th>...</th>\n",
       "      <th>Opel</th>\n",
       "      <th>Peugeot</th>\n",
       "      <th>Renault</th>\n",
       "      <th>Seat</th>\n",
       "      <th>Toyota</th>\n",
       "      <th>Volkswagen</th>\n",
       "      <th>Diesel</th>\n",
       "      <th>Essence</th>\n",
       "      <th>Automatique</th>\n",
       "      <th>Mécanique</th>\n",
       "    </tr>\n",
       "  </thead>\n",
       "  <tbody>\n",
       "    <tr>\n",
       "      <td>0</td>\n",
       "      <td>-0.757958</td>\n",
       "      <td>-0.435902</td>\n",
       "      <td>2.178194</td>\n",
       "      <td>117500.0</td>\n",
       "      <td>0.0</td>\n",
       "      <td>1.0</td>\n",
       "      <td>0.0</td>\n",
       "      <td>0.0</td>\n",
       "      <td>0.0</td>\n",
       "      <td>0.0</td>\n",
       "      <td>...</td>\n",
       "      <td>0.0</td>\n",
       "      <td>0.0</td>\n",
       "      <td>0.0</td>\n",
       "      <td>0.0</td>\n",
       "      <td>0.0</td>\n",
       "      <td>0.0</td>\n",
       "      <td>0.0</td>\n",
       "      <td>1.0</td>\n",
       "      <td>1.0</td>\n",
       "      <td>0.0</td>\n",
       "    </tr>\n",
       "    <tr>\n",
       "      <td>1</td>\n",
       "      <td>-1.254470</td>\n",
       "      <td>-1.177929</td>\n",
       "      <td>0.637210</td>\n",
       "      <td>110000.0</td>\n",
       "      <td>0.0</td>\n",
       "      <td>0.0</td>\n",
       "      <td>0.0</td>\n",
       "      <td>0.0</td>\n",
       "      <td>0.0</td>\n",
       "      <td>0.0</td>\n",
       "      <td>...</td>\n",
       "      <td>0.0</td>\n",
       "      <td>0.0</td>\n",
       "      <td>0.0</td>\n",
       "      <td>0.0</td>\n",
       "      <td>0.0</td>\n",
       "      <td>0.0</td>\n",
       "      <td>0.0</td>\n",
       "      <td>1.0</td>\n",
       "      <td>1.0</td>\n",
       "      <td>0.0</td>\n",
       "    </tr>\n",
       "    <tr>\n",
       "      <td>2</td>\n",
       "      <td>-0.095941</td>\n",
       "      <td>0.480180</td>\n",
       "      <td>0.123548</td>\n",
       "      <td>700000.0</td>\n",
       "      <td>0.0</td>\n",
       "      <td>0.0</td>\n",
       "      <td>1.0</td>\n",
       "      <td>0.0</td>\n",
       "      <td>0.0</td>\n",
       "      <td>0.0</td>\n",
       "      <td>...</td>\n",
       "      <td>0.0</td>\n",
       "      <td>0.0</td>\n",
       "      <td>0.0</td>\n",
       "      <td>0.0</td>\n",
       "      <td>0.0</td>\n",
       "      <td>0.0</td>\n",
       "      <td>1.0</td>\n",
       "      <td>0.0</td>\n",
       "      <td>0.0</td>\n",
       "      <td>1.0</td>\n",
       "    </tr>\n",
       "    <tr>\n",
       "      <td>3</td>\n",
       "      <td>0.235067</td>\n",
       "      <td>0.571788</td>\n",
       "      <td>0.637210</td>\n",
       "      <td>23000.0</td>\n",
       "      <td>0.0</td>\n",
       "      <td>0.0</td>\n",
       "      <td>0.0</td>\n",
       "      <td>0.0</td>\n",
       "      <td>1.0</td>\n",
       "      <td>0.0</td>\n",
       "      <td>...</td>\n",
       "      <td>0.0</td>\n",
       "      <td>0.0</td>\n",
       "      <td>0.0</td>\n",
       "      <td>0.0</td>\n",
       "      <td>0.0</td>\n",
       "      <td>0.0</td>\n",
       "      <td>0.0</td>\n",
       "      <td>1.0</td>\n",
       "      <td>0.0</td>\n",
       "      <td>1.0</td>\n",
       "    </tr>\n",
       "    <tr>\n",
       "      <td>4</td>\n",
       "      <td>-0.592453</td>\n",
       "      <td>-0.344294</td>\n",
       "      <td>0.123548</td>\n",
       "      <td>48500.0</td>\n",
       "      <td>0.0</td>\n",
       "      <td>0.0</td>\n",
       "      <td>0.0</td>\n",
       "      <td>0.0</td>\n",
       "      <td>0.0</td>\n",
       "      <td>0.0</td>\n",
       "      <td>...</td>\n",
       "      <td>0.0</td>\n",
       "      <td>1.0</td>\n",
       "      <td>0.0</td>\n",
       "      <td>0.0</td>\n",
       "      <td>0.0</td>\n",
       "      <td>0.0</td>\n",
       "      <td>0.0</td>\n",
       "      <td>1.0</td>\n",
       "      <td>0.0</td>\n",
       "      <td>1.0</td>\n",
       "    </tr>\n",
       "    <tr>\n",
       "      <td>...</td>\n",
       "      <td>...</td>\n",
       "      <td>...</td>\n",
       "      <td>...</td>\n",
       "      <td>...</td>\n",
       "      <td>...</td>\n",
       "      <td>...</td>\n",
       "      <td>...</td>\n",
       "      <td>...</td>\n",
       "      <td>...</td>\n",
       "      <td>...</td>\n",
       "      <td>...</td>\n",
       "      <td>...</td>\n",
       "      <td>...</td>\n",
       "      <td>...</td>\n",
       "      <td>...</td>\n",
       "      <td>...</td>\n",
       "      <td>...</td>\n",
       "      <td>...</td>\n",
       "      <td>...</td>\n",
       "      <td>...</td>\n",
       "      <td>...</td>\n",
       "    </tr>\n",
       "    <tr>\n",
       "      <td>4111</td>\n",
       "      <td>-0.592453</td>\n",
       "      <td>0.095425</td>\n",
       "      <td>0.123548</td>\n",
       "      <td>19900.0</td>\n",
       "      <td>0.0</td>\n",
       "      <td>0.0</td>\n",
       "      <td>0.0</td>\n",
       "      <td>0.0</td>\n",
       "      <td>0.0</td>\n",
       "      <td>0.0</td>\n",
       "      <td>...</td>\n",
       "      <td>0.0</td>\n",
       "      <td>1.0</td>\n",
       "      <td>0.0</td>\n",
       "      <td>0.0</td>\n",
       "      <td>0.0</td>\n",
       "      <td>0.0</td>\n",
       "      <td>0.0</td>\n",
       "      <td>1.0</td>\n",
       "      <td>0.0</td>\n",
       "      <td>1.0</td>\n",
       "    </tr>\n",
       "    <tr>\n",
       "      <td>4112</td>\n",
       "      <td>0.400572</td>\n",
       "      <td>-0.161078</td>\n",
       "      <td>0.637210</td>\n",
       "      <td>18500.0</td>\n",
       "      <td>0.0</td>\n",
       "      <td>0.0</td>\n",
       "      <td>0.0</td>\n",
       "      <td>0.0</td>\n",
       "      <td>0.0</td>\n",
       "      <td>0.0</td>\n",
       "      <td>...</td>\n",
       "      <td>0.0</td>\n",
       "      <td>1.0</td>\n",
       "      <td>0.0</td>\n",
       "      <td>0.0</td>\n",
       "      <td>0.0</td>\n",
       "      <td>0.0</td>\n",
       "      <td>0.0</td>\n",
       "      <td>1.0</td>\n",
       "      <td>0.0</td>\n",
       "      <td>1.0</td>\n",
       "    </tr>\n",
       "    <tr>\n",
       "      <td>4113</td>\n",
       "      <td>1.228092</td>\n",
       "      <td>0.452697</td>\n",
       "      <td>-0.390113</td>\n",
       "      <td>14000.0</td>\n",
       "      <td>0.0</td>\n",
       "      <td>0.0</td>\n",
       "      <td>0.0</td>\n",
       "      <td>0.0</td>\n",
       "      <td>0.0</td>\n",
       "      <td>0.0</td>\n",
       "      <td>...</td>\n",
       "      <td>0.0</td>\n",
       "      <td>0.0</td>\n",
       "      <td>0.0</td>\n",
       "      <td>0.0</td>\n",
       "      <td>0.0</td>\n",
       "      <td>1.0</td>\n",
       "      <td>0.0</td>\n",
       "      <td>1.0</td>\n",
       "      <td>0.0</td>\n",
       "      <td>1.0</td>\n",
       "    </tr>\n",
       "    <tr>\n",
       "      <td>4114</td>\n",
       "      <td>1.228092</td>\n",
       "      <td>0.452697</td>\n",
       "      <td>-0.390113</td>\n",
       "      <td>140000.0</td>\n",
       "      <td>0.0</td>\n",
       "      <td>0.0</td>\n",
       "      <td>0.0</td>\n",
       "      <td>0.0</td>\n",
       "      <td>0.0</td>\n",
       "      <td>0.0</td>\n",
       "      <td>...</td>\n",
       "      <td>0.0</td>\n",
       "      <td>0.0</td>\n",
       "      <td>0.0</td>\n",
       "      <td>0.0</td>\n",
       "      <td>0.0</td>\n",
       "      <td>1.0</td>\n",
       "      <td>0.0</td>\n",
       "      <td>1.0</td>\n",
       "      <td>0.0</td>\n",
       "      <td>1.0</td>\n",
       "    </tr>\n",
       "    <tr>\n",
       "      <td>4115</td>\n",
       "      <td>-1.088966</td>\n",
       "      <td>-0.921426</td>\n",
       "      <td>-0.390113</td>\n",
       "      <td>40500.0</td>\n",
       "      <td>0.0</td>\n",
       "      <td>0.0</td>\n",
       "      <td>1.0</td>\n",
       "      <td>0.0</td>\n",
       "      <td>0.0</td>\n",
       "      <td>0.0</td>\n",
       "      <td>...</td>\n",
       "      <td>0.0</td>\n",
       "      <td>0.0</td>\n",
       "      <td>0.0</td>\n",
       "      <td>0.0</td>\n",
       "      <td>0.0</td>\n",
       "      <td>0.0</td>\n",
       "      <td>0.0</td>\n",
       "      <td>1.0</td>\n",
       "      <td>0.0</td>\n",
       "      <td>1.0</td>\n",
       "    </tr>\n",
       "  </tbody>\n",
       "</table>\n",
       "<p>4116 rows × 28 columns</p>\n",
       "</div>"
      ],
      "text/plain": [
       "      date_circulation  kilometrage     nb_ch  priceString  Audi  Bmw  \\\n",
       "0            -0.757958    -0.435902  2.178194     117500.0   0.0  1.0   \n",
       "1            -1.254470    -1.177929  0.637210     110000.0   0.0  0.0   \n",
       "2            -0.095941     0.480180  0.123548     700000.0   0.0  0.0   \n",
       "3             0.235067     0.571788  0.637210      23000.0   0.0  0.0   \n",
       "4            -0.592453    -0.344294  0.123548      48500.0   0.0  0.0   \n",
       "...                ...          ...       ...          ...   ...  ...   \n",
       "4111         -0.592453     0.095425  0.123548      19900.0   0.0  0.0   \n",
       "4112          0.400572    -0.161078  0.637210      18500.0   0.0  0.0   \n",
       "4113          1.228092     0.452697 -0.390113      14000.0   0.0  0.0   \n",
       "4114          1.228092     0.452697 -0.390113     140000.0   0.0  0.0   \n",
       "4115         -1.088966    -0.921426 -0.390113      40500.0   0.0  0.0   \n",
       "\n",
       "      Citroen  Fiat  Ford  Hyundai  ...  Opel  Peugeot  Renault  Seat  Toyota  \\\n",
       "0         0.0   0.0   0.0      0.0  ...   0.0      0.0      0.0   0.0     0.0   \n",
       "1         0.0   0.0   0.0      0.0  ...   0.0      0.0      0.0   0.0     0.0   \n",
       "2         1.0   0.0   0.0      0.0  ...   0.0      0.0      0.0   0.0     0.0   \n",
       "3         0.0   0.0   1.0      0.0  ...   0.0      0.0      0.0   0.0     0.0   \n",
       "4         0.0   0.0   0.0      0.0  ...   0.0      1.0      0.0   0.0     0.0   \n",
       "...       ...   ...   ...      ...  ...   ...      ...      ...   ...     ...   \n",
       "4111      0.0   0.0   0.0      0.0  ...   0.0      1.0      0.0   0.0     0.0   \n",
       "4112      0.0   0.0   0.0      0.0  ...   0.0      1.0      0.0   0.0     0.0   \n",
       "4113      0.0   0.0   0.0      0.0  ...   0.0      0.0      0.0   0.0     0.0   \n",
       "4114      0.0   0.0   0.0      0.0  ...   0.0      0.0      0.0   0.0     0.0   \n",
       "4115      1.0   0.0   0.0      0.0  ...   0.0      0.0      0.0   0.0     0.0   \n",
       "\n",
       "      Volkswagen  Diesel  Essence  Automatique  Mécanique  \n",
       "0            0.0     0.0      1.0          1.0        0.0  \n",
       "1            0.0     0.0      1.0          1.0        0.0  \n",
       "2            0.0     1.0      0.0          0.0        1.0  \n",
       "3            0.0     0.0      1.0          0.0        1.0  \n",
       "4            0.0     0.0      1.0          0.0        1.0  \n",
       "...          ...     ...      ...          ...        ...  \n",
       "4111         0.0     0.0      1.0          0.0        1.0  \n",
       "4112         0.0     0.0      1.0          0.0        1.0  \n",
       "4113         1.0     0.0      1.0          0.0        1.0  \n",
       "4114         1.0     0.0      1.0          0.0        1.0  \n",
       "4115         0.0     0.0      1.0          0.0        1.0  \n",
       "\n",
       "[4116 rows x 28 columns]"
      ]
     },
     "execution_count": 45,
     "metadata": {},
     "output_type": "execute_result"
    }
   ],
   "source": [
    "DataFrame"
   ]
  },
  {
   "cell_type": "markdown",
   "metadata": {},
   "source": [
    "### **Relation Variables / Variables**"
   ]
  },
  {
   "cell_type": "code",
   "execution_count": 46,
   "metadata": {},
   "outputs": [
    {
     "data": {
      "text/plain": [
       "<seaborn.axisgrid.PairGrid at 0x1faf3dcc668>"
      ]
     },
     "execution_count": 46,
     "metadata": {},
     "output_type": "execute_result"
    },
    {
     "data": {
      "image/png": "[encoded data removed]",
      "text/plain": [
       "<Figure size 720x720 with 20 Axes>"
      ]
     },
     "metadata": {
      "needs_background": "light"
     },
     "output_type": "display_data"
    }
   ],
   "source": [
    "sns.pairplot(df_median)"
   ]
  },
  {
   "cell_type": "code",
   "execution_count": 47,
   "metadata": {},
   "outputs": [
    {
     "data": {
      "text/plain": [
       "<matplotlib.axes._subplots.AxesSubplot at 0x1faf5934b38>"
      ]
     },
     "execution_count": 47,
     "metadata": {},
     "output_type": "execute_result"
    },
    {
     "data": {
      "image/png": "[encoded data removed]",
      "text/plain": [
       "<Figure size 432x288 with 2 Axes>"
      ]
     },
     "metadata": {
      "needs_background": "light"
     },
     "output_type": "display_data"
    }
   ],
   "source": [
    "sns.heatmap(df.corr()) "
   ]
  },
  {
   "cell_type": "code",
   "execution_count": 48,
   "metadata": {},
   "outputs": [
    {
     "data": {
      "text/plain": [
       "<seaborn.axisgrid.FacetGrid at 0x1faf5889c88>"
      ]
     },
     "execution_count": 48,
     "metadata": {},
     "output_type": "execute_result"
    },
    {
     "data": {
      "image/png": "[encoded data removed]",
      "text/plain": [
       "<Figure size 360x360 with 1 Axes>"
      ]
     },
     "metadata": {
      "needs_background": "light"
     },
     "output_type": "display_data"
    }
   ],
   "source": [
    "sns.lmplot(x='kilometrage',y='priceString',data=df)"
   ]
  },
  {
   "cell_type": "code",
   "execution_count": 49,
   "metadata": {},
   "outputs": [
    {
     "data": {
      "text/plain": [
       "marque               object\n",
       "carburant            object\n",
       "date_circulation    float64\n",
       "kilometrage         float64\n",
       "nb_ch                object\n",
       "boite_vitesse        object\n",
       "priceString           int64\n",
       "dtype: object"
      ]
     },
     "execution_count": 49,
     "metadata": {},
     "output_type": "execute_result"
    }
   ],
   "source": [
    "df.dtypes"
   ]
  },
  {
   "cell_type": "code",
   "execution_count": 50,
   "metadata": {},
   "outputs": [
    {
     "data": {
      "text/plain": [
       "0       0\n",
       "1      -1\n",
       "2       0\n",
       "3       0\n",
       "4       0\n",
       "       ..\n",
       "4111    0\n",
       "4112    0\n",
       "4113    1\n",
       "4114    1\n",
       "4115   -1\n",
       "Name: date_circulation, Length: 4116, dtype: int64"
      ]
     },
     "execution_count": 50,
     "metadata": {},
     "output_type": "execute_result"
    }
   ],
   "source": [
    "df[\"date_circulation\"].astype(\"int64\")"
   ]
  },
  {
   "cell_type": "code",
   "execution_count": 51,
   "metadata": {},
   "outputs": [],
   "source": [
    "df[\"kilometrage\"]=df[\"kilometrage\"].astype(\"int\")"
   ]
  },
  {
   "cell_type": "code",
   "execution_count": 52,
   "metadata": {},
   "outputs": [
    {
     "data": {
      "text/plain": [
       "marque               object\n",
       "carburant            object\n",
       "date_circulation    float64\n",
       "kilometrage           int32\n",
       "nb_ch                object\n",
       "boite_vitesse        object\n",
       "priceString           int64\n",
       "dtype: object"
      ]
     },
     "execution_count": 52,
     "metadata": {},
     "output_type": "execute_result"
    }
   ],
   "source": [
    "df.dtypes"
   ]
  },
  {
   "cell_type": "code",
   "execution_count": 53,
   "metadata": {},
   "outputs": [
    {
     "data": {
      "text/html": [
       "<div>\n",
       "<style scoped>\n",
       "    .dataframe tbody tr th:only-of-type {\n",
       "        vertical-align: middle;\n",
       "    }\n",
       "\n",
       "    .dataframe tbody tr th {\n",
       "        vertical-align: top;\n",
       "    }\n",
       "\n",
       "    .dataframe thead th {\n",
       "        text-align: right;\n",
       "    }\n",
       "</style>\n",
       "<table border=\"1\" class=\"dataframe\">\n",
       "  <thead>\n",
       "    <tr style=\"text-align: right;\">\n",
       "      <th></th>\n",
       "      <th>date_circulation</th>\n",
       "      <th>kilometrage</th>\n",
       "      <th>priceString</th>\n",
       "    </tr>\n",
       "  </thead>\n",
       "  <tbody>\n",
       "    <tr>\n",
       "      <td>date_circulation</td>\n",
       "      <td>1.000000</td>\n",
       "      <td>0.179849</td>\n",
       "      <td>-0.249877</td>\n",
       "    </tr>\n",
       "    <tr>\n",
       "      <td>kilometrage</td>\n",
       "      <td>0.179849</td>\n",
       "      <td>1.000000</td>\n",
       "      <td>-0.128722</td>\n",
       "    </tr>\n",
       "    <tr>\n",
       "      <td>priceString</td>\n",
       "      <td>-0.249877</td>\n",
       "      <td>-0.128722</td>\n",
       "      <td>1.000000</td>\n",
       "    </tr>\n",
       "  </tbody>\n",
       "</table>\n",
       "</div>"
      ],
      "text/plain": [
       "                  date_circulation  kilometrage  priceString\n",
       "date_circulation          1.000000     0.179849    -0.249877\n",
       "kilometrage               0.179849     1.000000    -0.128722\n",
       "priceString              -0.249877    -0.128722     1.000000"
      ]
     },
     "execution_count": 53,
     "metadata": {},
     "output_type": "execute_result"
    }
   ],
   "source": [
    "df.corr()"
   ]
  },
  {
   "cell_type": "code",
   "execution_count": 54,
   "metadata": {},
   "outputs": [
    {
     "data": {
      "text/plain": [
       "<seaborn.axisgrid.FacetGrid at 0x1faf5ced860>"
      ]
     },
     "execution_count": 54,
     "metadata": {},
     "output_type": "execute_result"
    },
    {
     "data": {
      "image/png": "[encoded data removed]",
      "text/plain": [
       "<Figure size 360x360 with 1 Axes>"
      ]
     },
     "metadata": {
      "needs_background": "light"
     },
     "output_type": "display_data"
    }
   ],
   "source": [
    "sns.lmplot(x='date_circulation',y='priceString',data=df_median)"
   ]
  },
  {
   "cell_type": "code",
   "execution_count": 55,
   "metadata": {},
   "outputs": [
    {
     "data": {
      "text/plain": [
       "<seaborn.axisgrid.FacetGrid at 0x1faf5d31d30>"
      ]
     },
     "execution_count": 55,
     "metadata": {},
     "output_type": "execute_result"
    },
    {
     "data": {
      "image/png": "[encoded data removed]",
      "text/plain": [
       "<Figure size 360x360 with 1 Axes>"
      ]
     },
     "metadata": {
      "needs_background": "light"
     },
     "output_type": "display_data"
    }
   ],
   "source": [
    "sns.lmplot(x='kilometrage',y='priceString',data=df_median)"
   ]
  },
  {
   "cell_type": "code",
   "execution_count": 56,
   "metadata": {},
   "outputs": [
    {
     "data": {
      "text/html": [
       "<div>\n",
       "<style scoped>\n",
       "    .dataframe tbody tr th:only-of-type {\n",
       "        vertical-align: middle;\n",
       "    }\n",
       "\n",
       "    .dataframe tbody tr th {\n",
       "        vertical-align: top;\n",
       "    }\n",
       "\n",
       "    .dataframe thead th {\n",
       "        text-align: right;\n",
       "    }\n",
       "</style>\n",
       "<table border=\"1\" class=\"dataframe\">\n",
       "  <thead>\n",
       "    <tr style=\"text-align: right;\">\n",
       "      <th></th>\n",
       "      <th>date_circulation</th>\n",
       "      <th>kilometrage</th>\n",
       "      <th>nb_ch</th>\n",
       "      <th>priceString</th>\n",
       "      <th>Audi</th>\n",
       "      <th>Bmw</th>\n",
       "      <th>Citroen</th>\n",
       "      <th>Fiat</th>\n",
       "      <th>Ford</th>\n",
       "      <th>Hyundai</th>\n",
       "      <th>...</th>\n",
       "      <th>Opel</th>\n",
       "      <th>Peugeot</th>\n",
       "      <th>Renault</th>\n",
       "      <th>Seat</th>\n",
       "      <th>Toyota</th>\n",
       "      <th>Volkswagen</th>\n",
       "      <th>Diesel</th>\n",
       "      <th>Essence</th>\n",
       "      <th>Automatique</th>\n",
       "      <th>Mécanique</th>\n",
       "    </tr>\n",
       "  </thead>\n",
       "  <tbody>\n",
       "    <tr>\n",
       "      <td>0</td>\n",
       "      <td>-0.757958</td>\n",
       "      <td>-0.435902</td>\n",
       "      <td>2.178194</td>\n",
       "      <td>117500.0</td>\n",
       "      <td>0.0</td>\n",
       "      <td>1.0</td>\n",
       "      <td>0.0</td>\n",
       "      <td>0.0</td>\n",
       "      <td>0.0</td>\n",
       "      <td>0.0</td>\n",
       "      <td>...</td>\n",
       "      <td>0.0</td>\n",
       "      <td>0.0</td>\n",
       "      <td>0.0</td>\n",
       "      <td>0.0</td>\n",
       "      <td>0.0</td>\n",
       "      <td>0.0</td>\n",
       "      <td>0.0</td>\n",
       "      <td>1.0</td>\n",
       "      <td>1.0</td>\n",
       "      <td>0.0</td>\n",
       "    </tr>\n",
       "    <tr>\n",
       "      <td>1</td>\n",
       "      <td>-1.254470</td>\n",
       "      <td>-1.177929</td>\n",
       "      <td>0.637210</td>\n",
       "      <td>110000.0</td>\n",
       "      <td>0.0</td>\n",
       "      <td>0.0</td>\n",
       "      <td>0.0</td>\n",
       "      <td>0.0</td>\n",
       "      <td>0.0</td>\n",
       "      <td>0.0</td>\n",
       "      <td>...</td>\n",
       "      <td>0.0</td>\n",
       "      <td>0.0</td>\n",
       "      <td>0.0</td>\n",
       "      <td>0.0</td>\n",
       "      <td>0.0</td>\n",
       "      <td>0.0</td>\n",
       "      <td>0.0</td>\n",
       "      <td>1.0</td>\n",
       "      <td>1.0</td>\n",
       "      <td>0.0</td>\n",
       "    </tr>\n",
       "    <tr>\n",
       "      <td>2</td>\n",
       "      <td>-0.095941</td>\n",
       "      <td>0.480180</td>\n",
       "      <td>0.123548</td>\n",
       "      <td>700000.0</td>\n",
       "      <td>0.0</td>\n",
       "      <td>0.0</td>\n",
       "      <td>1.0</td>\n",
       "      <td>0.0</td>\n",
       "      <td>0.0</td>\n",
       "      <td>0.0</td>\n",
       "      <td>...</td>\n",
       "      <td>0.0</td>\n",
       "      <td>0.0</td>\n",
       "      <td>0.0</td>\n",
       "      <td>0.0</td>\n",
       "      <td>0.0</td>\n",
       "      <td>0.0</td>\n",
       "      <td>1.0</td>\n",
       "      <td>0.0</td>\n",
       "      <td>0.0</td>\n",
       "      <td>1.0</td>\n",
       "    </tr>\n",
       "    <tr>\n",
       "      <td>3</td>\n",
       "      <td>0.235067</td>\n",
       "      <td>0.571788</td>\n",
       "      <td>0.637210</td>\n",
       "      <td>23000.0</td>\n",
       "      <td>0.0</td>\n",
       "      <td>0.0</td>\n",
       "      <td>0.0</td>\n",
       "      <td>0.0</td>\n",
       "      <td>1.0</td>\n",
       "      <td>0.0</td>\n",
       "      <td>...</td>\n",
       "      <td>0.0</td>\n",
       "      <td>0.0</td>\n",
       "      <td>0.0</td>\n",
       "      <td>0.0</td>\n",
       "      <td>0.0</td>\n",
       "      <td>0.0</td>\n",
       "      <td>0.0</td>\n",
       "      <td>1.0</td>\n",
       "      <td>0.0</td>\n",
       "      <td>1.0</td>\n",
       "    </tr>\n",
       "    <tr>\n",
       "      <td>4</td>\n",
       "      <td>-0.592453</td>\n",
       "      <td>-0.344294</td>\n",
       "      <td>0.123548</td>\n",
       "      <td>48500.0</td>\n",
       "      <td>0.0</td>\n",
       "      <td>0.0</td>\n",
       "      <td>0.0</td>\n",
       "      <td>0.0</td>\n",
       "      <td>0.0</td>\n",
       "      <td>0.0</td>\n",
       "      <td>...</td>\n",
       "      <td>0.0</td>\n",
       "      <td>1.0</td>\n",
       "      <td>0.0</td>\n",
       "      <td>0.0</td>\n",
       "      <td>0.0</td>\n",
       "      <td>0.0</td>\n",
       "      <td>0.0</td>\n",
       "      <td>1.0</td>\n",
       "      <td>0.0</td>\n",
       "      <td>1.0</td>\n",
       "    </tr>\n",
       "    <tr>\n",
       "      <td>...</td>\n",
       "      <td>...</td>\n",
       "      <td>...</td>\n",
       "      <td>...</td>\n",
       "      <td>...</td>\n",
       "      <td>...</td>\n",
       "      <td>...</td>\n",
       "      <td>...</td>\n",
       "      <td>...</td>\n",
       "      <td>...</td>\n",
       "      <td>...</td>\n",
       "      <td>...</td>\n",
       "      <td>...</td>\n",
       "      <td>...</td>\n",
       "      <td>...</td>\n",
       "      <td>...</td>\n",
       "      <td>...</td>\n",
       "      <td>...</td>\n",
       "      <td>...</td>\n",
       "      <td>...</td>\n",
       "      <td>...</td>\n",
       "      <td>...</td>\n",
       "    </tr>\n",
       "    <tr>\n",
       "      <td>4111</td>\n",
       "      <td>-0.592453</td>\n",
       "      <td>0.095425</td>\n",
       "      <td>0.123548</td>\n",
       "      <td>19900.0</td>\n",
       "      <td>0.0</td>\n",
       "      <td>0.0</td>\n",
       "      <td>0.0</td>\n",
       "      <td>0.0</td>\n",
       "      <td>0.0</td>\n",
       "      <td>0.0</td>\n",
       "      <td>...</td>\n",
       "      <td>0.0</td>\n",
       "      <td>1.0</td>\n",
       "      <td>0.0</td>\n",
       "      <td>0.0</td>\n",
       "      <td>0.0</td>\n",
       "      <td>0.0</td>\n",
       "      <td>0.0</td>\n",
       "      <td>1.0</td>\n",
       "      <td>0.0</td>\n",
       "      <td>1.0</td>\n",
       "    </tr>\n",
       "    <tr>\n",
       "      <td>4112</td>\n",
       "      <td>0.400572</td>\n",
       "      <td>-0.161078</td>\n",
       "      <td>0.637210</td>\n",
       "      <td>18500.0</td>\n",
       "      <td>0.0</td>\n",
       "      <td>0.0</td>\n",
       "      <td>0.0</td>\n",
       "      <td>0.0</td>\n",
       "      <td>0.0</td>\n",
       "      <td>0.0</td>\n",
       "      <td>...</td>\n",
       "      <td>0.0</td>\n",
       "      <td>1.0</td>\n",
       "      <td>0.0</td>\n",
       "      <td>0.0</td>\n",
       "      <td>0.0</td>\n",
       "      <td>0.0</td>\n",
       "      <td>0.0</td>\n",
       "      <td>1.0</td>\n",
       "      <td>0.0</td>\n",
       "      <td>1.0</td>\n",
       "    </tr>\n",
       "    <tr>\n",
       "      <td>4113</td>\n",
       "      <td>1.228092</td>\n",
       "      <td>0.452697</td>\n",
       "      <td>-0.390113</td>\n",
       "      <td>14000.0</td>\n",
       "      <td>0.0</td>\n",
       "      <td>0.0</td>\n",
       "      <td>0.0</td>\n",
       "      <td>0.0</td>\n",
       "      <td>0.0</td>\n",
       "      <td>0.0</td>\n",
       "      <td>...</td>\n",
       "      <td>0.0</td>\n",
       "      <td>0.0</td>\n",
       "      <td>0.0</td>\n",
       "      <td>0.0</td>\n",
       "      <td>0.0</td>\n",
       "      <td>1.0</td>\n",
       "      <td>0.0</td>\n",
       "      <td>1.0</td>\n",
       "      <td>0.0</td>\n",
       "      <td>1.0</td>\n",
       "    </tr>\n",
       "    <tr>\n",
       "      <td>4114</td>\n",
       "      <td>1.228092</td>\n",
       "      <td>0.452697</td>\n",
       "      <td>-0.390113</td>\n",
       "      <td>140000.0</td>\n",
       "      <td>0.0</td>\n",
       "      <td>0.0</td>\n",
       "      <td>0.0</td>\n",
       "      <td>0.0</td>\n",
       "      <td>0.0</td>\n",
       "      <td>0.0</td>\n",
       "      <td>...</td>\n",
       "      <td>0.0</td>\n",
       "      <td>0.0</td>\n",
       "      <td>0.0</td>\n",
       "      <td>0.0</td>\n",
       "      <td>0.0</td>\n",
       "      <td>1.0</td>\n",
       "      <td>0.0</td>\n",
       "      <td>1.0</td>\n",
       "      <td>0.0</td>\n",
       "      <td>1.0</td>\n",
       "    </tr>\n",
       "    <tr>\n",
       "      <td>4115</td>\n",
       "      <td>-1.088966</td>\n",
       "      <td>-0.921426</td>\n",
       "      <td>-0.390113</td>\n",
       "      <td>40500.0</td>\n",
       "      <td>0.0</td>\n",
       "      <td>0.0</td>\n",
       "      <td>1.0</td>\n",
       "      <td>0.0</td>\n",
       "      <td>0.0</td>\n",
       "      <td>0.0</td>\n",
       "      <td>...</td>\n",
       "      <td>0.0</td>\n",
       "      <td>0.0</td>\n",
       "      <td>0.0</td>\n",
       "      <td>0.0</td>\n",
       "      <td>0.0</td>\n",
       "      <td>0.0</td>\n",
       "      <td>0.0</td>\n",
       "      <td>1.0</td>\n",
       "      <td>0.0</td>\n",
       "      <td>1.0</td>\n",
       "    </tr>\n",
       "  </tbody>\n",
       "</table>\n",
       "<p>4116 rows × 28 columns</p>\n",
       "</div>"
      ],
      "text/plain": [
       "      date_circulation  kilometrage     nb_ch  priceString  Audi  Bmw  \\\n",
       "0            -0.757958    -0.435902  2.178194     117500.0   0.0  1.0   \n",
       "1            -1.254470    -1.177929  0.637210     110000.0   0.0  0.0   \n",
       "2            -0.095941     0.480180  0.123548     700000.0   0.0  0.0   \n",
       "3             0.235067     0.571788  0.637210      23000.0   0.0  0.0   \n",
       "4            -0.592453    -0.344294  0.123548      48500.0   0.0  0.0   \n",
       "...                ...          ...       ...          ...   ...  ...   \n",
       "4111         -0.592453     0.095425  0.123548      19900.0   0.0  0.0   \n",
       "4112          0.400572    -0.161078  0.637210      18500.0   0.0  0.0   \n",
       "4113          1.228092     0.452697 -0.390113      14000.0   0.0  0.0   \n",
       "4114          1.228092     0.452697 -0.390113     140000.0   0.0  0.0   \n",
       "4115         -1.088966    -0.921426 -0.390113      40500.0   0.0  0.0   \n",
       "\n",
       "      Citroen  Fiat  Ford  Hyundai  ...  Opel  Peugeot  Renault  Seat  Toyota  \\\n",
       "0         0.0   0.0   0.0      0.0  ...   0.0      0.0      0.0   0.0     0.0   \n",
       "1         0.0   0.0   0.0      0.0  ...   0.0      0.0      0.0   0.0     0.0   \n",
       "2         1.0   0.0   0.0      0.0  ...   0.0      0.0      0.0   0.0     0.0   \n",
       "3         0.0   0.0   1.0      0.0  ...   0.0      0.0      0.0   0.0     0.0   \n",
       "4         0.0   0.0   0.0      0.0  ...   0.0      1.0      0.0   0.0     0.0   \n",
       "...       ...   ...   ...      ...  ...   ...      ...      ...   ...     ...   \n",
       "4111      0.0   0.0   0.0      0.0  ...   0.0      1.0      0.0   0.0     0.0   \n",
       "4112      0.0   0.0   0.0      0.0  ...   0.0      1.0      0.0   0.0     0.0   \n",
       "4113      0.0   0.0   0.0      0.0  ...   0.0      0.0      0.0   0.0     0.0   \n",
       "4114      0.0   0.0   0.0      0.0  ...   0.0      0.0      0.0   0.0     0.0   \n",
       "4115      1.0   0.0   0.0      0.0  ...   0.0      0.0      0.0   0.0     0.0   \n",
       "\n",
       "      Volkswagen  Diesel  Essence  Automatique  Mécanique  \n",
       "0            0.0     0.0      1.0          1.0        0.0  \n",
       "1            0.0     0.0      1.0          1.0        0.0  \n",
       "2            0.0     1.0      0.0          0.0        1.0  \n",
       "3            0.0     0.0      1.0          0.0        1.0  \n",
       "4            0.0     0.0      1.0          0.0        1.0  \n",
       "...          ...     ...      ...          ...        ...  \n",
       "4111         0.0     0.0      1.0          0.0        1.0  \n",
       "4112         0.0     0.0      1.0          0.0        1.0  \n",
       "4113         1.0     0.0      1.0          0.0        1.0  \n",
       "4114         1.0     0.0      1.0          0.0        1.0  \n",
       "4115         0.0     0.0      1.0          0.0        1.0  \n",
       "\n",
       "[4116 rows x 28 columns]"
      ]
     },
     "execution_count": 56,
     "metadata": {},
     "output_type": "execute_result"
    }
   ],
   "source": [
    "DataFrame"
   ]
  },
  {
   "cell_type": "markdown",
   "metadata": {},
   "source": [
    "## **Reduction De dimension**"
   ]
  },
  {
   "cell_type": "markdown",
   "metadata": {},
   "source": [
    "### Analayse de composante principale ACP"
   ]
  },
  {
   "cell_type": "code",
   "execution_count": 150,
   "metadata": {},
   "outputs": [],
   "source": [
    "from sklearn.decomposition import PCA"
   ]
  },
  {
   "cell_type": "code",
   "execution_count": 152,
   "metadata": {},
   "outputs": [],
   "source": [
    "pca = PCA(n_components=0.99)\n",
    "pca1 = PCA()\n",
    "X_pca1 = pca.fit_transform(X)"
   ]
  },
  {
   "cell_type": "code",
   "execution_count": 161,
   "metadata": {},
   "outputs": [
    {
     "data": {
      "text/plain": [
       "(4116, 18)"
      ]
     },
     "execution_count": 161,
     "metadata": {},
     "output_type": "execute_result"
    }
   ],
   "source": [
    "df_reduced= pd.DataFrame(X_pca1,columns=['PC1','PC2' ,'PC3','PC4','PC5','PC6','PC7','PC8','PC9','PC10','PC11','PC12'\n",
    "                          ,'PC13','PC14','PC15','PC16','PC17','PC18' ]) \n",
    "X_pca1.shape"
   ]
  },
  {
   "cell_type": "code",
   "execution_count": 162,
   "metadata": {},
   "outputs": [],
   "source": [
    "def display_circles(pcs, n_comp, pca, axis_ranks, labels=None, label_rotation=0, lims=None):\n",
    "    for d1, d2 in axis_ranks: # On affiche les 3 premiers plans factoriels, donc les 6 premières composantes\n",
    "        if d2 < n_comp:\n",
    "\n",
    "            # initialisation de la figure\n",
    "            fig, ax = plt.subplots(figsize=(6,6))\n",
    "\n",
    "            # détermination des limites du graphique\n",
    "            if lims is not None :\n",
    "                xmin, xmax, ymin, ymax = lims\n",
    "            elif pcs.shape[1] < 30 :\n",
    "                xmin, xmax, ymin, ymax = -1, 1, -1, 1\n",
    "            else :\n",
    "                xmin, xmax, ymin, ymax = min(pcs[d1,:]), max(pcs[d1,:]), min(pcs[d2,:]), max(pcs[d2,:])\n",
    "\n",
    "            # affichage des flèches\n",
    "            # s'il y a plus de 30 flèches, on n'affiche pas le triangle à leur extrémité\n",
    "            if pcs.shape[1] < 30 :\n",
    "                plt.quiver(np.zeros(pcs.shape[1]), np.zeros(pcs.shape[1]),\n",
    "                   pcs[d1,:], pcs[d2,:], \n",
    "                   angles='xy', scale_units='xy', scale=1, color=\"grey\")\n",
    "                # (voir la doc : https://matplotlib.org/api/_as_gen/matplotlib.pyplot.quiver.html)\n",
    "            else:\n",
    "                lines = [[[0,0],[x,y]] for x,y in pcs[[d1,d2]].T]\n",
    "                ax.add_collection(LineCollection(lines, axes=ax, alpha=.1, color='black'))\n",
    "            \n",
    "            # affichage des noms des variables  \n",
    "            if labels is not None:  \n",
    "                for i,(x, y) in enumerate(pcs[[d1,d2]].T):\n",
    "                    if x >= xmin and x <= xmax and y >= ymin and y <= ymax :\n",
    "                        plt.text(x, y, labels[i], fontsize='14', ha='center', va='center', rotation=label_rotation, color=\"blue\", alpha=0.5)\n",
    "            \n",
    "            # affichage du cercle\n",
    "            circle = plt.Circle((0,0), 1, facecolor='none', edgecolor='b')\n",
    "            plt.gca().add_artist(circle)\n",
    "\n",
    "            # définition des limites du graphique\n",
    "            plt.xlim(xmin, xmax)\n",
    "            plt.ylim(ymin, ymax)\n",
    "        \n",
    "            # affichage des lignes horizontales et verticales\n",
    "            plt.plot([-1, 1], [0, 0], color='grey', ls='--')\n",
    "            plt.plot([0, 0], [-1, 1], color='grey', ls='--')\n",
    "\n",
    "            # nom des axes, avec le pourcentage d'inertie expliqué\n",
    "            plt.xlabel('F{} ({}%)'.format(d1+1, round(100*pca.explained_variance_ratio_[d1],1)))\n",
    "            plt.ylabel('F{} ({}%)'.format(d2+1, round(100*pca.explained_variance_ratio_[d2],1)))\n",
    "\n",
    "            plt.title(\"Cercle des corrélations (F{} et F{})\".format(d1+1, d2+1))\n",
    "            plt.show(block=False)\n",
    "        \n",
    "def display_factorial_planes(X_projected, n_comp, pca, axis_ranks, labels=None, alpha=1, illustrative_var=None):\n",
    "    for d1,d2 in axis_ranks:\n",
    "        if d2 < n_comp:\n",
    " \n",
    "            # initialisation de la figure       \n",
    "            fig = plt.figure(figsize=(7,6))\n",
    "        \n",
    "            # affichage des points\n",
    "            if illustrative_var is None:\n",
    "                plt.scatter(X_projected[:, d1], X_projected[:, d2], alpha=alpha)\n",
    "            else:\n",
    "                illustrative_var = np.array(illustrative_var)\n",
    "                for value in np.unique(illustrative_var):\n",
    "                    selected = np.where(illustrative_var == value)\n",
    "                    plt.scatter(X_projected[selected, d1], X_projected[selected, d2], alpha=alpha, label=value)\n",
    "                plt.legend()\n",
    "\n",
    "            # affichage des labels des points\n",
    "            if labels is not None:\n",
    "                for i,(x,y) in enumerate(X_projected[:,[d1,d2]]):\n",
    "                    plt.text(x, y, labels[i],\n",
    "                              fontsize='14', ha='center',va='center') \n",
    "                \n",
    "            # détermination des limites du graphique\n",
    "            boundary = np.max(np.abs(X_projected[:, [d1,d2]])) * 1.1\n",
    "            plt.xlim([-boundary,boundary])\n",
    "            plt.ylim([-boundary,boundary])\n",
    "        \n",
    "            # affichage des lignes horizontales et verticales\n",
    "            plt.plot([-100, 100], [0, 0], color='grey', ls='--')\n",
    "            plt.plot([0, 0], [-100, 100], color='grey', ls='--')\n",
    "\n",
    "            # nom des axes, avec le pourcentage d'inertie expliqué\n",
    "            plt.xlabel('F{} ({}%)'.format(d1+1, round(100*pca.explained_variance_ratio_[d1],1)))\n",
    "            plt.ylabel('F{} ({}%)'.format(d2+1, round(100*pca.explained_variance_ratio_[d2],1)))\n",
    "\n",
    "            plt.title(\"Projection des individus (sur F{} et F{})\".format(d1+1, d2+1))\n",
    "            plt.show(block=False)"
   ]
  },
  {
   "cell_type": "code",
   "execution_count": 163,
   "metadata": {},
   "outputs": [],
   "source": [
    "def display_factorial_planes(X_projected, n_comp, pca, axis_ranks, labels=None, alpha=1, illustrative_var=None):\n",
    "    for d1,d2 in axis_ranks:\n",
    "        if d2 < n_comp:\n",
    " \n",
    "            # initialisation de la figure       \n",
    "            fig = plt.figure(figsize=(7,6))\n",
    "        \n",
    "            # affichage des points\n",
    "            if illustrative_var is None:\n",
    "                plt.scatter(X_projected[:, d1], X_projected[:, d2], alpha=alpha)\n",
    "            else:\n",
    "                illustrative_var = np.array(illustrative_var)\n",
    "                for value in np.unique(illustrative_var):\n",
    "                    selected = np.where(illustrative_var == value)\n",
    "                    plt.scatter(X_projected[selected, d1], X_projected[selected, d2], alpha=alpha, label=value)\n",
    "                plt.legend()\n",
    "\n",
    "            # affichage des labels des points\n",
    "            if labels is not None:\n",
    "                for i,(x,y) in enumerate(X_projected[:,[d1,d2]]):\n",
    "                    plt.text(x, y, labels[i],\n",
    "                              fontsize='14', ha='center',va='center') \n",
    "                \n",
    "            # détermination des limites du graphique\n",
    "            boundary = np.max(np.abs(X_projected[:, [d1,d2]])) * 1.1\n",
    "            plt.xlim([-boundary,boundary])\n",
    "            plt.ylim([-boundary,boundary])\n",
    "        \n",
    "            # affichage des lignes horizontales et verticales\n",
    "            plt.plot([-100, 100], [0, 0], color='grey', ls='--')\n",
    "            plt.plot([0, 0], [-100, 100], color='grey', ls='--')\n",
    "\n",
    "            # nom des axes, avec le pourcentage d'inertie expliqué\n",
    "            plt.xlabel('F{} ({}%)'.format(d1+1, round(100*pca.explained_variance_ratio_[d1],1)))\n",
    "            plt.ylabel('F{} ({}%)'.format(d2+1, round(100*pca.explained_variance_ratio_[d2],1)))\n",
    "\n",
    "            plt.title(\"Projection des individus (sur F{} et F{})\".format(d1+1, d2+1))\n",
    "            plt.show(block=False)"
   ]
  },
  {
   "cell_type": "code",
   "execution_count": 164,
   "metadata": {},
   "outputs": [],
   "source": [
    "def display_scree_plot(pca):\n",
    "    scree = pca.explained_variance_ratio_*100\n",
    "    plt.bar(np.arange(len(scree))+1, scree)\n",
    "    plt.plot(np.arange(len(scree))+1, scree.cumsum(),c=\"red\",marker='o')\n",
    "    plt.xlabel(\"rang de l'axe d'inertie\")\n",
    "    plt.ylabel(\"pourcentage d'inertie\")\n",
    "    plt.title(\"Eboulis des valeurs propres\")\n",
    "    plt.show(block=False)"
   ]
  },
  {
   "cell_type": "code",
   "execution_count": 165,
   "metadata": {},
   "outputs": [
    {
     "data": {
      "image/png": "[encoded data removed]",
      "text/plain": [
       "<Figure size 432x288 with 1 Axes>"
      ]
     },
     "metadata": {
      "needs_background": "light"
     },
     "output_type": "display_data"
    }
   ],
   "source": [
    "display_scree_plot(pca)"
   ]
  },
  {
   "cell_type": "markdown",
   "metadata": {},
   "source": [
    "- Les quatre premiers composantes contribuent énormément , la premiére composante contribue de 37%, la deuxiéme composante contribue de 22%, la troisiéme contribue de 12% et la quatriéme de 7%."
   ]
  },
  {
   "cell_type": "code",
   "execution_count": 166,
   "metadata": {},
   "outputs": [
    {
     "data": {
      "text/plain": [
       "array([0.37165329, 0.22391525, 0.11891949, 0.07502557, 0.03609822,\n",
       "       0.03309953, 0.025853  , 0.01796066, 0.01405065, 0.01292909,\n",
       "       0.0122026 , 0.01005151, 0.00882549, 0.00817938, 0.00672914,\n",
       "       0.00630734, 0.00570159, 0.00457286])"
      ]
     },
     "execution_count": 166,
     "metadata": {},
     "output_type": "execute_result"
    }
   ],
   "source": [
    "pca.explained_variance_ratio_"
   ]
  },
  {
   "cell_type": "code",
   "execution_count": 171,
   "metadata": {},
   "outputs": [],
   "source": [
    "composantes = pca.components_"
   ]
  },
  {
   "cell_type": "code",
   "execution_count": 174,
   "metadata": {},
   "outputs": [],
   "source": [
    "nbre_composantes = X_pca1.shape[1]\n",
    "columns=X.columns"
   ]
  },
  {
   "cell_type": "code",
   "execution_count": 176,
   "metadata": {},
   "outputs": [
    {
     "data": {
      "image/png": "[encoded data removed]",
      "text/plain": [
       "<Figure size 432x432 with 1 Axes>"
      ]
     },
     "metadata": {
      "needs_background": "light"
     },
     "output_type": "display_data"
    }
   ],
   "source": [
    "display_circles(composantes, nbre_composantes, pca,axis_ranks= [(0,1)], labels= np.array(columns))"
   ]
  },
  {
   "cell_type": "code",
   "execution_count": 177,
   "metadata": {},
   "outputs": [
    {
     "data": {
      "image/png": "[encoded data removed]",
      "text/plain": [
       "<Figure size 432x432 with 1 Axes>"
      ]
     },
     "metadata": {
      "needs_background": "light"
     },
     "output_type": "display_data"
    }
   ],
   "source": [
    "display_circles(composantes, nbre_composantes, pca,axis_ranks= [(1,2)], labels= np.array(columns))"
   ]
  },
  {
   "cell_type": "code",
   "execution_count": 179,
   "metadata": {},
   "outputs": [
    {
     "data": {
      "image/png": "[encoded data removed]",
      "text/plain": [
       "<Figure size 504x432 with 1 Axes>"
      ]
     },
     "metadata": {
      "needs_background": "light"
     },
     "output_type": "display_data"
    },
    {
     "data": {
      "image/png": "[encoded data removed]",
      "text/plain": [
       "<Figure size 504x432 with 1 Axes>"
      ]
     },
     "metadata": {
      "needs_background": "light"
     },
     "output_type": "display_data"
    }
   ],
   "source": [
    "X_projected = pca.transform(X)\n",
    "display_factorial_planes(X_projected, nbre_composantes, pca, [(0,1),(2,3)])"
   ]
  },
  {
   "cell_type": "markdown",
   "metadata": {},
   "source": [
    "## **Train Test**"
   ]
  },
  {
   "cell_type": "code",
   "execution_count": 57,
   "metadata": {},
   "outputs": [],
   "source": [
    "from sklearn.model_selection import train_test_split"
   ]
  },
  {
   "cell_type": "code",
   "execution_count": 58,
   "metadata": {},
   "outputs": [],
   "source": [
    "y = DataFrame['priceString']\n",
    "X = DataFrame.drop('priceString', axis=1) #axis=1 c'est pour indiquer les colonnes"
   ]
  },
  {
   "cell_type": "code",
   "execution_count": 59,
   "metadata": {},
   "outputs": [],
   "source": [
    "X_train,X_test,y_train,y_test = train_test_split(X,y,test_size=0.2)"
   ]
  },
  {
   "cell_type": "markdown",
   "metadata": {},
   "source": [
    "# Modelisation"
   ]
  },
  {
   "cell_type": "markdown",
   "metadata": {},
   "source": [
    "### 1) Linear regression"
   ]
  },
  {
   "cell_type": "code",
   "execution_count": 60,
   "metadata": {},
   "outputs": [],
   "source": [
    "from sklearn.linear_model import LinearRegression"
   ]
  },
  {
   "cell_type": "code",
   "execution_count": 61,
   "metadata": {},
   "outputs": [
    {
     "data": {
      "text/plain": [
       "LinearRegression(copy_X=True, fit_intercept=True, n_jobs=None, normalize=False)"
      ]
     },
     "execution_count": 61,
     "metadata": {},
     "output_type": "execute_result"
    }
   ],
   "source": [
    "model = LinearRegression()\n",
    "model.fit(X_train, y_train)"
   ]
  },
  {
   "cell_type": "code",
   "execution_count": 63,
   "metadata": {},
   "outputs": [
    {
     "data": {
      "text/plain": [
       "0.21318734382810944"
      ]
     },
     "execution_count": 63,
     "metadata": {},
     "output_type": "execute_result"
    }
   ],
   "source": [
    "model.predict(X_test)\n",
    "model.score(X_test, y_test)"
   ]
  },
  {
   "cell_type": "markdown",
   "metadata": {},
   "source": [
    "### Cross Validation"
   ]
  },
  {
   "cell_type": "code",
   "execution_count": 121,
   "metadata": {},
   "outputs": [],
   "source": [
    "from sklearn.model_selection import cross_val_score\n",
    "from sklearn.model_selection import cross_val_predict"
   ]
  },
  {
   "cell_type": "code",
   "execution_count": 96,
   "metadata": {},
   "outputs": [
    {
     "data": {
      "text/plain": [
       "0.3299394994042527"
      ]
     },
     "execution_count": 96,
     "metadata": {},
     "output_type": "execute_result"
    }
   ],
   "source": [
    "cross_val_score(LinearRegression(), X_train, y_train, cv=5).mean()"
   ]
  },
  {
   "cell_type": "code",
   "execution_count": 119,
   "metadata": {},
   "outputs": [
    {
     "data": {
      "text/plain": [
       "marque                      Bmw\n",
       "carburant               Essence\n",
       "date_circulation      -0.753111\n",
       "kilometrage                   0\n",
       "nb_ch                   2.17819\n",
       "boite_vitesse       Automatique\n",
       "priceString              117500\n",
       "Name: 0, dtype: object"
      ]
     },
     "execution_count": 119,
     "metadata": {},
     "output_type": "execute_result"
    }
   ],
   "source": [
    "df.iloc[0]"
   ]
  },
  {
   "cell_type": "code",
   "execution_count": 124,
   "metadata": {},
   "outputs": [],
   "source": [
    "y_pred = cross_val_predict(LinearRegression(), X_train, y_train, cv=5)"
   ]
  },
  {
   "cell_type": "code",
   "execution_count": 135,
   "metadata": {},
   "outputs": [
    {
     "data": {
      "text/plain": [
       "3530.8344118630484"
      ]
     },
     "execution_count": 135,
     "metadata": {},
     "output_type": "execute_result"
    }
   ],
   "source": [
    "y_pred[1001]"
   ]
  },
  {
   "cell_type": "code",
   "execution_count": 134,
   "metadata": {},
   "outputs": [
    {
     "data": {
      "text/plain": [
       "46000.0"
      ]
     },
     "execution_count": 134,
     "metadata": {},
     "output_type": "execute_result"
    }
   ],
   "source": [
    "y_train[1001]"
   ]
  },
  {
   "cell_type": "markdown",
   "metadata": {},
   "source": [
    "### 2) Ridge regression"
   ]
  },
  {
   "cell_type": "code",
   "execution_count": 64,
   "metadata": {},
   "outputs": [],
   "source": [
    "from sklearn.linear_model import Ridge"
   ]
  },
  {
   "cell_type": "code",
   "execution_count": 70,
   "metadata": {},
   "outputs": [
    {
     "data": {
      "text/plain": [
       "Ridge(alpha=1.0, copy_X=True, fit_intercept=True, max_iter=None,\n",
       "      normalize=False, random_state=None, solver='auto', tol=0.001)"
      ]
     },
     "execution_count": 70,
     "metadata": {},
     "output_type": "execute_result"
    }
   ],
   "source": [
    "modelRidge = Ridge(alpha=1.0)\n",
    "modelRidge.fit(X_train, y_train)"
   ]
  },
  {
   "cell_type": "code",
   "execution_count": 71,
   "metadata": {},
   "outputs": [
    {
     "data": {
      "text/plain": [
       "0.21327439652324928"
      ]
     },
     "execution_count": 71,
     "metadata": {},
     "output_type": "execute_result"
    }
   ],
   "source": [
    "modelRidge.predict(X_test)\n",
    "modelRidge.score(X_test, y_test)"
   ]
  },
  {
   "cell_type": "markdown",
   "metadata": {},
   "source": [
    "### Cross Validation"
   ]
  },
  {
   "cell_type": "code",
   "execution_count": 99,
   "metadata": {},
   "outputs": [
    {
     "data": {
      "text/plain": [
       "0.3305919771131435"
      ]
     },
     "execution_count": 99,
     "metadata": {},
     "output_type": "execute_result"
    }
   ],
   "source": [
    "cross_val_score(Ridge(alpha=1.0), X_train, y_train, cv=5).mean()"
   ]
  },
  {
   "cell_type": "markdown",
   "metadata": {},
   "source": [
    "### 3) Lasso"
   ]
  },
  {
   "cell_type": "code",
   "execution_count": 73,
   "metadata": {},
   "outputs": [],
   "source": [
    "from sklearn import linear_model"
   ]
  },
  {
   "cell_type": "code",
   "execution_count": 74,
   "metadata": {},
   "outputs": [
    {
     "name": "stderr",
     "output_type": "stream",
     "text": [
      "D:\\Users\\21620\\Anaconda3\\lib\\site-packages\\sklearn\\linear_model\\coordinate_descent.py:475: ConvergenceWarning: Objective did not converge. You might want to increase the number of iterations. Duality gap: 185252888944.8462, tolerance: 360862891.7811265\n",
      "  positive)\n"
     ]
    },
    {
     "data": {
      "text/plain": [
       "Lasso(alpha=0.1, copy_X=True, fit_intercept=True, max_iter=1000,\n",
       "      normalize=False, positive=False, precompute=False, random_state=None,\n",
       "      selection='cyclic', tol=0.0001, warm_start=False)"
      ]
     },
     "execution_count": 74,
     "metadata": {},
     "output_type": "execute_result"
    }
   ],
   "source": [
    "modelLasso = linear_model.Lasso(alpha=0.1)\n",
    "modelLasso.fit(X_train, y_train)"
   ]
  },
  {
   "cell_type": "code",
   "execution_count": 77,
   "metadata": {},
   "outputs": [
    {
     "data": {
      "text/plain": [
       "0.21272788823034317"
      ]
     },
     "execution_count": 77,
     "metadata": {},
     "output_type": "execute_result"
    }
   ],
   "source": [
    "modelLasso.predict(X_test)\n",
    "modelLasso.score(X_test, y_test)"
   ]
  },
  {
   "cell_type": "markdown",
   "metadata": {},
   "source": [
    "### Cross Validation"
   ]
  },
  {
   "cell_type": "markdown",
   "metadata": {},
   "source": [
    "#### Méthode 1"
   ]
  },
  {
   "cell_type": "code",
   "execution_count": 142,
   "metadata": {},
   "outputs": [
    {
     "name": "stderr",
     "output_type": "stream",
     "text": [
      "D:\\Users\\21620\\Anaconda3\\lib\\site-packages\\sklearn\\model_selection\\_split.py:1978: FutureWarning: The default value of cv will change from 3 to 5 in version 0.22. Specify it explicitly to silence this warning.\n",
      "  warnings.warn(CV_WARNING, FutureWarning)\n"
     ]
    },
    {
     "data": {
      "text/plain": [
       "0.21596126318404263"
      ]
     },
     "execution_count": 142,
     "metadata": {},
     "output_type": "execute_result"
    }
   ],
   "source": [
    "from sklearn.linear_model import LassoCV\n",
    "lassoCV = linear_model.LassoCV()\n",
    "lassoCV.fit(X, y)\n",
    "lassoCV.predict(X_test)\n",
    "lassoCV.score(X_test, y_test)"
   ]
  },
  {
   "cell_type": "markdown",
   "metadata": {},
   "source": [
    "#### Méthode 2"
   ]
  },
  {
   "cell_type": "code",
   "execution_count": 102,
   "metadata": {},
   "outputs": [
    {
     "name": "stderr",
     "output_type": "stream",
     "text": [
      "D:\\Users\\21620\\Anaconda3\\lib\\site-packages\\sklearn\\linear_model\\coordinate_descent.py:475: ConvergenceWarning: Objective did not converge. You might want to increase the number of iterations. Duality gap: 167563803930.38086, tolerance: 318640261.8613924\n",
      "  positive)\n",
      "D:\\Users\\21620\\Anaconda3\\lib\\site-packages\\sklearn\\linear_model\\coordinate_descent.py:475: ConvergenceWarning: Objective did not converge. You might want to increase the number of iterations. Duality gap: 182077415657.9453, tolerance: 276646138.302918\n",
      "  positive)\n",
      "D:\\Users\\21620\\Anaconda3\\lib\\site-packages\\sklearn\\linear_model\\coordinate_descent.py:475: ConvergenceWarning: Objective did not converge. You might want to increase the number of iterations. Duality gap: 164605637658.83618, tolerance: 323344546.8936508\n",
      "  positive)\n",
      "D:\\Users\\21620\\Anaconda3\\lib\\site-packages\\sklearn\\linear_model\\coordinate_descent.py:475: ConvergenceWarning: Objective did not converge. You might want to increase the number of iterations. Duality gap: 90952020809.15259, tolerance: 214052827.03676662\n",
      "  positive)\n",
      "D:\\Users\\21620\\Anaconda3\\lib\\site-packages\\sklearn\\linear_model\\coordinate_descent.py:475: ConvergenceWarning: Objective did not converge. You might want to increase the number of iterations. Duality gap: 185934909087.48486, tolerance: 310488761.04625905\n",
      "  positive)\n"
     ]
    },
    {
     "data": {
      "text/plain": [
       "0.3314432326195985"
      ]
     },
     "execution_count": 102,
     "metadata": {},
     "output_type": "execute_result"
    }
   ],
   "source": [
    "cross_val_score(linear_model.Lasso(alpha=0.1), X_train, y_train, cv=5).mean()"
   ]
  },
  {
   "cell_type": "markdown",
   "metadata": {},
   "source": [
    "### 4) ElasticNet"
   ]
  },
  {
   "cell_type": "code",
   "execution_count": 79,
   "metadata": {},
   "outputs": [],
   "source": [
    "from sklearn.linear_model import ElasticNet"
   ]
  },
  {
   "cell_type": "code",
   "execution_count": 80,
   "metadata": {},
   "outputs": [
    {
     "data": {
      "text/plain": [
       "ElasticNet(alpha=1.0, copy_X=True, fit_intercept=True, l1_ratio=0.5,\n",
       "           max_iter=1000, normalize=False, positive=False, precompute=False,\n",
       "           random_state=0, selection='cyclic', tol=0.0001, warm_start=False)"
      ]
     },
     "execution_count": 80,
     "metadata": {},
     "output_type": "execute_result"
    }
   ],
   "source": [
    "modelElastic = ElasticNet(random_state=0)\n",
    "modelElastic.fit(X, y)"
   ]
  },
  {
   "cell_type": "code",
   "execution_count": 81,
   "metadata": {},
   "outputs": [
    {
     "data": {
      "text/plain": [
       "0.11369432562823112"
      ]
     },
     "execution_count": 81,
     "metadata": {},
     "output_type": "execute_result"
    }
   ],
   "source": [
    "modelElastic.predict(X_test)\n",
    "modelElastic.score(X_test, y_test)"
   ]
  },
  {
   "cell_type": "markdown",
   "metadata": {},
   "source": [
    "### Cross Validation"
   ]
  },
  {
   "cell_type": "code",
   "execution_count": 106,
   "metadata": {},
   "outputs": [
    {
     "data": {
      "text/plain": [
       "0.17978152317463952"
      ]
     },
     "execution_count": 106,
     "metadata": {},
     "output_type": "execute_result"
    }
   ],
   "source": [
    "cross_val_score(ElasticNet(random_state=0), X_train, y_train, cv=5).mean()"
   ]
  }
 ],
 "metadata": {
  "kernelspec": {
   "display_name": "Python 3",
   "language": "python",
   "name": "python3"
  },
  "language_info": {
   "codemirror_mode": {
    "name": "ipython",
    "version": 3
   },
   "file_extension": ".py",
   "mimetype": "text/x-python",
   "name": "python",
   "nbconvert_exporter": "python",
   "pygments_lexer": "ipython3",
   "version": "3.6.9"
  }
 },
 "nbformat": 4,
 "nbformat_minor": 4
}
